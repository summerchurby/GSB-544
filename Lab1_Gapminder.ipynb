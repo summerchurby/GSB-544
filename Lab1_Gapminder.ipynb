{
 "cells": [
  {
   "cell_type": "markdown",
   "metadata": {},
   "source": [
    "Task 1\n",
    "Below is a plot of a visualization in Gapminder (the default/starting one actually). Look it over and take note of the variables being visualized.\n",
    "\n",
    "\n",
    "\n",
    "\n",
    "1. Identify, and list here, what aesthetics are being used and which variables are being mapped to each aesthetic.\n",
    "\n",
    "- The aesthetics in this plot is represented by the variables used. \n",
    "- The aesthetic is Income on the x-axis, Life Expectancy on the y-axis. \n",
    "- The colors (fill) of the country bubbles are represented by regions: green for North and South America, yellow for Europe, blue for Africa, and red for Asia. \n",
    "- The size of the bubbles are reprsented by the population of the country. "
   ]
  }
 ],
 "metadata": {
  "language_info": {
   "name": "python"
  }
 },
 "nbformat": 4,
 "nbformat_minor": 2
}
