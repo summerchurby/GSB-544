{
 "cells": [
  {
   "cell_type": "markdown",
   "metadata": {},
   "source": [
    "Task 1\n",
    "Below is a plot of a visualization in Gapminder (the default/starting one actually). Look it over and take note of the variables being visualized.\n",
    "\n",
    "\n",
    "\n",
    "\n",
    "1. Identify, and list here, what aesthetics are being used and which variables are being mapped to each aesthetic.\n",
    "\n",
    "- The aesthetics in this plot are represented by the variables used. \n",
    "- The aesthetic is Income on the x-axis, Life Expectancy on the y-axis. \n",
    "- The colors (fill) of the country bubbles are represented by regions: green for North and South America, yellow for Europe, blue for Africa, and red for Asia. \n",
    "- The size of the bubbles are reprsented by the population of the country. \n",
    "\n",
    "2. Import the q1data.csv dataset.\n",
    "\n",
    "3. Recreate the plot as best you can using plotnine."
   ]
  },
  {
   "cell_type": "code",
   "execution_count": null,
   "metadata": {},
   "outputs": [],
   "source": [
    "import pandas as pd\n",
    "\n",
    "# import data set\n",
    "q1data = pd.read_csv(\"/Users/achur/OneDrive/Desktop/School/CP Fall 2024/544/q1data.csv\")\n",
    "# remove any missing values\n",
    "q1data = q1data.dropna()\n",
    "\n",
    "from plotnine import ggplot, geom_point, aes, labs, scale_size, scale_y_continuous, geom_text, facet_wrap\n",
    "from plotnine import theme, theme_bw, scale_x_log10, scale_fill_manual, element_text, geom_histogram, guides, guide_legend"
   ]
  },
  {
   "cell_type": "code",
   "execution_count": null,
   "metadata": {},
   "outputs": [],
   "source": [
    "# create plot\n",
    "\n",
    "(ggplot(q1data,\n",
    "    aes( x = \"income\", y = \"life_exp\", size = \"population\", fill = \"four_regions\"))\n",
    "    + geom_text(aes(x = 7000, y = 60, label = \"2010\"), size = 120, color = \"lightgrey\")\n",
    "    + geom_point(alpha = 0.6, color = \"black\", stroke = 0.5)\n",
    "    + labs(x = \"Income\", y = \"Life Expectancy\", fill = \"World Regions\")\n",
    "    + scale_size(range = [.1, 24])\n",
    "    + scale_x_log10(limits = [0, 128000], \n",
    "    breaks = [500, 1000, 2000, 4000, 8000, 16000, 32000, 64000], \n",
    "    labels = [\"500\", \"1000\", \"2000\", \"4000\", \"8000\", \"16000\", \"32000\", \"64000\"])\n",
    "    + scale_y_continuous(limits = (10, 90), breaks = range(10, 91, 10))\n",
    "    + scale_fill_manual(values = {\"africa\": \"aqua\", \"americas\": \"lime\", \"europe\": \"yellow\", \"asia\": \"lightcoral\"})\n",
    "    + theme_bw()\n",
    "    + guides(size = False, fill = guide_legend(override_aes = {\"size\": 2}))\n",
    "    + theme(text = element_text(family = \"Keyboard\", size = 14), \n",
    "    axis_title = element_text(family = \"Keyboard\", size = 12, color = \"black\"), \n",
    "    axis_text = element_text(family = \"Keyboard\", size = 10, color = \"gray\"), \n",
    "    legend_title = element_text(size = 6),\n",
    "    legend_text = element_text(size = 4))\n",
    "    )"
   ]
  },
  {
   "cell_type": "markdown",
   "metadata": {},
   "source": [
    "4. What other geometries could you use here besides geom_point? Provide an actual plot of another geometry being used here and why it’s good or bad for visualizing these data.\n",
    "\n"
   ]
  },
  {
   "cell_type": "code",
   "execution_count": 50,
   "metadata": {},
   "outputs": [],
   "source": [
    "# Create plot using different geometry"
   ]
  },
  {
   "cell_type": "markdown",
   "metadata": {},
   "source": [
    "Task 2\n",
    "Below is another plot of a visualization in Gapminder. Look it over and take note of the variables being visualized.\n",
    "\n",
    "1. Identify, and list here, what aesthetics are being used and which variables are being mapped to each aesthetic.\n",
    "- The aesthetics in this plot are represented by the variables used. \n",
    "- The aesthetic is Exports (% of GDP) on the x-axis, Imports (% of GDP) on the y-axis. \n",
    "- The colors (fill) of the country bubbles are represented by regions: green for North and South America, yellow for Europe, blue for Africa, and red for Asia. \n",
    "- The size of the bubbles are reprsented by the population of the country. \n",
    "\n",
    "2. Import the q2data.csv dataset.\n",
    "\n",
    "3. Recreate the plot as best you can using plotnine."
   ]
  },
  {
   "cell_type": "code",
   "execution_count": null,
   "metadata": {},
   "outputs": [],
   "source": [
    "# import data set\n",
    "q1data = pd.read_csv(\"/Users/achur/OneDrive/Desktop/School/CP Fall 2024/544/q2data.csv\")\n",
    "# remove any missing values\n",
    "q1data = q1data.dropna()"
   ]
  },
  {
   "cell_type": "code",
   "execution_count": null,
   "metadata": {},
   "outputs": [],
   "source": [
    "# Create plot\n",
    "\n",
    "(ggplot(q1data,\n",
    "    aes( x = \"income\", y = \"life_exp\", size = \"population\", fill = \"four_regions\"))\n",
    "    + geom_text(aes(x = 7000, y = 60, label = \"2010\"), size = 120, color = \"lightgrey\")\n",
    "    + geom_point(alpha = 0.6, color = \"black\", stroke = 0.5)\n",
    "    + labs(x = \"Income\", y = \"Life Expectancy\", fill = \"World Regions\")\n",
    "    + scale_size(range = [.1, 24])\n",
    "    + scale_x_log10(limits = [0, 128000], \n",
    "    breaks = [500, 1000, 2000, 4000, 8000, 16000, 32000, 64000], \n",
    "    labels = [\"500\", \"1000\", \"2000\", \"4000\", \"8000\", \"16000\", \"32000\", \"64000\"])\n",
    "    + scale_y_continuous(limits = (10, 90), breaks = range(10, 91, 10))\n",
    "    + scale_fill_manual(values = {\"africa\": \"aqua\", \"americas\": \"lime\", \"europe\": \"yellow\", \"asia\": \"lightcoral\"})\n",
    "    + theme_bw()\n",
    "    + guides(size = False, fill = guide_legend(override_aes = {\"size\": 2}))\n",
    "    + theme(text = element_text(family = \"Keyboard\", size = 14), \n",
    "    axis_title = element_text(family = \"Keyboard\", size = 12, color = \"black\"), \n",
    "    axis_text = element_text(family = \"Keyboard\", size = 10, color = \"gray\"), \n",
    "    legend_title = element_text(size = 6),\n",
    "    legend_text = element_text(size = 4))\n",
    "    )"
   ]
  }
 ],
 "metadata": {
  "language_info": {
   "name": "python"
  }
 },
 "nbformat": 4,
 "nbformat_minor": 2
}
