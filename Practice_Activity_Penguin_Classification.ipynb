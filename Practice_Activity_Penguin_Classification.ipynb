{
  "cells": [
    {
      "cell_type": "markdown",
      "metadata": {
        "id": "TxbDFsJARAMD"
      },
      "source": [
        "# Palmer Penguins Modeling\n",
        "\n",
        "Import the Palmer Penguins dataset and print out the first few rows.\n",
        "\n",
        "Suppose we want to predict `species` using the other variables in the dataset.\n",
        "\n",
        "**Dummify** all variables that require this."
      ]
    },
    {
      "cell_type": "code",
      "execution_count": 1,
      "metadata": {
        "id": "QV2uolyOQ65C"
      },
      "outputs": [
        {
          "data": {
            "text/html": [
              "<div>\n",
              "<style scoped>\n",
              "    .dataframe tbody tr th:only-of-type {\n",
              "        vertical-align: middle;\n",
              "    }\n",
              "\n",
              "    .dataframe tbody tr th {\n",
              "        vertical-align: top;\n",
              "    }\n",
              "\n",
              "    .dataframe thead th {\n",
              "        text-align: right;\n",
              "    }\n",
              "</style>\n",
              "<table border=\"1\" class=\"dataframe\">\n",
              "  <thead>\n",
              "    <tr style=\"text-align: right;\">\n",
              "      <th></th>\n",
              "      <th>bill_length_mm</th>\n",
              "      <th>bill_depth_mm</th>\n",
              "      <th>flipper_length_mm</th>\n",
              "      <th>body_mass_g</th>\n",
              "      <th>year</th>\n",
              "      <th>species_Chinstrap</th>\n",
              "      <th>species_Gentoo</th>\n",
              "      <th>island_Dream</th>\n",
              "      <th>island_Torgersen</th>\n",
              "      <th>sex_male</th>\n",
              "    </tr>\n",
              "  </thead>\n",
              "  <tbody>\n",
              "    <tr>\n",
              "      <th>0</th>\n",
              "      <td>39.1</td>\n",
              "      <td>18.7</td>\n",
              "      <td>181.0</td>\n",
              "      <td>3750.0</td>\n",
              "      <td>2007</td>\n",
              "      <td>False</td>\n",
              "      <td>False</td>\n",
              "      <td>False</td>\n",
              "      <td>True</td>\n",
              "      <td>True</td>\n",
              "    </tr>\n",
              "    <tr>\n",
              "      <th>1</th>\n",
              "      <td>39.5</td>\n",
              "      <td>17.4</td>\n",
              "      <td>186.0</td>\n",
              "      <td>3800.0</td>\n",
              "      <td>2007</td>\n",
              "      <td>False</td>\n",
              "      <td>False</td>\n",
              "      <td>False</td>\n",
              "      <td>True</td>\n",
              "      <td>False</td>\n",
              "    </tr>\n",
              "    <tr>\n",
              "      <th>2</th>\n",
              "      <td>40.3</td>\n",
              "      <td>18.0</td>\n",
              "      <td>195.0</td>\n",
              "      <td>3250.0</td>\n",
              "      <td>2007</td>\n",
              "      <td>False</td>\n",
              "      <td>False</td>\n",
              "      <td>False</td>\n",
              "      <td>True</td>\n",
              "      <td>False</td>\n",
              "    </tr>\n",
              "    <tr>\n",
              "      <th>3</th>\n",
              "      <td>NaN</td>\n",
              "      <td>NaN</td>\n",
              "      <td>NaN</td>\n",
              "      <td>NaN</td>\n",
              "      <td>2007</td>\n",
              "      <td>False</td>\n",
              "      <td>False</td>\n",
              "      <td>False</td>\n",
              "      <td>True</td>\n",
              "      <td>False</td>\n",
              "    </tr>\n",
              "    <tr>\n",
              "      <th>4</th>\n",
              "      <td>36.7</td>\n",
              "      <td>19.3</td>\n",
              "      <td>193.0</td>\n",
              "      <td>3450.0</td>\n",
              "      <td>2007</td>\n",
              "      <td>False</td>\n",
              "      <td>False</td>\n",
              "      <td>False</td>\n",
              "      <td>True</td>\n",
              "      <td>False</td>\n",
              "    </tr>\n",
              "  </tbody>\n",
              "</table>\n",
              "</div>"
            ],
            "text/plain": [
              "   bill_length_mm  bill_depth_mm  flipper_length_mm  body_mass_g  year  species_Chinstrap  species_Gentoo  island_Dream  island_Torgersen  sex_male\n",
              "0            39.1           18.7              181.0       3750.0  2007              False           False         False              True      True\n",
              "1            39.5           17.4              186.0       3800.0  2007              False           False         False              True     False\n",
              "2            40.3           18.0              195.0       3250.0  2007              False           False         False              True     False\n",
              "3             NaN            NaN                NaN          NaN  2007              False           False         False              True     False\n",
              "4            36.7           19.3              193.0       3450.0  2007              False           False         False              True     False"
            ]
          },
          "execution_count": null,
          "metadata": {},
          "output_type": "execute_result"
        }
      ],
      "source": [
        "import pandas as pd\n",
        "from palmerpenguins import load_penguins\n",
        "penguins = load_penguins()\n",
        "penguins_new = pd.get_dummies(penguins, columns= [\"species\", \"island\", \"sex\"], drop_first = True)\n",
        "penguins_new.head()\n",
        "# test"
      ]
    },
    {
      "cell_type": "markdown",
      "metadata": {
        "id": "HecNBVAnRHod"
      },
      "source": [
        "Let's use the other variables to predict `species`. Prepare your data and fit the following models on the entire dataset:\n",
        "\n",
        "* Two kNN models (for different values of K)\n",
        "* Two decision tree models (for different complexities of trees)\n",
        "\n",
        "Compute the following, for each of your models, on test data. Keep in mind that you may need to stratify your creation of the training and test data.\n",
        "\n",
        "* Confusion matrix\n",
        "* Overall Accuracy\n",
        "* Precision, Recall, AUC, and F1-score for each species\n",
        "\n",
        "Create one ROC plot for the species of your choice."
      ]
    },
    {
      "cell_type": "code",
      "execution_count": null,
      "metadata": {
        "id": "U1onRGJQR8T_"
      },
      "outputs": [],
      "source": [
        "# Code Here"
      ]
    }
  ],
  "metadata": {
    "colab": {
      "provenance": []
    },
    "kernelspec": {
      "display_name": "Python 3",
      "name": "python3"
    },
    "language_info": {
      "name": "python"
    }
  },
  "nbformat": 4,
  "nbformat_minor": 0
}
