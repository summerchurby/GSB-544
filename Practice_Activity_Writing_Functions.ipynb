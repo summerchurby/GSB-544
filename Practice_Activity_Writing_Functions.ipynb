{
  "cells": [
    {
      "cell_type": "code",
      "execution_count": 18,
      "metadata": {
        "colab": {
          "base_uri": "https://localhost:8080/"
        },
        "id": "ft_WYOPgkcCM",
        "outputId": "c2626d91-62ce-4018-ce5e-6a54c96636f6"
      },
      "outputs": [
        {
          "name": "stdout",
          "output_type": "stream",
          "text": [
            "Requirement already satisfied: palmerpenguins in c:\\users\\achur\\downloads\\python\\lib\\site-packages (0.1.4)\n",
            "Requirement already satisfied: pandas in c:\\users\\achur\\downloads\\python\\lib\\site-packages (from palmerpenguins) (2.2.2)\n",
            "Requirement already satisfied: numpy in c:\\users\\achur\\downloads\\python\\lib\\site-packages (from palmerpenguins) (1.26.4)\n",
            "Requirement already satisfied: python-dateutil>=2.8.2 in c:\\users\\achur\\appdata\\roaming\\python\\python312\\site-packages (from pandas->palmerpenguins) (2.9.0.post0)\n",
            "Requirement already satisfied: pytz>=2020.1 in c:\\users\\achur\\downloads\\python\\lib\\site-packages (from pandas->palmerpenguins) (2024.1)\n",
            "Requirement already satisfied: tzdata>=2022.7 in c:\\users\\achur\\downloads\\python\\lib\\site-packages (from pandas->palmerpenguins) (2023.3)\n",
            "Requirement already satisfied: six>=1.5 in c:\\users\\achur\\appdata\\roaming\\python\\python312\\site-packages (from python-dateutil>=2.8.2->pandas->palmerpenguins) (1.16.0)\n",
            "Requirement already satisfied: palmerpenguins in c:\\users\\achur\\downloads\\python\\lib\\site-packages (0.1.4)\n",
            "Requirement already satisfied: pandas in c:\\users\\achur\\downloads\\python\\lib\\site-packages (from palmerpenguins) (2.2.2)\n",
            "Requirement already satisfied: numpy in c:\\users\\achur\\downloads\\python\\lib\\site-packages (from palmerpenguins) (1.26.4)\n",
            "Requirement already satisfied: python-dateutil>=2.8.2 in c:\\users\\achur\\appdata\\roaming\\python\\python312\\site-packages (from pandas->palmerpenguins) (2.9.0.post0)\n",
            "Requirement already satisfied: pytz>=2020.1 in c:\\users\\achur\\downloads\\python\\lib\\site-packages (from pandas->palmerpenguins) (2024.1)\n",
            "Requirement already satisfied: tzdata>=2022.7 in c:\\users\\achur\\downloads\\python\\lib\\site-packages (from pandas->palmerpenguins) (2023.3)\n",
            "Requirement already satisfied: six>=1.5 in c:\\users\\achur\\appdata\\roaming\\python\\python312\\site-packages (from python-dateutil>=2.8.2->pandas->palmerpenguins) (1.16.0)\n"
          ]
        }
      ],
      "source": [
        "#!pip install palmerpenguins"
      ]
    },
    {
      "cell_type": "code",
      "execution_count": 19,
      "metadata": {
        "id": "b69ul3XcoRQv"
      },
      "outputs": [],
      "source": [
        "import numpy as np\n",
        "import pandas as pd\n",
        "from sys import exit\n",
        "from palmerpenguins import load_penguins\n",
        "from plotnine import ggplot, aes, geom_point, geom_bar"
      ]
    },
    {
      "cell_type": "markdown",
      "metadata": {
        "id": "1Q8_a-5qociG"
      },
      "source": [
        "1. Fill in the necessary code to write a function called `times_seven()`. The function should take a single argument (`x`) and multiply the input by 7.\n",
        "  + This function should check that the argument is numeric.\n",
        "  + This function should also excitedly announce (print) *“I love sevens!”* if the argument to the function is a 7."
      ]
    },
    {
      "cell_type": "code",
      "execution_count": 25,
      "metadata": {
        "id": "l5CW0nuloYzy"
      },
      "outputs": [],
      "source": [
        "def times_seven(x):\n",
        "\n",
        "  if not isinstance(x, (int, float)):\n",
        "    exit(\"Please provide a numeric value.\")\n",
        "\n",
        "  if x == 7:\n",
        "    print(\"I love sevens!\")\n",
        "\n",
        "  return x * 7"
      ]
    },
    {
      "cell_type": "markdown",
      "metadata": {
        "id": "nonjYlruotrq"
      },
      "source": [
        "2. Write and run some *unit tests* for your `times_seven` function.  What happens if the input to the function is `[1, 3, 5, 7]`?"
      ]
    },
    {
      "cell_type": "code",
      "execution_count": 36,
      "metadata": {},
      "outputs": [
        {
          "data": {
            "text/plain": [
              "7"
            ]
          },
          "execution_count": null,
          "metadata": {},
          "output_type": "execute_result"
        }
      ],
      "source": [
        "times_seven(1)"
      ]
    },
    {
      "cell_type": "code",
      "execution_count": 38,
      "metadata": {},
      "outputs": [
        {
          "data": {
            "text/plain": [
              "21"
            ]
          },
          "execution_count": null,
          "metadata": {},
          "output_type": "execute_result"
        }
      ],
      "source": [
        "times_seven(3)"
      ]
    },
    {
      "cell_type": "code",
      "execution_count": 39,
      "metadata": {},
      "outputs": [
        {
          "data": {
            "text/plain": [
              "35"
            ]
          },
          "execution_count": null,
          "metadata": {},
          "output_type": "execute_result"
        }
      ],
      "source": [
        "times_seven(5)"
      ]
    },
    {
      "cell_type": "code",
      "execution_count": 37,
      "metadata": {},
      "outputs": [
        {
          "name": "stdout",
          "output_type": "stream",
          "text": [
            "I love sevens!\n",
            "I love sevens!\n"
          ]
        },
        {
          "data": {
            "text/plain": [
              "49"
            ]
          },
          "execution_count": null,
          "metadata": {},
          "output_type": "execute_result"
        }
      ],
      "source": [
        "times_seven(7)"
      ]
    },
    {
      "cell_type": "markdown",
      "metadata": {},
      "source": [
        "It returns the value of x*7 and prints the result. If our x is 7, then it prints \" I love sevens!\" as when as the mathematical result."
      ]
    },
    {
      "cell_type": "markdown",
      "metadata": {
        "id": "98sLHKBno39e"
      },
      "source": [
        "3. Consider the following function:"
      ]
    },
    {
      "cell_type": "code",
      "execution_count": null,
      "metadata": {
        "id": "V1xGEwq-o5mh"
      },
      "outputs": [],
      "source": [
        "def add_or_subtract(first_num, second_num = 2, type = \"add\"):\n",
        "\n",
        "  if (type == \"add\"):\n",
        "    res = first_num + second_num\n",
        "  elif (type == \"subtract\"):\n",
        "    res = first_num - second_num\n",
        "  else:\n",
        "    exit(\"Please choose `add` or `subtract` as the type.\")\n",
        "\n",
        "    return res"
      ]
    },
    {
      "cell_type": "markdown",
      "metadata": {
        "id": "KIzEYgR1pI0K"
      },
      "source": [
        "**Without running the code**, predict if the following will produce:\n",
        "\n",
        "a. 1\n",
        "\n",
        "b. -1\n",
        "\n",
        "c. 30\n",
        "\n",
        "d. An error defined by the function `add_or_subtract()`\n",
        "\n",
        "e. An error defined in a different function, which is called inside the `add_or_subtract()` function"
      ]
    },
    {
      "cell_type": "code",
      "execution_count": null,
      "metadata": {
        "id": "AKN_fkigpHIS"
      },
      "outputs": [],
      "source": [
        "add_or_subtract(5, 6, type = \"subtract\")\n",
        "\n",
        "add_or_subtract(\"orange\")\n",
        "\n",
        "add_or_subtract(5, 6, type = \"multiply\")"
      ]
    },
    {
      "cell_type": "markdown",
      "metadata": {
        "id": "Z0_cVjgdpOSr"
      },
      "source": [
        "4. Consider the following code:"
      ]
    },
    {
      "cell_type": "code",
      "execution_count": null,
      "metadata": {
        "id": "G4ImmGWGpekK"
      },
      "outputs": [],
      "source": [
        "first_num  = 5\n",
        "second_num = 3\n",
        "\n",
        "result = 8\n",
        "\n",
        "result = add_or_subtract(first_num, second_num = 4)\n",
        "\n",
        "result_2 = add_or_subtract(first_num)"
      ]
    },
    {
      "cell_type": "markdown",
      "metadata": {
        "id": "K0I7k29Qpjfo"
      },
      "source": [
        "\n",
        "In your Global Environment, what is the value of...\n",
        "\n",
        "a. `first_num`\n",
        "\n",
        "b. `second_num`\n",
        "\n",
        "c. `result`\n",
        "\n",
        "d. `result_2`"
      ]
    }
  ],
  "metadata": {
    "colab": {
      "provenance": []
    },
    "kernelspec": {
      "display_name": "Python 3",
      "name": "python3"
    },
    "language_info": {
      "name": "python"
    }
  },
  "nbformat": 4,
  "nbformat_minor": 0
}
