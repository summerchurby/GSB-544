{
 "cells": [
  {
   "cell_type": "code",
   "execution_count": 3,
   "metadata": {},
   "outputs": [],
   "source": [
    "def rescale_vector(vec):\n",
    "      \n",
    "  \"\"\"\n",
    "  Rescales a numeric vector to have a max of 1 and min of 0\n",
    "  \n",
    "  Parameter\n",
    "  ---------\n",
    "  vec : num\n",
    "    A list, numpy array, or pandas Series of numeric data.\n",
    "\n",
    "  Returns\n",
    "  -------\n",
    "  array \n",
    "    A numpy array containing the rescaled values.\n",
    "  \"\"\"\n",
    "  \n",
    "  min_vec = min(vec)\n",
    "  max_vec = max(vec)\n",
    "  \n",
    "  rescaled_vec = (vec - min_vec)/(max_vec - min_vec)\n",
    "  \n",
    "  return rescaled_vec\n",
    "  help(rescale_vector)"
   ]
  },
  {
   "cell_type": "code",
   "execution_count": 4,
   "metadata": {},
   "outputs": [
    {
     "data": {
      "text/plain": [
       "15"
      ]
     },
     "execution_count": null,
     "metadata": {},
     "output_type": "execute_result"
    }
   ],
   "source": [
    "a = 10\n",
    "\n",
    "def myfun(a):\n",
    "  \n",
    "  a = a + 10\n",
    "  \n",
    "  return a\n",
    "\n",
    "\n",
    "myfun(a)\n",
    "\n",
    "a + 5"
   ]
  },
  {
   "cell_type": "code",
   "execution_count": 15,
   "metadata": {},
   "outputs": [],
   "source": [
    "from palmerpenguins import load_penguins\n",
    "from plotnine import *\n",
    "def penguin_scatter(data, species, island):\n",
    "    subset = data[(data[\"species\"] == \"species\") & (data[\"island\"] == island)]\n",
    "\n"
   ]
  },
  {
   "cell_type": "code",
   "execution_count": 16,
   "metadata": {},
   "outputs": [
    {
     "ename": "NameError",
     "evalue": "name 'subset' is not defined",
     "output_type": "error",
     "traceback": [
      "\u001b[1;31m---------------------------------------------------------------------------\u001b[0m\n",
      "\u001b[1;31mNameError\u001b[0m                                 Traceback (most recent call last)\n",
      "Cell \u001b[1;32mIn[16], line 2\u001b[0m\n",
      "\u001b[0;32m      1\u001b[0m myplot \u001b[38;5;241m=\u001b[39m (\n",
      "\u001b[1;32m----> 2\u001b[0m     ggplot(\u001b[43msubset\u001b[49m, aes(x \u001b[38;5;241m=\u001b[39m \u001b[38;5;124m\"\u001b[39m\u001b[38;5;124mbill_length_mm\u001b[39m\u001b[38;5;124m\"\u001b[39m, y \u001b[38;5;241m=\u001b[39m \u001b[38;5;124m\"\u001b[39m\u001b[38;5;124mbill_depth_mm\u001b[39m\u001b[38;5;124m\"\u001b[39m))\n",
      "\u001b[0;32m      3\u001b[0m     \u001b[38;5;241m+\u001b[39m geom_point()\n",
      "\u001b[0;32m      4\u001b[0m )\n",
      "\u001b[0;32m      5\u001b[0m \u001b[38;5;28;01mreturn\u001b[39;00m(myplot)\n",
      "\n",
      "\u001b[1;31mNameError\u001b[0m: name 'subset' is not defined"
     ]
    }
   ],
   "source": [
    "myplot = (\n",
    "    ggplot(subset, aes(x = \"bill_length_mm\", y = \"bill_depth_mm\"))\n",
    "    + geom_point()\n",
    ")\n",
    "return(myplot)"
   ]
  }
 ],
 "metadata": {
  "language_info": {
   "name": "python"
  }
 },
 "nbformat": 4,
 "nbformat_minor": 2
}
