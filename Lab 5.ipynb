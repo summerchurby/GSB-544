{
 "cells": [
  {
   "cell_type": "raw",
   "metadata": {},
   "source": [
    "---\n",
    "title: Lab 5\n",
    "author: Summer Churby\n",
    "format: \n",
    "        html: \n",
    "            toc: true\n",
    "            code-fold: true\n",
    "embed-resources: true\n",
    "---"
   ]
  },
  {
   "cell_type": "markdown",
   "metadata": {},
   "source": [
    "# Lab 5: Insurance Costs"
   ]
  },
  {
   "cell_type": "markdown",
   "metadata": {},
   "source": [
    "## Part One: Data Exploration \n",
    "The dataset we will study for this assignment contains information about health insurance costs for individuals with no dependents (children) in the United States. The information contained in the data is:\n",
    "\n",
    "* Age of primary beneficiary\n",
    "\n",
    "* Gender of primary beneficiary (only female, male recorded)\n",
    "\n",
    "* Body mass index, providing an understanding of body, weights that are relatively high or low relative to height, objective index of body weight (kg / m ^ 2) using the ratio of height to weight, ideally 18.5 to 24.9\n",
    "\n",
    "* Whether the beneficiary smokes\n",
    "\n",
    "* The beneficiary’s residential area in the US, northeast, southeast, southwest, northwest.\n",
    "\n",
    "* Individual medical costs billed by health insurance\n",
    "\n",
    "You can find this data at: https://www.dropbox.com/s/bocjjyo1ehr5auz/insurance_costs_1.csv?dl=1\n",
    "\n",
    "1. Read in the dataset, and display some summaries of the data.\n",
    "\n",
    "2. Fix any concerns you have about the data.\n",
    "\n",
    "3. Make up to three plots comparing the response variable (charges) to one of the predictor variables. Briefly discuss each plot."
   ]
  },
  {
   "cell_type": "code",
   "execution_count": null,
   "metadata": {},
   "outputs": [],
   "source": []
  },
  {
   "cell_type": "markdown",
   "metadata": {},
   "source": [
    "## Part Two: Simple Linear Models\n",
    "1. Construct a simple linear model to predict the insurance charges from the beneficiary’s age. Discuss the model fit, and interpret the coefficient estimates.\n",
    "\n",
    "2. Make a model that also incorporates the variable sex. Report your results.\n",
    "\n",
    "3. Now make a model that does not include sex, but does include smoker. Report your results.\n",
    "\n",
    "4. Which model (Q2 or Q3) do you think better fits the data? Justify your answer by calculating the MSE for each model, and also by comparing R-squared values.\n"
   ]
  },
  {
   "cell_type": "code",
   "execution_count": null,
   "metadata": {},
   "outputs": [],
   "source": []
  },
  {
   "cell_type": "markdown",
   "metadata": {},
   "source": [
    "## Part Three: Multiple Linear Models\n",
    "\n",
    "Now let’s consider including multiple quantitative predictors.\n",
    "\n",
    "1. Fit a model that uses age and bmi as predictors. (Do not include an interaction term, age*bmi, between these two.) Report your results. How does the MSE compare to the model in Part Two Q1? How does the R-squared compare?\n",
    "\n",
    "2. Perhaps the relationships are not linear. Fit a model that uses age and age^2 as predictors. How do the MSE and R-squared compare to the model in P2 Q1?\n",
    "\n",
    "3. Fit a polynomial model of degree 4. How do the MSE and R-squared compare to the model in P2 Q1?\n",
    "\n",
    "4. Fit a polynomial model of degree 12. How do the MSE and R-squared compare to the model in P2 Q1?\n",
    "\n",
    "5. According to the MSE and R-squared, which is the best model? Do you agree that this is indeed the “best” model? Why or why not?\n",
    "\n",
    "6. Plot the predictions from your model in Q4 as a line plot on top of the scatterplot of your original data."
   ]
  },
  {
   "cell_type": "code",
   "execution_count": null,
   "metadata": {},
   "outputs": [],
   "source": []
  },
  {
   "cell_type": "markdown",
   "metadata": {},
   "source": [
    "## Part Four: New Data\n",
    "\n",
    "Great news! We’ve managed to collect data about the insurance costs for a few more individuals. You can find the new dataset here: https://www.dropbox.com/s/sky86agc4s8c6qe/insurance_costs_2.csv?dl=1\n",
    "\n",
    "Consider the following possible models:\n",
    "\n",
    "* Only age as a predictor.\n",
    "\n",
    "* age and bmi as a predictor.\n",
    "\n",
    "* age, bmi, and smoker as predictors (no interaction terms)\n",
    "\n",
    "* age, and bmi, with both quantitative variables having an interaction term with smoker (i.e. the formula ~ (age + bmi):smoker)\n",
    "\n",
    "* age, bmi, and smokeras predictors, with both quantitative variables having an interaction term with smoker (i.e. the formula ~ (age + bmi)*smoker)\n",
    "\n",
    "For each model, fit the model on the original data.\n",
    "\n",
    "Then, use the fitted model to predict on the new data.\n",
    "\n",
    "Report the MSE for each model’s new predictions. Based on this, which is the best model to use?\n",
    "\n",
    "Make a plot showing the residuals of your final chosen model."
   ]
  },
  {
   "cell_type": "code",
   "execution_count": null,
   "metadata": {},
   "outputs": [],
   "source": []
  },
  {
   "cell_type": "markdown",
   "metadata": {},
   "source": [
    "## Part Five: Full Exploration\n",
    "\n",
    "Using any variables in this dataset, and any polynomial of those variables, find the model that best predicts on the new data after being fit on the original data.\n",
    "\n",
    "Make a plot showing the residuals of your final chosen model."
   ]
  }
 ],
 "metadata": {
  "language_info": {
   "name": "python"
  }
 },
 "nbformat": 4,
 "nbformat_minor": 2
}
