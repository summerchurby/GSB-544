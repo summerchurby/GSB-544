{
 "cells": [
  {
   "cell_type": "markdown",
   "metadata": {},
   "source": [
    "# Lab 3: Singing a song"
   ]
  },
  {
   "cell_type": "markdown",
   "metadata": {},
   "source": [
    "#### Import Data Set"
   ]
  },
  {
   "cell_type": "code",
   "execution_count": 307,
   "metadata": {},
   "outputs": [
    {
     "name": "stdout",
     "output_type": "stream",
     "text": [
      "<bound method Series.unique of 0     partridge\n",
      "1          dove\n",
      "2           hen\n",
      "3          bird\n",
      "4          ring\n",
      "5         goose\n",
      "6          swan\n",
      "7          maid\n",
      "8          lady\n",
      "9          lord\n",
      "10        piper\n",
      "11      drummer\n",
      "Name: Gift.Item, dtype: object>\n",
      "<bound method Series.unique of 0     partridge\n",
      "1          dove\n",
      "2           hen\n",
      "3          bird\n",
      "4          ring\n",
      "5         goose\n",
      "6          swan\n",
      "7          maid\n",
      "8          lady\n",
      "9          lord\n",
      "10        piper\n",
      "11      drummer\n",
      "Name: Gift.Item, dtype: object>\n"
     ]
    },
    {
     "data": {
      "text/html": [
       "<div>\n",
       "<style scoped>\n",
       "    .dataframe tbody tr th:only-of-type {\n",
       "        vertical-align: middle;\n",
       "    }\n",
       "\n",
       "    .dataframe tbody tr th {\n",
       "        vertical-align: top;\n",
       "    }\n",
       "\n",
       "    .dataframe thead th {\n",
       "        text-align: right;\n",
       "    }\n",
       "</style>\n",
       "<table border=\"1\" class=\"dataframe\">\n",
       "  <thead>\n",
       "    <tr style=\"text-align: right;\">\n",
       "      <th></th>\n",
       "      <th>Day</th>\n",
       "      <th>Day.in.Words</th>\n",
       "      <th>Gift.Item</th>\n",
       "      <th>Verb</th>\n",
       "      <th>Adjective</th>\n",
       "      <th>Location</th>\n",
       "    </tr>\n",
       "  </thead>\n",
       "  <tbody>\n",
       "    <tr>\n",
       "      <th>0</th>\n",
       "      <td>1</td>\n",
       "      <td>first</td>\n",
       "      <td>partridge</td>\n",
       "      <td>NaN</td>\n",
       "      <td>NaN</td>\n",
       "      <td>in a pear tree</td>\n",
       "    </tr>\n",
       "    <tr>\n",
       "      <th>1</th>\n",
       "      <td>2</td>\n",
       "      <td>second</td>\n",
       "      <td>dove</td>\n",
       "      <td>NaN</td>\n",
       "      <td>turtle</td>\n",
       "      <td>NaN</td>\n",
       "    </tr>\n",
       "    <tr>\n",
       "      <th>2</th>\n",
       "      <td>3</td>\n",
       "      <td>third</td>\n",
       "      <td>hen</td>\n",
       "      <td>NaN</td>\n",
       "      <td>french</td>\n",
       "      <td>NaN</td>\n",
       "    </tr>\n",
       "    <tr>\n",
       "      <th>3</th>\n",
       "      <td>4</td>\n",
       "      <td>fourth</td>\n",
       "      <td>bird</td>\n",
       "      <td>NaN</td>\n",
       "      <td>calling</td>\n",
       "      <td>NaN</td>\n",
       "    </tr>\n",
       "    <tr>\n",
       "      <th>4</th>\n",
       "      <td>5</td>\n",
       "      <td>fifth</td>\n",
       "      <td>ring</td>\n",
       "      <td>NaN</td>\n",
       "      <td>golden</td>\n",
       "      <td>NaN</td>\n",
       "    </tr>\n",
       "  </tbody>\n",
       "</table>\n",
       "</div>"
      ],
      "text/plain": [
       "   Day Day.in.Words  Gift.Item Verb Adjective        Location\n",
       "0    1        first  partridge  NaN       NaN  in a pear tree\n",
       "1    2       second       dove  NaN    turtle             NaN\n",
       "2    3        third        hen  NaN    french             NaN\n",
       "3    4       fourth       bird  NaN   calling             NaN\n",
       "4    5        fifth       ring  NaN    golden             NaN"
      ]
     },
     "execution_count": null,
     "metadata": {},
     "output_type": "execute_result"
    }
   ],
   "source": [
    "# Import data set\n",
    "\n",
    "import numpy as np\n",
    "import pandas as pd\n",
    "xmas = pd.read_csv(\"https://www.dropbox.com/scl/fi/qxaslqqp5p08i1650rpc4/xmas.csv?rlkey=erdxi7jbh7pqf9fh4lv4cayp5&dl=1\")\n",
    "print(xmas[\"Gift.Item\"].unique)\n",
    "xmas.head()"
   ]
  },
  {
   "cell_type": "markdown",
   "metadata": {},
   "source": [
    "#### Function 1: pluralize_gift()"
   ]
  },
  {
   "cell_type": "code",
   "execution_count": 308,
   "metadata": {},
   "outputs": [
    {
     "data": {
      "text/html": [
       "<div>\n",
       "<style scoped>\n",
       "    .dataframe tbody tr th:only-of-type {\n",
       "        vertical-align: middle;\n",
       "    }\n",
       "\n",
       "    .dataframe tbody tr th {\n",
       "        vertical-align: top;\n",
       "    }\n",
       "\n",
       "    .dataframe thead th {\n",
       "        text-align: right;\n",
       "    }\n",
       "</style>\n",
       "<table border=\"1\" class=\"dataframe\">\n",
       "  <thead>\n",
       "    <tr style=\"text-align: right;\">\n",
       "      <th></th>\n",
       "      <th>Day</th>\n",
       "      <th>Day.in.Words</th>\n",
       "      <th>Gift.Item</th>\n",
       "      <th>Verb</th>\n",
       "      <th>Adjective</th>\n",
       "      <th>Location</th>\n",
       "      <th>Plural.Gift.Item</th>\n",
       "    </tr>\n",
       "  </thead>\n",
       "  <tbody>\n",
       "    <tr>\n",
       "      <th>0</th>\n",
       "      <td>1</td>\n",
       "      <td>first</td>\n",
       "      <td>partridge</td>\n",
       "      <td>NaN</td>\n",
       "      <td>NaN</td>\n",
       "      <td>in a pear tree</td>\n",
       "      <td>partridges</td>\n",
       "    </tr>\n",
       "    <tr>\n",
       "      <th>1</th>\n",
       "      <td>2</td>\n",
       "      <td>second</td>\n",
       "      <td>dove</td>\n",
       "      <td>NaN</td>\n",
       "      <td>turtle</td>\n",
       "      <td>NaN</td>\n",
       "      <td>doves</td>\n",
       "    </tr>\n",
       "    <tr>\n",
       "      <th>2</th>\n",
       "      <td>3</td>\n",
       "      <td>third</td>\n",
       "      <td>hen</td>\n",
       "      <td>NaN</td>\n",
       "      <td>french</td>\n",
       "      <td>NaN</td>\n",
       "      <td>hens</td>\n",
       "    </tr>\n",
       "    <tr>\n",
       "      <th>3</th>\n",
       "      <td>4</td>\n",
       "      <td>fourth</td>\n",
       "      <td>bird</td>\n",
       "      <td>NaN</td>\n",
       "      <td>calling</td>\n",
       "      <td>NaN</td>\n",
       "      <td>birds</td>\n",
       "    </tr>\n",
       "    <tr>\n",
       "      <th>4</th>\n",
       "      <td>5</td>\n",
       "      <td>fifth</td>\n",
       "      <td>ring</td>\n",
       "      <td>NaN</td>\n",
       "      <td>golden</td>\n",
       "      <td>NaN</td>\n",
       "      <td>rings</td>\n",
       "    </tr>\n",
       "  </tbody>\n",
       "</table>\n",
       "</div>"
      ],
      "text/plain": [
       "   Day Day.in.Words  Gift.Item Verb Adjective        Location Plural.Gift.Item\n",
       "0    1        first  partridge  NaN       NaN  in a pear tree       partridges\n",
       "1    2       second       dove  NaN    turtle             NaN            doves\n",
       "2    3        third        hen  NaN    french             NaN             hens\n",
       "3    4       fourth       bird  NaN   calling             NaN            birds\n",
       "4    5        fifth       ring  NaN    golden             NaN            rings"
      ]
     },
     "execution_count": null,
     "metadata": {},
     "output_type": "execute_result"
    }
   ],
   "source": [
    "# pluralize_gift()\n",
    "def pluralize_gift(gift):\n",
    "    \"\"\"\n",
    "  Returns plural of a noun\n",
    "  \n",
    "  Parameters\n",
    "  ----------\n",
    "  gift: str\n",
    "    A noun\n",
    "    \n",
    "  Return\n",
    "  ------\n",
    "  str\n",
    "    Plural version\n",
    "  \"\"\"\n",
    "    if isinstance(gift, str):\n",
    "        if gift == \"goose\":\n",
    "            return \"geese\"\n",
    "        elif gift == \"lady\":\n",
    "            return \"ladies\"\n",
    "        else:\n",
    "            return gift + \"s\"\n",
    "    else:\n",
    "        gift = np.where(gift == \"goose\", \"geese\", gift)\n",
    "        gift = np.where(gift == \"lady\", \"ladies\", gift)\n",
    "        return np.where(~np.isin(gift, [\"geese\", \"ladies\"]), gift + \"s\", gift)\n",
    "\n",
    "xmas[\"Plural.Gift.Item\"] = pluralize_gift(xmas[\"Gift.Item\"])\n",
    "xmas.head()\n"
   ]
  },
  {
   "cell_type": "code",
   "execution_count": 309,
   "metadata": {},
   "outputs": [
    {
     "data": {
      "text/plain": [
       "array(['partridges', 'doves', 'hens', 'birds', 'rings', 'geese', 'swans',\n",
       "       'maids', 'ladies', 'lords', 'pipers', 'drummers'], dtype=object)"
      ]
     },
     "execution_count": null,
     "metadata": {},
     "output_type": "execute_result"
    }
   ],
   "source": [
    "pluralize_gift(xmas['Gift.Item'])"
   ]
  },
  {
   "cell_type": "markdown",
   "metadata": {},
   "source": [
    "#### Function 2: make_phrase()"
   ]
  },
  {
   "cell_type": "code",
   "execution_count": 310,
   "metadata": {},
   "outputs": [],
   "source": [
    "# mapping numbers to words\n",
    "\n",
    "number_to_word = {\n",
    "    1: \"one\",\n",
    "    2: \"two\",\n",
    "    3: \"three\",\n",
    "    4: \"four\",\n",
    "    5: \"five\",\n",
    "    6: \"six\",\n",
    "    7: \"seven\",\n",
    "    8: \"eight\",\n",
    "    9: \"nine\",\n",
    "    10: \"ten\",\n",
    "    11: \"eleven\",\n",
    "    12: \"twelve\"\n",
    "}\n",
    "xmas[\"Day.Number\"] = xmas[\"Day\"].map(number_to_word)\n"
   ]
  },
  {
   "cell_type": "code",
   "execution_count": 321,
   "metadata": {},
   "outputs": [],
   "source": [
    "# make_phrase()\n",
    "\n",
    "def make_phrase(num, num_word, item, verb, adjective, location):\n",
    "    verb = pd.Series([verb]).fillna(\"\").iloc[0]\n",
    "    adjective = pd.Series([adjective]).fillna(\"\").iloc[0]\n",
    "    location = pd.Series([location]).fillna(\"\").iloc[0]\n",
    "    if num > 1:\n",
    "        item = pluralize_gift(item)\n",
    "    vowels = \"aeiou\"\n",
    "    is_vowel = item[0] in vowels\n",
    "    if num == 1:\n",
    "        if is_vowel == \"TRUE\":\n",
    "            num_word = \"an\"\n",
    "        else: num_word = \"a\"\n",
    "\n",
    "    text = num_word + \" \"+ adjective + \" \"+ item+\" \" + verb + location\n",
    "    return text.replace(\" \", \" \").strip()"
   ]
  },
  {
   "cell_type": "code",
   "execution_count": 322,
   "metadata": {},
   "outputs": [
    {
     "data": {
      "text/plain": [
       "'ten  lords a-leaping'"
      ]
     },
     "execution_count": null,
     "metadata": {},
     "output_type": "execute_result"
    }
   ],
   "source": [
    "make_phrase(10, \"ten\", \"lord\", \"a-leaping\", \"\", \"\")"
   ]
  },
  {
   "cell_type": "code",
   "execution_count": 323,
   "metadata": {},
   "outputs": [
    {
     "data": {
      "text/html": [
       "<div>\n",
       "<style scoped>\n",
       "    .dataframe tbody tr th:only-of-type {\n",
       "        vertical-align: middle;\n",
       "    }\n",
       "\n",
       "    .dataframe tbody tr th {\n",
       "        vertical-align: top;\n",
       "    }\n",
       "\n",
       "    .dataframe thead th {\n",
       "        text-align: right;\n",
       "    }\n",
       "</style>\n",
       "<table border=\"1\" class=\"dataframe\">\n",
       "  <thead>\n",
       "    <tr style=\"text-align: right;\">\n",
       "      <th></th>\n",
       "      <th>Day</th>\n",
       "      <th>Day.in.Words</th>\n",
       "      <th>Gift.Item</th>\n",
       "      <th>Verb</th>\n",
       "      <th>Adjective</th>\n",
       "      <th>Location</th>\n",
       "      <th>Plural.Gift.Item</th>\n",
       "      <th>Day.Number</th>\n",
       "      <th>Full.Phrase</th>\n",
       "    </tr>\n",
       "  </thead>\n",
       "  <tbody>\n",
       "    <tr>\n",
       "      <th>0</th>\n",
       "      <td>1</td>\n",
       "      <td>first</td>\n",
       "      <td>partridge</td>\n",
       "      <td>NaN</td>\n",
       "      <td>NaN</td>\n",
       "      <td>in a pear tree</td>\n",
       "      <td>partridges</td>\n",
       "      <td>one</td>\n",
       "      <td>a  partridge in a pear tree</td>\n",
       "    </tr>\n",
       "    <tr>\n",
       "      <th>1</th>\n",
       "      <td>2</td>\n",
       "      <td>second</td>\n",
       "      <td>dove</td>\n",
       "      <td>NaN</td>\n",
       "      <td>turtle</td>\n",
       "      <td>NaN</td>\n",
       "      <td>doves</td>\n",
       "      <td>two</td>\n",
       "      <td>two turtle doves</td>\n",
       "    </tr>\n",
       "    <tr>\n",
       "      <th>2</th>\n",
       "      <td>3</td>\n",
       "      <td>third</td>\n",
       "      <td>hen</td>\n",
       "      <td>NaN</td>\n",
       "      <td>french</td>\n",
       "      <td>NaN</td>\n",
       "      <td>hens</td>\n",
       "      <td>three</td>\n",
       "      <td>three french hens</td>\n",
       "    </tr>\n",
       "    <tr>\n",
       "      <th>3</th>\n",
       "      <td>4</td>\n",
       "      <td>fourth</td>\n",
       "      <td>bird</td>\n",
       "      <td>NaN</td>\n",
       "      <td>calling</td>\n",
       "      <td>NaN</td>\n",
       "      <td>birds</td>\n",
       "      <td>four</td>\n",
       "      <td>four calling birds</td>\n",
       "    </tr>\n",
       "    <tr>\n",
       "      <th>4</th>\n",
       "      <td>5</td>\n",
       "      <td>fifth</td>\n",
       "      <td>ring</td>\n",
       "      <td>NaN</td>\n",
       "      <td>golden</td>\n",
       "      <td>NaN</td>\n",
       "      <td>rings</td>\n",
       "      <td>five</td>\n",
       "      <td>five golden rings</td>\n",
       "    </tr>\n",
       "  </tbody>\n",
       "</table>\n",
       "</div>"
      ],
      "text/plain": [
       "   Day Day.in.Words  ... Day.Number                  Full.Phrase\n",
       "0    1        first  ...        one  a  partridge in a pear tree\n",
       "1    2       second  ...        two             two turtle doves\n",
       "2    3        third  ...      three            three french hens\n",
       "3    4       fourth  ...       four           four calling birds\n",
       "4    5        fifth  ...       five            five golden rings\n",
       "\n",
       "[5 rows x 9 columns]"
      ]
     },
     "execution_count": null,
     "metadata": {},
     "output_type": "execute_result"
    }
   ],
   "source": [
    "xmas[\"Full.Phrase\"] = xmas.apply(lambda row: make_phrase(\n",
    "    row[\"Day\"],\n",
    "    row[\"Day.Number\"],\n",
    "    row[\"Gift.Item\"],\n",
    "    row[\"Verb\"],\n",
    "    row[\"Adjective\"],\n",
    "    row[\"Location\"]), axis = 1)\n",
    "xmas.head()"
   ]
  },
  {
   "cell_type": "markdown",
   "metadata": {},
   "source": [
    "#### Function 3: sing_day()"
   ]
  },
  {
   "cell_type": "code",
   "execution_count": 324,
   "metadata": {},
   "outputs": [],
   "source": [
    "# function 3: sing_day()\n",
    "\n",
    "def sing_day(xmas, num, phrase):\n",
    "    num_word =  xmas.loc[xmas[\"Day\"] == num, \"Day.in.Words\"].values[0]\n",
    "    intro = \"On the \" + num_word + \" day of Christmas, my true love gave to me:\"\n",
    "    gifts = \"\"\n",
    "    for i in range(num, 0, -1):\n",
    "        phrase = xmas.loc[xmas[\"Day\"] == i, \"Full.Phrase\"].values[0]\n",
    "        if i == 1 and num > 1:\n",
    "            phrase = \"and \" + phrase\n",
    "        gifts = gifts + phrase + \", \" + \"\\n\"\n",
    "\n",
    "    return (intro + \"\\n\" + gifts.strip(\", \"))[:-3]\n",
    "    "
   ]
  },
  {
   "cell_type": "code",
   "execution_count": 325,
   "metadata": {},
   "outputs": [
    {
     "name": "stdout",
     "output_type": "stream",
     "text": [
      "On the twelfth day of Christmas, my true love gave to me:\n",
      "twelve  drummers drumming, \n",
      "eleven  pipers piping, \n",
      "ten  lords a-leaping, \n",
      "nine  ladies dancing, \n",
      "eight  maids a-milking, \n",
      "seven  swans a-swimming, \n",
      "six  geese a-laying, \n",
      "five golden rings, \n",
      "four calling birds, \n",
      "three french hens, \n",
      "two turtle doves, \n",
      "and a  partridge in a pear tree\n",
      "On the twelfth day of Christmas, my true love gave to me:\n",
      "twelve  drummers drumming, \n",
      "eleven  pipers piping, \n",
      "ten  lords a-leaping, \n",
      "nine  ladies dancing, \n",
      "eight  maids a-milking, \n",
      "seven  swans a-swimming, \n",
      "six  geese a-laying, \n",
      "five golden rings, \n",
      "four calling birds, \n",
      "three french hens, \n",
      "two turtle doves, \n",
      "and a  partridge in a pear tree\n"
     ]
    }
   ],
   "source": [
    "#sing_day(xmas, 12, \"Full.Phrase\")\n",
    "print(sing_day(xmas, 12, \"Full.Phrase\"))"
   ]
  }
 ],
 "metadata": {
  "language_info": {
   "name": "python"
  }
 },
 "nbformat": 4,
 "nbformat_minor": 2
}
