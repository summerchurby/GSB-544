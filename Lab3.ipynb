{
 "cells": [
  {
   "cell_type": "markdown",
   "metadata": {},
   "source": [
    "# Lab 3: Singing a song"
   ]
  },
  {
   "cell_type": "markdown",
   "metadata": {},
   "source": [
    "#### Import Data Set"
   ]
  },
  {
   "cell_type": "code",
   "execution_count": 115,
   "metadata": {},
   "outputs": [
    {
     "name": "stdout",
     "output_type": "stream",
     "text": [
      "<bound method Series.unique of 0     partridge\n",
      "1          dove\n",
      "2           hen\n",
      "3          bird\n",
      "4          ring\n",
      "5         goose\n",
      "6          swan\n",
      "7          maid\n",
      "8          lady\n",
      "9          lord\n",
      "10        piper\n",
      "11      drummer\n",
      "Name: Gift.Item, dtype: object>\n",
      "<bound method Series.unique of 0     partridge\n",
      "1          dove\n",
      "2           hen\n",
      "3          bird\n",
      "4          ring\n",
      "5         goose\n",
      "6          swan\n",
      "7          maid\n",
      "8          lady\n",
      "9          lord\n",
      "10        piper\n",
      "11      drummer\n",
      "Name: Gift.Item, dtype: object>\n"
     ]
    },
    {
     "data": {
      "text/html": [
       "<div>\n",
       "<style scoped>\n",
       "    .dataframe tbody tr th:only-of-type {\n",
       "        vertical-align: middle;\n",
       "    }\n",
       "\n",
       "    .dataframe tbody tr th {\n",
       "        vertical-align: top;\n",
       "    }\n",
       "\n",
       "    .dataframe thead th {\n",
       "        text-align: right;\n",
       "    }\n",
       "</style>\n",
       "<table border=\"1\" class=\"dataframe\">\n",
       "  <thead>\n",
       "    <tr style=\"text-align: right;\">\n",
       "      <th></th>\n",
       "      <th>Day</th>\n",
       "      <th>Day.in.Words</th>\n",
       "      <th>Gift.Item</th>\n",
       "      <th>Verb</th>\n",
       "      <th>Adjective</th>\n",
       "      <th>Location</th>\n",
       "    </tr>\n",
       "  </thead>\n",
       "  <tbody>\n",
       "    <tr>\n",
       "      <th>0</th>\n",
       "      <td>1</td>\n",
       "      <td>first</td>\n",
       "      <td>partridge</td>\n",
       "      <td>NaN</td>\n",
       "      <td>NaN</td>\n",
       "      <td>in a pear tree</td>\n",
       "    </tr>\n",
       "    <tr>\n",
       "      <th>1</th>\n",
       "      <td>2</td>\n",
       "      <td>second</td>\n",
       "      <td>dove</td>\n",
       "      <td>NaN</td>\n",
       "      <td>turtle</td>\n",
       "      <td>NaN</td>\n",
       "    </tr>\n",
       "    <tr>\n",
       "      <th>2</th>\n",
       "      <td>3</td>\n",
       "      <td>third</td>\n",
       "      <td>hen</td>\n",
       "      <td>NaN</td>\n",
       "      <td>french</td>\n",
       "      <td>NaN</td>\n",
       "    </tr>\n",
       "    <tr>\n",
       "      <th>3</th>\n",
       "      <td>4</td>\n",
       "      <td>fourth</td>\n",
       "      <td>bird</td>\n",
       "      <td>NaN</td>\n",
       "      <td>calling</td>\n",
       "      <td>NaN</td>\n",
       "    </tr>\n",
       "    <tr>\n",
       "      <th>4</th>\n",
       "      <td>5</td>\n",
       "      <td>fifth</td>\n",
       "      <td>ring</td>\n",
       "      <td>NaN</td>\n",
       "      <td>golden</td>\n",
       "      <td>NaN</td>\n",
       "    </tr>\n",
       "  </tbody>\n",
       "</table>\n",
       "</div>"
      ],
      "text/plain": [
       "   Day Day.in.Words  Gift.Item Verb Adjective        Location\n",
       "0    1        first  partridge  NaN       NaN  in a pear tree\n",
       "1    2       second       dove  NaN    turtle             NaN\n",
       "2    3        third        hen  NaN    french             NaN\n",
       "3    4       fourth       bird  NaN   calling             NaN\n",
       "4    5        fifth       ring  NaN    golden             NaN"
      ]
     },
     "execution_count": null,
     "metadata": {},
     "output_type": "execute_result"
    }
   ],
   "source": [
    "# Import data set\n",
    "\n",
    "import numpy as np\n",
    "import pandas as pd\n",
    "xmas = pd.read_csv(\"https://www.dropbox.com/scl/fi/qxaslqqp5p08i1650rpc4/xmas.csv?rlkey=erdxi7jbh7pqf9fh4lv4cayp5&dl=1\")\n",
    "print(xmas[\"Gift.Item\"].unique)\n",
    "xmas.head()"
   ]
  },
  {
   "cell_type": "markdown",
   "metadata": {},
   "source": [
    "#### Function 1: pluralize_gift()"
   ]
  },
  {
   "cell_type": "code",
   "execution_count": 135,
   "metadata": {},
   "outputs": [
    {
     "data": {
      "text/html": [
       "<div>\n",
       "<style scoped>\n",
       "    .dataframe tbody tr th:only-of-type {\n",
       "        vertical-align: middle;\n",
       "    }\n",
       "\n",
       "    .dataframe tbody tr th {\n",
       "        vertical-align: top;\n",
       "    }\n",
       "\n",
       "    .dataframe thead th {\n",
       "        text-align: right;\n",
       "    }\n",
       "</style>\n",
       "<table border=\"1\" class=\"dataframe\">\n",
       "  <thead>\n",
       "    <tr style=\"text-align: right;\">\n",
       "      <th></th>\n",
       "      <th>Day</th>\n",
       "      <th>Day.in.Words</th>\n",
       "      <th>Gift.Item</th>\n",
       "      <th>Verb</th>\n",
       "      <th>Adjective</th>\n",
       "      <th>Location</th>\n",
       "      <th>Plural.Gift.Item</th>\n",
       "      <th>Day.Number</th>\n",
       "    </tr>\n",
       "  </thead>\n",
       "  <tbody>\n",
       "    <tr>\n",
       "      <th>0</th>\n",
       "      <td>1</td>\n",
       "      <td>first</td>\n",
       "      <td>partridge</td>\n",
       "      <td>NaN</td>\n",
       "      <td>NaN</td>\n",
       "      <td>in a pear tree</td>\n",
       "      <td>partridges</td>\n",
       "      <td>one</td>\n",
       "    </tr>\n",
       "    <tr>\n",
       "      <th>1</th>\n",
       "      <td>2</td>\n",
       "      <td>second</td>\n",
       "      <td>dove</td>\n",
       "      <td>NaN</td>\n",
       "      <td>turtle</td>\n",
       "      <td>NaN</td>\n",
       "      <td>doves</td>\n",
       "      <td>two</td>\n",
       "    </tr>\n",
       "    <tr>\n",
       "      <th>2</th>\n",
       "      <td>3</td>\n",
       "      <td>third</td>\n",
       "      <td>hen</td>\n",
       "      <td>NaN</td>\n",
       "      <td>french</td>\n",
       "      <td>NaN</td>\n",
       "      <td>hens</td>\n",
       "      <td>three</td>\n",
       "    </tr>\n",
       "    <tr>\n",
       "      <th>3</th>\n",
       "      <td>4</td>\n",
       "      <td>fourth</td>\n",
       "      <td>bird</td>\n",
       "      <td>NaN</td>\n",
       "      <td>calling</td>\n",
       "      <td>NaN</td>\n",
       "      <td>birds</td>\n",
       "      <td>four</td>\n",
       "    </tr>\n",
       "    <tr>\n",
       "      <th>4</th>\n",
       "      <td>5</td>\n",
       "      <td>fifth</td>\n",
       "      <td>ring</td>\n",
       "      <td>NaN</td>\n",
       "      <td>golden</td>\n",
       "      <td>NaN</td>\n",
       "      <td>rings</td>\n",
       "      <td>five</td>\n",
       "    </tr>\n",
       "  </tbody>\n",
       "</table>\n",
       "</div>"
      ],
      "text/plain": [
       "   Day Day.in.Words  Gift.Item  ...        Location Plural.Gift.Item Day.Number\n",
       "0    1        first  partridge  ...  in a pear tree       partridges        one\n",
       "1    2       second       dove  ...             NaN            doves        two\n",
       "2    3        third        hen  ...             NaN             hens      three\n",
       "3    4       fourth       bird  ...             NaN            birds       four\n",
       "4    5        fifth       ring  ...             NaN            rings       five\n",
       "\n",
       "[5 rows x 8 columns]"
      ]
     },
     "execution_count": null,
     "metadata": {},
     "output_type": "execute_result"
    }
   ],
   "source": [
    "# pluralize_gift()\n",
    "def pluralize_gift(gift):\n",
    "    if isinstance(gift, str):\n",
    "        if gift == \"goose\":\n",
    "            return \"geese\"\n",
    "        elif gift == \"lady\":\n",
    "            return \"ladies\"\n",
    "        else:\n",
    "            return gift + \"s\"\n",
    "    else:\n",
    "        gift = np.where(gift == \"goose\", \"geese\", gift)\n",
    "        gift = np.where(gift == \"lady\", \"ladies\", gift)\n",
    "        return np.where(~np.isin(gift, [\"geese\", \"ladies\"]), gift + \"s\", gift)\n",
    "\n",
    "xmas[\"Plural.Gift.Item\"] = pluralize_gift(xmas[\"Gift.Item\"])\n",
    "xmas.head()\n"
   ]
  },
  {
   "cell_type": "code",
   "execution_count": 136,
   "metadata": {},
   "outputs": [
    {
     "data": {
      "text/plain": [
       "array(['partridges', 'doves', 'hens', 'birds', 'rings', 'geese', 'swans',\n",
       "       'maids', 'ladies', 'lords', 'pipers', 'drummers'], dtype=object)"
      ]
     },
     "execution_count": null,
     "metadata": {},
     "output_type": "execute_result"
    }
   ],
   "source": [
    "pluralize_gift(xmas['Gift.Item'])"
   ]
  },
  {
   "cell_type": "markdown",
   "metadata": {},
   "source": [
    "#### Function 2: make_phrase()"
   ]
  },
  {
   "cell_type": "code",
   "execution_count": 140,
   "metadata": {},
   "outputs": [],
   "source": [
    "# mapping numbers to words\n",
    "\n",
    "number_to_word = {\n",
    "    1: \"one\", \n",
    "    2: \"two\", \n",
    "    3: \"three\",\n",
    "    4: \"four\",\n",
    "    5: \"five\",\n",
    "    6: \"six\",\n",
    "    7: \"seven\",\n",
    "    8: \"eight\",\n",
    "    9: \"nine\",\n",
    "    10: \"ten\",\n",
    "    11: \"eleven\",\n",
    "    12: \"twelve\"\n",
    "}\n",
    "xmas[\"Day.Number\"] = xmas[\"Day\"].map(number_to_word)\n"
   ]
  },
  {
   "cell_type": "code",
   "execution_count": 151,
   "metadata": {},
   "outputs": [],
   "source": [
    "# make_phrase()\n",
    "\n",
    "def make_phrase(num, num_word, item, verb, adjective, location):\n",
    "    verb = pd.Series([verb]).fillna(\"\").iloc[0]\n",
    "    adjective = pd.Series([adjective]).fillna(\"\").iloc[0]\n",
    "    location = pd.Series([location]).fillna(\"\").iloc[0]\n",
    "    if num > 1:\n",
    "        item = pluralize_gift(item)\n",
    "    vowels = \"aeiou\"\n",
    "    starts_vowel = item[0].lower() in vowels if item else False\n",
    "    if num == 1:\n",
    "        article = \"an\" if starts_vowel else \"a\"\n",
    "        phrase = f\"{article}{adjective}{item}\".strip()\n",
    "    else: \n",
    "        phrase = f\"{num_word}{adjective} {item}\".replace(\" \",\" \").strip()\n",
    "    full_phrase = f\"{phrase} {verb} {location}\".strip()\n",
    "\n",
    "    return full_phrase"
   ]
  },
  {
   "cell_type": "code",
   "execution_count": 152,
   "metadata": {},
   "outputs": [
    {
     "data": {
      "text/plain": [
       "'ten lords a-leaping'"
      ]
     },
     "execution_count": null,
     "metadata": {},
     "output_type": "execute_result"
    }
   ],
   "source": [
    "make_phrase(10, \"ten\", \"lord\", \"a-leaping\", \"\", \"\")"
   ]
  }
 ],
 "metadata": {
  "language_info": {
   "name": "python"
  }
 },
 "nbformat": 4,
 "nbformat_minor": 2
}
