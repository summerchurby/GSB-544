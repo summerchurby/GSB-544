{
 "cells": [
  {
   "cell_type": "markdown",
   "metadata": {},
   "source": [
    "# Lab 3: Singing a song"
   ]
  },
  {
   "cell_type": "markdown",
   "metadata": {},
   "source": [
    "#### Import Data Set"
   ]
  },
  {
   "cell_type": "code",
   "execution_count": 65,
   "metadata": {},
   "outputs": [
    {
     "name": "stdout",
     "output_type": "stream",
     "text": [
      "<bound method Series.unique of 0     partridge\n",
      "1          dove\n",
      "2           hen\n",
      "3          bird\n",
      "4          ring\n",
      "5         goose\n",
      "6          swan\n",
      "7          maid\n",
      "8          lady\n",
      "9          lord\n",
      "10        piper\n",
      "11      drummer\n",
      "Name: Gift.Item, dtype: object>\n",
      "<bound method Series.unique of 0     partridge\n",
      "1          dove\n",
      "2           hen\n",
      "3          bird\n",
      "4          ring\n",
      "5         goose\n",
      "6          swan\n",
      "7          maid\n",
      "8          lady\n",
      "9          lord\n",
      "10        piper\n",
      "11      drummer\n",
      "Name: Gift.Item, dtype: object>\n"
     ]
    },
    {
     "data": {
      "text/html": [
       "<div>\n",
       "<style scoped>\n",
       "    .dataframe tbody tr th:only-of-type {\n",
       "        vertical-align: middle;\n",
       "    }\n",
       "\n",
       "    .dataframe tbody tr th {\n",
       "        vertical-align: top;\n",
       "    }\n",
       "\n",
       "    .dataframe thead th {\n",
       "        text-align: right;\n",
       "    }\n",
       "</style>\n",
       "<table border=\"1\" class=\"dataframe\">\n",
       "  <thead>\n",
       "    <tr style=\"text-align: right;\">\n",
       "      <th></th>\n",
       "      <th>Day</th>\n",
       "      <th>Day.in.Words</th>\n",
       "      <th>Gift.Item</th>\n",
       "      <th>Verb</th>\n",
       "      <th>Adjective</th>\n",
       "      <th>Location</th>\n",
       "    </tr>\n",
       "  </thead>\n",
       "  <tbody>\n",
       "    <tr>\n",
       "      <th>0</th>\n",
       "      <td>1</td>\n",
       "      <td>first</td>\n",
       "      <td>partridge</td>\n",
       "      <td>NaN</td>\n",
       "      <td>NaN</td>\n",
       "      <td>in a pear tree</td>\n",
       "    </tr>\n",
       "    <tr>\n",
       "      <th>1</th>\n",
       "      <td>2</td>\n",
       "      <td>second</td>\n",
       "      <td>dove</td>\n",
       "      <td>NaN</td>\n",
       "      <td>turtle</td>\n",
       "      <td>NaN</td>\n",
       "    </tr>\n",
       "    <tr>\n",
       "      <th>2</th>\n",
       "      <td>3</td>\n",
       "      <td>third</td>\n",
       "      <td>hen</td>\n",
       "      <td>NaN</td>\n",
       "      <td>french</td>\n",
       "      <td>NaN</td>\n",
       "    </tr>\n",
       "    <tr>\n",
       "      <th>3</th>\n",
       "      <td>4</td>\n",
       "      <td>fourth</td>\n",
       "      <td>bird</td>\n",
       "      <td>NaN</td>\n",
       "      <td>calling</td>\n",
       "      <td>NaN</td>\n",
       "    </tr>\n",
       "    <tr>\n",
       "      <th>4</th>\n",
       "      <td>5</td>\n",
       "      <td>fifth</td>\n",
       "      <td>ring</td>\n",
       "      <td>NaN</td>\n",
       "      <td>golden</td>\n",
       "      <td>NaN</td>\n",
       "    </tr>\n",
       "  </tbody>\n",
       "</table>\n",
       "</div>"
      ],
      "text/plain": [
       "   Day Day.in.Words  Gift.Item Verb Adjective        Location\n",
       "0    1        first  partridge  NaN       NaN  in a pear tree\n",
       "1    2       second       dove  NaN    turtle             NaN\n",
       "2    3        third        hen  NaN    french             NaN\n",
       "3    4       fourth       bird  NaN   calling             NaN\n",
       "4    5        fifth       ring  NaN    golden             NaN"
      ]
     },
     "execution_count": null,
     "metadata": {},
     "output_type": "execute_result"
    }
   ],
   "source": [
    "# Import data set\n",
    "\n",
    "import numpy as np\n",
    "import pandas as pd\n",
    "xmas = pd.read_csv(\"https://www.dropbox.com/scl/fi/qxaslqqp5p08i1650rpc4/xmas.csv?rlkey=erdxi7jbh7pqf9fh4lv4cayp5&dl=1\")\n",
    "print(xmas[\"Gift.Item\"].unique)\n",
    "xmas.head()"
   ]
  },
  {
   "cell_type": "markdown",
   "metadata": {},
   "source": [
    "#### Function 1: pluralize_gift()"
   ]
  },
  {
   "cell_type": "code",
   "execution_count": 81,
   "metadata": {},
   "outputs": [],
   "source": [
    "# pluralize_gift()\n",
    "def pluralize_gift(gift):\n",
    "    gift = np.where(gift == \"goose\", \"geese\", gift)\n",
    "    gift = np.where(gift == \"lady\", \"ladies\", gift) \n",
    "    return np.where(~np.isin(gift, [\"geese\", \"ladies\"]), gift + \"s\", gift)\n",
    "\n",
    "xmas = pd.DataFrame({\"Gift.Item\": [\"dove\", \"hen\", \"bird\", \"ring\", \"goose\", \"swan\", \"maid\", \"lady\", \"lord\", \"piper\", \"drummer\"]})\n"
   ]
  },
  {
   "cell_type": "code",
   "execution_count": 82,
   "metadata": {},
   "outputs": [
    {
     "data": {
      "text/plain": [
       "array(['doves', 'hens', 'birds', 'rings', 'geese', 'swans', 'maids', 'ladies',\n",
       "       'lords', 'pipers', 'drummers'], dtype=object)"
      ]
     },
     "execution_count": null,
     "metadata": {},
     "output_type": "execute_result"
    }
   ],
   "source": [
    "pluralize_gift(xmas['Gift.Item'])"
   ]
  },
  {
   "cell_type": "markdown",
   "metadata": {},
   "source": [
    "#### Function 2: make_phrase()"
   ]
  },
  {
   "cell_type": "code",
   "execution_count": null,
   "metadata": {},
   "outputs": [],
   "source": []
  }
 ],
 "metadata": {
  "language_info": {
   "name": "python"
  }
 },
 "nbformat": 4,
 "nbformat_minor": 2
}
