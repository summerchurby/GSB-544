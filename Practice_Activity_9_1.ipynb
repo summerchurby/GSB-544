{
  "cells": [
    {
      "cell_type": "markdown",
      "metadata": {
        "id": "F9uql3um69hP"
      },
      "source": [
        "## The Data\n",
        "\n",
        "At this link, you will find a dataset containing information about heart disease patients: https://www.dropbox.com/scl/fi/0vrpdnq5asmeulc4gd50y/ha_1.csv?rlkey=ciisalceotl77ffqhqe3kujzv&dl=1\n",
        "\n",
        "A description of the original dataset can be found here: https://archive.ics.uci.edu/dataset/45/heart+disease (However, this dataset has been cleaned and reduced, and the people have been given fictious names.)"
      ]
    },
    {
      "cell_type": "markdown",
      "metadata": {
        "id": "O6wa9AzG7xHW"
      },
      "source": [
        "## 1. Logistic Regression\n",
        "\n",
        "Fit a Logistic Regression using only `age` and `chol` (cholesterol) as predictors.\n",
        "\n",
        "For a 55 year old, how high would their cholesterol need to be for the doctors to predict heart disease is present?\n",
        "\n",
        "How high for the doctors to estimate a 90% chance that heart disease is present?"
      ]
    },
    {
      "cell_type": "code",
      "execution_count": 103,
      "metadata": {
        "id": "jc13Bmcr6Rzz"
      },
      "outputs": [],
      "source": [
        "import pandas as pd\n",
        "ha = pd.read_csv(r\"C:\\Users\\achur\\OneDrive\\Desktop\\School\\CP Fall 2024\\544\\ha_1.csv\")"
      ]
    },
    {
      "cell_type": "code",
      "execution_count": 104,
      "metadata": {},
      "outputs": [],
      "source": [
        "from sklearn.pipeline import Pipeline\n",
        "from sklearn.neighbors import KNeighborsClassifier\n",
        "from sklearn.tree import DecisionTreeClassifier\n",
        "from sklearn.linear_model import LogisticRegression\n",
        "from sklearn.preprocessing import StandardScaler, OneHotEncoder\n",
        "from sklearn.model_selection import train_test_split\n",
        "from sklearn.compose import ColumnTransformer, make_column_selector\n",
        "import numpy as np"
      ]
    },
    {
      "cell_type": "code",
      "execution_count": 108,
      "metadata": {},
      "outputs": [
        {
          "name": "stdout",
          "output_type": "stream",
          "text": [
            "Cholesterol level for 50% probability of disease for a 55-year-old: 367.87 mg/dL\n",
            "Cholesterol level for 90% probability of disease for a 55-year-old: 1587.72 mg/dL\n",
            "Cholesterol level for 50% probability of disease for a 55-year-old: 367.87 mg/dL\n",
            "Cholesterol level for 90% probability of disease for a 55-year-old: 1587.72 mg/dL\n"
          ]
        }
      ],
      "source": [
        "from sklearn.linear_model import LogisticRegression\n",
        "from sklearn.pipeline import Pipeline\n",
        "\n",
        "# missing values\n",
        "ha['diagnosis'] = ha['diagnosis'].map({'Disease': 0, 'No Disease': 1})\n",
        "if ha['diagnosis'].isnull().sum() > 0:\n",
        "    print(\"Found missing values in 'diagnosis' after mapping. Dropping these rows.\")\n",
        "    ha = ha.dropna(subset=['diagnosis'])\n",
        "\n",
        "# variables\n",
        "X = ha[['age', 'chol']]\n",
        "y = ha['diagnosis']\n",
        "\n",
        "# empty values\n",
        "if X.shape[0] == 0 or y.shape[0] == 0:\n",
        "    print(\"No valid samples available for fitting. Please check your data.\")\n",
        "else:\n",
        "    log_reg_pipeline = Pipeline([\n",
        "        (\"logistic_regression\", LogisticRegression(penalty=\"l2\", random_state=1))\n",
        "    ])\n",
        "    log_reg_pipeline_fitted = log_reg_pipeline.fit(X, y)\n",
        "\n",
        "    # coefficients and intercept\n",
        "    log_reg = log_reg_pipeline.named_steps[\"logistic_regression\"]\n",
        "    intercept = log_reg.intercept_[0]\n",
        "    coef_age, coef_chol = log_reg.coef_[0]\n",
        "\n",
        "    # probabilities\n",
        "    age = 55\n",
        "    log_odds_50 = 0  # log-odds corresponding to a 50% probability\n",
        "    chol_50 = (log_odds_50 - intercept - coef_age * age) / coef_chol\n",
        "\n",
        "    log_odds_90 = np.log(0.9 / (1 - 0.9))  # log-odds corresponding to a 90% probability\n",
        "    chol_90 = (log_odds_90 - intercept - coef_age * age) / coef_chol\n",
        "\n",
        "    # Print results\n",
        "    print(f\"Cholesterol level for 50% probability of disease for a 55-year-old: {chol_50:.2f} mg/dL\")\n",
        "    print(f\"Cholesterol level for 90% probability of disease for a 55-year-old: {chol_90:.2f} mg/dL\")\n"
      ]
    },
    {
      "cell_type": "markdown",
      "metadata": {
        "id": "t6Gfcspn9EYy"
      },
      "source": [
        "## 2. Linear Discriminant Analysis\n",
        "\n",
        "Fit an LDA model using only `age` and `chol` (cholesterol)  as predictors.\n",
        "\n",
        "For a 55 year old, how high would their cholesterol need to be for the doctors to predict heart disease is present?"
      ]
    },
    {
      "cell_type": "code",
      "execution_count": 109,
      "metadata": {
        "id": "xEE5FPAs9S29"
      },
      "outputs": [
        {
          "name": "stdout",
          "output_type": "stream",
          "text": [
            "Cholesterol level required for a 55-year-old to predict heart disease: 368.24 mg/dL\n",
            "Cholesterol level required for a 55-year-old to predict heart disease: 368.24 mg/dL\n"
          ]
        }
      ],
      "source": [
        "from sklearn.discriminant_analysis import LinearDiscriminantAnalysis\n",
        "import numpy as np\n",
        "\n",
        "# variables\n",
        "X = ha[['age', 'chol']]\n",
        "y = ha['diagnosis']\n",
        "\n",
        "# lda model\n",
        "lda = LinearDiscriminantAnalysis()\n",
        "lda.fit(X, y)\n",
        "\n",
        "# lda coefficients\n",
        "coef_age = lda.coef_[0][0]\n",
        "coef_chol = lda.coef_[0][1]\n",
        "intercept = lda.intercept_[0]\n",
        "\n",
        "# function for prediction\n",
        "def find_cholesterol_for_lda(age, coef_age, coef_chol, intercept):\n",
        "    chol = -(coef_age * age + intercept) / coef_chol\n",
        "    return chol\n",
        "\n",
        "# prediction\n",
        "cholesterol_required = find_cholesterol_for_lda(55, coef_age, coef_chol, intercept)\n",
        "print(f\"Cholesterol level required for a 55-year-old to predict heart disease: {cholesterol_required:.2f} mg/dL\")\n"
      ]
    },
    {
      "cell_type": "markdown",
      "metadata": {
        "id": "RdRR4Evq9THQ"
      },
      "source": [
        "## 3. Support Vector Classifier\n",
        "\n",
        "Fit an SVC model using only `age` and `chol` as predictors.  Don't forget to tune the regularization parameter.\n",
        "\n",
        "For a 55 year old, how high would their cholesterol need to be for the doctors to predict heart disease is present?"
      ]
    },
    {
      "cell_type": "code",
      "execution_count": 110,
      "metadata": {
        "id": "QM0zJ8JN9XS9"
      },
      "outputs": [
        {
          "name": "stdout",
          "output_type": "stream",
          "text": [
            "Shape of X: (204, 5)\n",
            "Shape of y: (204,)\n",
            "Data types:\n",
            " age         int64\n",
            "chol        int64\n",
            "sex        object\n",
            "cp         object\n",
            "restecg    object\n",
            "dtype: object\n",
            "Error during model fitting: Input y contains NaN.\n",
            "Shape of X: (204, 5)\n",
            "Shape of y: (204,)\n",
            "Data types:\n",
            " age         int64\n",
            "chol        int64\n",
            "sex        object\n",
            "cp         object\n",
            "restecg    object\n",
            "dtype: object\n",
            "Error during model fitting: Input y contains NaN.\n"
          ]
        },
        {
          "name": "stderr",
          "output_type": "stream",
          "text": [
            "C:\\Users\\achur\\Downloads\\python\\Lib\\site-packages\\sklearn\\utils\\_array_api.py:290: RuntimeWarning: invalid value encountered in cast\n",
            "  return x.astype(dtype, copy=copy, casting=casting)\n"
          ]
        }
      ],
      "source": [
        "import warnings\n",
        "import numpy as np\n",
        "from sklearn.svm import SVC\n",
        "from sklearn.model_selection import GridSearchCV\n",
        "from sklearn.pipeline import Pipeline\n",
        "from sklearn.preprocessing import StandardScaler\n",
        "from sklearn.compose import ColumnTransformer\n",
        "from sklearn.preprocessing import OneHotEncoder\n",
        "\n",
        "warnings.simplefilter(action='ignore', category=FutureWarning)\n",
        "\n",
        "# categorical columns\n",
        "cat = ['sex', 'cp', 'restecg']\n",
        "ha[cat] = ha[cat].astype('object')\n",
        "\n",
        "# take care of dummy variable\n",
        "ha['diagnosis'] = ha['diagnosis'].map({'Disease': 0, 'No Disease': 1})\n",
        "\n",
        "# missing values\n",
        "ha['age'] = ha['age'].fillna(ha['age'].median())\n",
        "ha['chol'] = ha['chol'].fillna(ha['chol'].median())\n",
        "\n",
        "for col in cat:\n",
        "    if ha[col].isnull().any():\n",
        "        ha[col] = ha[col].fillna(ha[col].mode()[0])\n",
        "\n",
        "# check columns\n",
        "for col in cat:\n",
        "    if col not in ha.columns:\n",
        "        raise ValueError(f\"Expected column '{col}' not found in the DataFrame.\")\n",
        "\n",
        "# column transformer\n",
        "ct = ColumnTransformer(\n",
        "    transformers=[\n",
        "        ('num', StandardScaler(), ['age', 'chol']),\n",
        "        ('cat', OneHotEncoder(handle_unknown='ignore'), cat)\n",
        "    ],\n",
        "    remainder='passthrough'\n",
        ")\n",
        "\n",
        "# variables\n",
        "X = ha[['age', 'chol', 'sex', 'cp', 'restecg']] \n",
        "y = ha['diagnosis']\n",
        "\n",
        "# data consistency\n",
        "print(f\"Shape of X: {X.shape}\")\n",
        "print(f\"Shape of y: {y.shape}\")\n",
        "print(\"Data types:\\n\", X.dtypes)\n",
        "\n",
        "# svc pipeline\n",
        "pipeline_svc = Pipeline([\n",
        "    (\"preprocessing\", ct),\n",
        "    (\"svc\", SVC(kernel=\"linear\", probability=True))\n",
        "])\n",
        "\n",
        "# hyperparameter tuning\n",
        "params = {\n",
        "    'svc__C': [0.001, 0.01, 0.1, 1, 10],\n",
        "}\n",
        "\n",
        "# grid search\n",
        "try:\n",
        "    grid_search = GridSearchCV(pipeline_svc, params, cv=5, scoring='accuracy')\n",
        "    grid_search.fit(X, y)\n",
        "except ValueError as e:\n",
        "    print(f\"Error during model fitting: {e}\")\n",
        "\n",
        "# best estimator \n",
        "if 'grid_search' in locals() and hasattr(grid_search, 'best_estimator_'):\n",
        "    svc_model = grid_search.best_estimator_.named_steps['svc']\n",
        "\n",
        "    # scaler\n",
        "    scaler = grid_search.best_estimator_.named_steps['preprocessing'].named_transformers_['num']\n",
        "    means = scaler.mean_\n",
        "    stds = scaler.scale_\n",
        "\n",
        "    # check indices\n",
        "    numeric_indices = [0, 1]\n",
        "    stds = stds[numeric_indices]\n",
        "\n",
        "    # coefficients and intercept for the original scale\n",
        "    scaled_coefficients = svc_model.coef_[0]\n",
        "    scaled_intercept = svc_model.intercept_[0]\n",
        "\n",
        "    coefficients = scaled_coefficients / stds\n",
        "    intercept = scaled_intercept - np.sum(means[numeric_indices] * scaled_coefficients / stds)\n",
        "\n",
        "    # logistic regression equation\n",
        "    equation = f\"logit(P(Disease)) = {intercept:.3f}\"\n",
        "    for coef, feature in zip(coefficients, ['age', 'chol']):\n",
        "        equation += f\" + {coef:.3f}*{feature}\"\n",
        "\n",
        "    print(equation)\n",
        "\n",
        "    # prediction\n",
        "    logit = np.log(0.5 / (1 - 0.5))\n",
        "    cholesterol_required = (logit - intercept - coefficients[0] * 55) / coefficients[1]\n",
        "    print(f\"Cholesterol level required for a 55-year-old to predict disease: {cholesterol_required:.2f} mg/dL\")\n"
      ]
    },
    {
      "cell_type": "markdown",
      "metadata": {
        "id": "badaMBzw-MsM"
      },
      "source": [
        "## 4. Comparing Decision Boundaries\n",
        "\n",
        "Make a scatterplot of `age` and `chol`, coloring the points by their true disease outcome.  Add a line to the plot representing the **linear separator** (aka **decision boundary**) for each of the three models above."
      ]
    },
    {
      "cell_type": "code",
      "execution_count": 111,
      "metadata": {
        "id": "vVZJwn9s-enf"
      },
      "outputs": [
        {
          "data": {
            "image/png": "[encoded data removed]",
            "text/plain": [
              "<Figure size 1000x600 with 1 Axes>"
            ]
          },
          "metadata": {},
          "output_type": "display_data"
        }
      ],
      "source": [
        "import pandas as pd\n",
        "\n",
        "def plot_decision_boundaries(X, y, models, model_names, scaler=None):\n",
        "    plt.figure(figsize=(10, 6))\n",
        "\n",
        "    # scatterplot\n",
        "    colors = ['blue' if label == 0 else 'red' for label in y]\n",
        "    plt.scatter(X['age'], X['chol'], c=colors, alpha=0.6, edgecolor='k', label='True Outcome')\n",
        "\n",
        "    # decision boundaries\n",
        "    x_vals = np.linspace(X['age'].min() - 1, X['age'].max() + 1, 200)\n",
        "\n",
        "    # decision boundary\n",
        "    for model, name in zip(models, model_names):\n",
        "        if hasattr(model, 'coef_') and hasattr(model, 'intercept_'):  # Linear models with coefficients\n",
        "            coef = model.coef_[0]\n",
        "            intercept = model.intercept_[0]\n",
        "\n",
        "            if scaler:\n",
        "                # scale age\n",
        "                x_vals_df = pd.DataFrame({'age': x_vals, 'chol': np.zeros_like(x_vals)})\n",
        "                x_transformed = scaler.transform(x_vals_df)[:, 0]\n",
        "                # decision boundary for scaled data\n",
        "                y_transformed = -(coef[0] * x_transformed + intercept) / coef[1]\n",
        "                # inverse the results\n",
        "                y_vals = scaler.inverse_transform(pd.DataFrame({'age': np.zeros_like(y_transformed), 'chol': y_transformed}))[:, 1]\n",
        "            else:\n",
        "                y_vals = -(coef[0] * x_vals + intercept) / coef[1]\n",
        "\n",
        "            plt.plot(x_vals, y_vals, '--', label=f'{name} Decision Boundary')\n",
        "\n",
        "    plt.xlabel(\"Age\")\n",
        "    plt.ylabel(\"Cholesterol\")\n",
        "    plt.title(\"Age vs. Cholesterol with Decision Boundaries\")\n",
        "    plt.legend(loc='best')\n",
        "    plt.show()\n",
        "\n",
        "# models\n",
        "models = [log_pipeline.named_steps['classifier'], lda, best_svc]\n",
        "model_names = ['Logistic Regression', 'LDA', 'SVC']\n",
        "\n",
        "# variables\n",
        "X = ha[['age', 'chol']]\n",
        "y = ha['diagnosis']\n",
        "\n",
        "# scaler for variables\n",
        "from sklearn.preprocessing import StandardScaler\n",
        "scaler = StandardScaler()\n",
        "scaler.fit(ha[['age', 'chol']])\n",
        "\n",
        "# decision boundaries\n",
        "plot_decision_boundaries(X, y, models, model_names, scaler)"
      ]
    }
  ],
  "metadata": {
    "colab": {
      "provenance": []
    },
    "kernelspec": {
      "display_name": "Python 3",
      "name": "python3"
    },
    "language_info": {
      "name": "python"
    }
  },
  "nbformat": 4,
  "nbformat_minor": 0
}
