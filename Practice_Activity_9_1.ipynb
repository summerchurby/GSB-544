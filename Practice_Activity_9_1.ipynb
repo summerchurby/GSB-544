{
  "cells": [
    {
      "cell_type": "markdown",
      "metadata": {
        "id": "F9uql3um69hP"
      },
      "source": [
        "## The Data\n",
        "\n",
        "At this link, you will find a dataset containing information about heart disease patients: https://www.dropbox.com/scl/fi/0vrpdnq5asmeulc4gd50y/ha_1.csv?rlkey=ciisalceotl77ffqhqe3kujzv&dl=1\n",
        "\n",
        "A description of the original dataset can be found here: https://archive.ics.uci.edu/dataset/45/heart+disease (However, this dataset has been cleaned and reduced, and the people have been given fictious names.)"
      ]
    },
    {
      "cell_type": "markdown",
      "metadata": {
        "id": "O6wa9AzG7xHW"
      },
      "source": [
        "## 1. Logistic Regression\n",
        "\n",
        "Fit a Logistic Regression using only `age` and `chol` (cholesterol) as predictors.\n",
        "\n",
        "For a 55 year old, how high would their cholesterol need to be for the doctors to predict heart disease is present?\n",
        "\n",
        "How high for the doctors to estimate a 90% chance that heart disease is present?"
      ]
    },
    {
      "cell_type": "code",
      "execution_count": null,
      "metadata": {
        "id": "jc13Bmcr6Rzz"
      },
      "outputs": [],
      "source": []
    },
    {
      "cell_type": "markdown",
      "metadata": {
        "id": "t6Gfcspn9EYy"
      },
      "source": [
        "## 2. Linear Discriminant Analysis\n",
        "\n",
        "Fit an LDA model using only `age` and `chol` (cholesterol)  as predictors.\n",
        "\n",
        "For a 55 year old, how high would their cholesterol need to be for the doctors to predict heart disease is present?"
      ]
    },
    {
      "cell_type": "code",
      "execution_count": null,
      "metadata": {
        "id": "xEE5FPAs9S29"
      },
      "outputs": [],
      "source": []
    },
    {
      "cell_type": "markdown",
      "metadata": {
        "id": "RdRR4Evq9THQ"
      },
      "source": [
        "## 3. Support Vector Classifier\n",
        "\n",
        "Fit an SVC model using only `age` and `chol` as predictors.  Don't forget to tune the regularization parameter.\n",
        "\n",
        "For a 55 year old, how high would their cholesterol need to be for the doctors to predict heart disease is present?"
      ]
    },
    {
      "cell_type": "code",
      "execution_count": null,
      "metadata": {
        "id": "QM0zJ8JN9XS9"
      },
      "outputs": [],
      "source": []
    },
    {
      "cell_type": "markdown",
      "metadata": {
        "id": "badaMBzw-MsM"
      },
      "source": [
        "## 4. Comparing Decision Boundaries\n",
        "\n",
        "Make a scatterplot of `age` and `chol`, coloring the points by their true disease outcome.  Add a line to the plot representing the **linear separator** (aka **decision boundary**) for each of the three models above."
      ]
    },
    {
      "cell_type": "code",
      "execution_count": null,
      "metadata": {
        "id": "vVZJwn9s-enf"
      },
      "outputs": [],
      "source": []
    }
  ],
  "metadata": {
    "colab": {
      "provenance": []
    },
    "kernelspec": {
      "display_name": "Python 3",
      "name": "python3"
    },
    "language_info": {
      "name": "python"
    }
  },
  "nbformat": 4,
  "nbformat_minor": 0
}
