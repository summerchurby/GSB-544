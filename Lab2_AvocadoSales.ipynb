{
 "cells": [
  {
   "cell_type": "markdown",
   "metadata": {},
   "source": [
    "# Lab 2 : Avocado Sales"
   ]
  },
  {
   "cell_type": "code",
   "execution_count": 58,
   "metadata": {},
   "outputs": [
    {
     "data": {
      "text/html": [
       "<div>\n",
       "<style scoped>\n",
       "    .dataframe tbody tr th:only-of-type {\n",
       "        vertical-align: middle;\n",
       "    }\n",
       "\n",
       "    .dataframe tbody tr th {\n",
       "        vertical-align: top;\n",
       "    }\n",
       "\n",
       "    .dataframe thead th {\n",
       "        text-align: right;\n",
       "    }\n",
       "</style>\n",
       "<table border=\"1\" class=\"dataframe\">\n",
       "  <thead>\n",
       "    <tr style=\"text-align: right;\">\n",
       "      <th></th>\n",
       "      <th>date</th>\n",
       "      <th>average_price</th>\n",
       "      <th>total_volume</th>\n",
       "      <th>4046</th>\n",
       "      <th>4225</th>\n",
       "      <th>4770</th>\n",
       "      <th>total_bags</th>\n",
       "      <th>small_bags</th>\n",
       "      <th>large_bags</th>\n",
       "      <th>xlarge_bags</th>\n",
       "      <th>type</th>\n",
       "      <th>year</th>\n",
       "      <th>geography</th>\n",
       "    </tr>\n",
       "  </thead>\n",
       "  <tbody>\n",
       "    <tr>\n",
       "      <th>0</th>\n",
       "      <td>2015-01-04</td>\n",
       "      <td>1.22</td>\n",
       "      <td>40873.28</td>\n",
       "      <td>2819.50</td>\n",
       "      <td>28287.42</td>\n",
       "      <td>49.90</td>\n",
       "      <td>9716.46</td>\n",
       "      <td>9186.93</td>\n",
       "      <td>529.53</td>\n",
       "      <td>0.0</td>\n",
       "      <td>conventional</td>\n",
       "      <td>2015</td>\n",
       "      <td>Albany</td>\n",
       "    </tr>\n",
       "    <tr>\n",
       "      <th>1</th>\n",
       "      <td>2015-01-04</td>\n",
       "      <td>1.79</td>\n",
       "      <td>1373.95</td>\n",
       "      <td>57.42</td>\n",
       "      <td>153.88</td>\n",
       "      <td>0.00</td>\n",
       "      <td>1162.65</td>\n",
       "      <td>1162.65</td>\n",
       "      <td>0.00</td>\n",
       "      <td>0.0</td>\n",
       "      <td>organic</td>\n",
       "      <td>2015</td>\n",
       "      <td>Albany</td>\n",
       "    </tr>\n",
       "    <tr>\n",
       "      <th>2</th>\n",
       "      <td>2015-01-04</td>\n",
       "      <td>1.00</td>\n",
       "      <td>435021.49</td>\n",
       "      <td>364302.39</td>\n",
       "      <td>23821.16</td>\n",
       "      <td>82.15</td>\n",
       "      <td>46815.79</td>\n",
       "      <td>16707.15</td>\n",
       "      <td>30108.64</td>\n",
       "      <td>0.0</td>\n",
       "      <td>conventional</td>\n",
       "      <td>2015</td>\n",
       "      <td>Atlanta</td>\n",
       "    </tr>\n",
       "    <tr>\n",
       "      <th>3</th>\n",
       "      <td>2015-01-04</td>\n",
       "      <td>1.76</td>\n",
       "      <td>3846.69</td>\n",
       "      <td>1500.15</td>\n",
       "      <td>938.35</td>\n",
       "      <td>0.00</td>\n",
       "      <td>1408.19</td>\n",
       "      <td>1071.35</td>\n",
       "      <td>336.84</td>\n",
       "      <td>0.0</td>\n",
       "      <td>organic</td>\n",
       "      <td>2015</td>\n",
       "      <td>Atlanta</td>\n",
       "    </tr>\n",
       "    <tr>\n",
       "      <th>4</th>\n",
       "      <td>2015-01-04</td>\n",
       "      <td>1.08</td>\n",
       "      <td>788025.06</td>\n",
       "      <td>53987.31</td>\n",
       "      <td>552906.04</td>\n",
       "      <td>39995.03</td>\n",
       "      <td>141136.68</td>\n",
       "      <td>137146.07</td>\n",
       "      <td>3990.61</td>\n",
       "      <td>0.0</td>\n",
       "      <td>conventional</td>\n",
       "      <td>2015</td>\n",
       "      <td>Baltimore/Washington</td>\n",
       "    </tr>\n",
       "  </tbody>\n",
       "</table>\n",
       "</div>"
      ],
      "text/plain": [
       "         date  average_price  ...  year             geography\n",
       "0  2015-01-04           1.22  ...  2015                Albany\n",
       "1  2015-01-04           1.79  ...  2015                Albany\n",
       "2  2015-01-04           1.00  ...  2015               Atlanta\n",
       "3  2015-01-04           1.76  ...  2015               Atlanta\n",
       "4  2015-01-04           1.08  ...  2015  Baltimore/Washington\n",
       "\n",
       "[5 rows x 13 columns]"
      ]
     },
     "execution_count": null,
     "metadata": {},
     "output_type": "execute_result"
    }
   ],
   "source": [
    "import pandas as pd\n",
    "avocados = pd.read_csv(r\"C:\\Users\\achur\\OneDrive\\Desktop\\School\\CP Fall 2024\\544\\GSB-544-2\\avocado-updated-2020.csv\")\n",
    "avocados.head()"
   ]
  },
  {
   "cell_type": "markdown",
   "metadata": {},
   "source": [
    "### 1. Breifly describe the data set. What information does it contain? \n",
    "This dataset contains information about Avacados from the HAAS Avacado Board. The dataset features prices of avocados, the total sales volume, the total bags and size of bags, type of avocado and the year and geography for avocados. \n"
   ]
  },
  {
   "cell_type": "markdown",
   "metadata": {},
   "source": [
    "### 2. Clean the data in any way you see fit. "
   ]
  },
  {
   "cell_type": "code",
   "execution_count": 59,
   "metadata": {},
   "outputs": [
    {
     "name": "stdout",
     "output_type": "stream",
     "text": [
      "['Albany' 'Atlanta' 'Baltimore/Washington' 'Boise' 'Boston' 'Buffalo/Rochester'\n",
      " 'California' 'Charlotte' 'Chicago' 'Cincinnati/Dayton' 'Columbus'\n",
      " 'Dallas/Ft. Worth' 'Denver' 'Detroit' 'Grand Rapids' 'Great Lakes'\n",
      " 'Harrisburg/Scranton' 'Hartford/Springfield' 'Houston' 'Indianapolis'\n",
      " 'Jacksonville' 'Las Vegas' 'Los Angeles' 'Louisville' 'Miami/Ft. Lauderdale'\n",
      " 'Midsouth' 'Nashville' 'New Orleans/Mobile' 'New York' 'Northeast'\n",
      " 'Northern New England' 'Orlando' 'Philadelphia' 'Phoenix/Tucson' 'Pittsburgh'\n",
      " 'Plains' 'Portland' 'Raleigh/Greensboro' 'Richmond/Norfolk' 'Roanoke'\n",
      " 'Sacramento' 'San Diego' 'San Francisco' 'Seattle' 'South Carolina'\n",
      " 'South Central' 'Southeast' 'Spokane' 'St. Louis' 'Syracuse' 'Tampa'\n",
      " 'Total U.S.' 'West' 'West Tex/New Mexico']\n",
      "['Albany' 'Atlanta' 'Baltimore/Washington' 'Boise' 'Boston' 'Buffalo/Rochester'\n",
      " 'California' 'Charlotte' 'Chicago' 'Cincinnati/Dayton' 'Columbus'\n",
      " 'Dallas/Ft. Worth' 'Denver' 'Detroit' 'Grand Rapids' 'Great Lakes'\n",
      " 'Harrisburg/Scranton' 'Hartford/Springfield' 'Houston' 'Indianapolis'\n",
      " 'Jacksonville' 'Las Vegas' 'Los Angeles' 'Louisville' 'Miami/Ft. Lauderdale'\n",
      " 'Midsouth' 'Nashville' 'New Orleans/Mobile' 'New York' 'Northeast'\n",
      " 'Northern New England' 'Orlando' 'Philadelphia' 'Phoenix/Tucson' 'Pittsburgh'\n",
      " 'Plains' 'Portland' 'Raleigh/Greensboro' 'Richmond/Norfolk' 'Roanoke'\n",
      " 'Sacramento' 'San Diego' 'San Francisco' 'Seattle' 'South Carolina'\n",
      " 'South Central' 'Southeast' 'Spokane' 'St. Louis' 'Syracuse' 'Tampa'\n",
      " 'Total U.S.' 'West' 'West Tex/New Mexico']\n"
     ]
    }
   ],
   "source": [
    "# find how many unique variables are in geography\n",
    "print(avocados[\"geography\"].unique())"
   ]
  },
  {
   "cell_type": "code",
   "execution_count": 60,
   "metadata": {},
   "outputs": [
    {
     "data": {
      "text/html": [
       "<div>\n",
       "<style scoped>\n",
       "    .dataframe tbody tr th:only-of-type {\n",
       "        vertical-align: middle;\n",
       "    }\n",
       "\n",
       "    .dataframe tbody tr th {\n",
       "        vertical-align: top;\n",
       "    }\n",
       "\n",
       "    .dataframe thead th {\n",
       "        text-align: right;\n",
       "    }\n",
       "</style>\n",
       "<table border=\"1\" class=\"dataframe\">\n",
       "  <thead>\n",
       "    <tr style=\"text-align: right;\">\n",
       "      <th></th>\n",
       "      <th>date</th>\n",
       "      <th>average_price</th>\n",
       "      <th>total_volume</th>\n",
       "      <th>small</th>\n",
       "      <th>large</th>\n",
       "      <th>extralarge</th>\n",
       "      <th>total_bags</th>\n",
       "      <th>small_bags</th>\n",
       "      <th>large_bags</th>\n",
       "      <th>xlarge_bags</th>\n",
       "      <th>type</th>\n",
       "      <th>year</th>\n",
       "      <th>geography</th>\n",
       "      <th>major_regions</th>\n",
       "      <th>minor_regions</th>\n",
       "    </tr>\n",
       "  </thead>\n",
       "  <tbody>\n",
       "    <tr>\n",
       "      <th>0</th>\n",
       "      <td>2015-01-04</td>\n",
       "      <td>1.22</td>\n",
       "      <td>40873.28</td>\n",
       "      <td>2819.50</td>\n",
       "      <td>28287.42</td>\n",
       "      <td>49.90</td>\n",
       "      <td>9716.46</td>\n",
       "      <td>9186.93</td>\n",
       "      <td>529.53</td>\n",
       "      <td>0.0</td>\n",
       "      <td>conventional</td>\n",
       "      <td>2015</td>\n",
       "      <td>Albany</td>\n",
       "      <td>NaN</td>\n",
       "      <td>Albany</td>\n",
       "    </tr>\n",
       "    <tr>\n",
       "      <th>1</th>\n",
       "      <td>2015-01-04</td>\n",
       "      <td>1.79</td>\n",
       "      <td>1373.95</td>\n",
       "      <td>57.42</td>\n",
       "      <td>153.88</td>\n",
       "      <td>0.00</td>\n",
       "      <td>1162.65</td>\n",
       "      <td>1162.65</td>\n",
       "      <td>0.00</td>\n",
       "      <td>0.0</td>\n",
       "      <td>organic</td>\n",
       "      <td>2015</td>\n",
       "      <td>Albany</td>\n",
       "      <td>NaN</td>\n",
       "      <td>Albany</td>\n",
       "    </tr>\n",
       "    <tr>\n",
       "      <th>2</th>\n",
       "      <td>2015-01-04</td>\n",
       "      <td>1.00</td>\n",
       "      <td>435021.49</td>\n",
       "      <td>364302.39</td>\n",
       "      <td>23821.16</td>\n",
       "      <td>82.15</td>\n",
       "      <td>46815.79</td>\n",
       "      <td>16707.15</td>\n",
       "      <td>30108.64</td>\n",
       "      <td>0.0</td>\n",
       "      <td>conventional</td>\n",
       "      <td>2015</td>\n",
       "      <td>Atlanta</td>\n",
       "      <td>NaN</td>\n",
       "      <td>Atlanta</td>\n",
       "    </tr>\n",
       "    <tr>\n",
       "      <th>3</th>\n",
       "      <td>2015-01-04</td>\n",
       "      <td>1.76</td>\n",
       "      <td>3846.69</td>\n",
       "      <td>1500.15</td>\n",
       "      <td>938.35</td>\n",
       "      <td>0.00</td>\n",
       "      <td>1408.19</td>\n",
       "      <td>1071.35</td>\n",
       "      <td>336.84</td>\n",
       "      <td>0.0</td>\n",
       "      <td>organic</td>\n",
       "      <td>2015</td>\n",
       "      <td>Atlanta</td>\n",
       "      <td>NaN</td>\n",
       "      <td>Atlanta</td>\n",
       "    </tr>\n",
       "    <tr>\n",
       "      <th>4</th>\n",
       "      <td>2015-01-04</td>\n",
       "      <td>1.08</td>\n",
       "      <td>788025.06</td>\n",
       "      <td>53987.31</td>\n",
       "      <td>552906.04</td>\n",
       "      <td>39995.03</td>\n",
       "      <td>141136.68</td>\n",
       "      <td>137146.07</td>\n",
       "      <td>3990.61</td>\n",
       "      <td>0.0</td>\n",
       "      <td>conventional</td>\n",
       "      <td>2015</td>\n",
       "      <td>Baltimore/Washington</td>\n",
       "      <td>NaN</td>\n",
       "      <td>Baltimore/Washington</td>\n",
       "    </tr>\n",
       "  </tbody>\n",
       "</table>\n",
       "</div>"
      ],
      "text/plain": [
       "         date  average_price  ...  major_regions         minor_regions\n",
       "0  2015-01-04           1.22  ...            NaN                Albany\n",
       "1  2015-01-04           1.79  ...            NaN                Albany\n",
       "2  2015-01-04           1.00  ...            NaN               Atlanta\n",
       "3  2015-01-04           1.76  ...            NaN               Atlanta\n",
       "4  2015-01-04           1.08  ...            NaN  Baltimore/Washington\n",
       "\n",
       "[5 rows x 15 columns]"
      ]
     },
     "execution_count": null,
     "metadata": {},
     "output_type": "execute_result"
    }
   ],
   "source": [
    "# clean data\n",
    "# rename sizes for avocados\n",
    "avocados = avocados.rename(columns = {\"4046\":\"small\", \"4225\":\"large\", \"4770\":\"extralarge\"})\n",
    "# data set with major regions\n",
    "major_regions = {\n",
    "    \"West\": \"West\", \n",
    "    \"Great Lakes\": \"Great Lakes\",\n",
    "    \"Midsouth\": \"Midsouth\", \n",
    "    \"Northeast\": \"Northeast\", \n",
    "    \"South Central\": \"South Central\", \n",
    "    \"Southeast\": \"Southeast\", \n",
    "    \"West Tex/New Mexico\": \"West Tex/New Mexico\", \n",
    "    \"Plains\": \"Plains\", \n",
    "    \"Northern New England\": \"Northern New England\",\n",
    "    \"California\": \"California\",\n",
    "    \"New York\": \"New York\", \n",
    "    # \"Total U.S.\": \"Total U.S.\"\n",
    "    }\n",
    "# data set with minor regions\n",
    "minor_regions = { \n",
    "    \"South Carolina\": \"South Carolina\",  \n",
    "    \"Albany\": \"Albany\",\n",
    "    \"Atlanta\": \"Atlanta\", \n",
    "    'Baltimore/Washington': 'Baltimore/Washington', \n",
    "    'Boise': 'Boise', \n",
    "    'Boston': 'Boston', \n",
    "    'Buffalo/Rochester': 'Buffalo/Rochester', \n",
    "    'Charlotte': 'Charlotte', \n",
    "    'Chicago': 'Chicago', \n",
    "    'Cincinnati/Dayton': 'Cincinnati/Dayton', \n",
    "    'Columbus': 'Columbus', \n",
    "    'Dallas/Ft. Worth': 'Dallas/Ft. Worth',  \n",
    "    'Denver': 'Denver', \n",
    "    'Detroit': 'Detroit', \n",
    "    'Grand Rapids': 'Grand Rapids', \n",
    "    'Harrisburg/Scranton': 'Harrisburg/Scranton', \n",
    "    'Hartford/Springfield': 'Hartford/Springfield', \n",
    "    'Houston': 'Houston', \n",
    "    'Indianapolis': 'Indianapolis', \n",
    "    'Jacksonville': 'Jacksonville', \n",
    "    'Las Vegas': 'Las Vegas', \n",
    "    'Los Angeles': 'Los Angeles', \n",
    "    'Louisville': 'Louisville', \n",
    "    'Miami/Ft. Lauderdale': 'Miami/Ft. Lauderdale', \n",
    "    'Nashville': 'Nashville', \n",
    "    'New Orleans/Mobile': 'New Orleans/Mobile', \n",
    "    'Orlando': 'Orlando', \n",
    "    'Philadelphia': 'Philadelphia',\n",
    "    'Phoenix/Tucson': 'Phoenix/Tucson', \n",
    "    'Pittsburgh': 'Pittsburgh', \n",
    "    'Portland': 'Portland', \n",
    "    'Raleigh/Greensboro': 'Raleigh/Greensboro', \n",
    "    'Richmond/Norfolk': 'Richmond/Norfolk', \n",
    "    'Roanoke': 'Roanoke', \n",
    "    'Sacramento': 'Sacramento',\n",
    "    'San Diego': 'San Diego', \n",
    "    'San Francisco': 'San Francisco', \n",
    "    'Seattle': 'Seattle', \n",
    "    'Spokane': 'Spokane', \n",
    "    'St. Louis': 'St. Louis', \n",
    "    'Syracuse': 'Syracuse', \n",
    "    'Tampa': 'Tampa'\n",
    "    }\n",
    "avocados[\"major_regions\"] = avocados[\"geography\"].map(major_regions)\n",
    "avocados[\"minor_regions\"] = avocados[\"geography\"].map(minor_regions)\n",
    "avocados.head()\n",
    "\n",
    "# Resource used to understand how mapping effects variables: https://www.geeksforgeeks.org/python-map-function/"
   ]
  },
  {
   "cell_type": "markdown",
   "metadata": {},
   "source": [
    "### 3. Which major geographical region sold the most total organic, small Hass avocados in 2017?"
   ]
  },
  {
   "cell_type": "code",
   "execution_count": 61,
   "metadata": {},
   "outputs": [
    {
     "name": "stdout",
     "output_type": "stream",
     "text": [
      "West 1870206.29\n",
      "West 1870206.29\n"
     ]
    }
   ],
   "source": [
    "# major region with most organic, small Hass avocados in 2017\n",
    "avocados2017 = avocados[(avocados[\"year\"] == 2017) & (avocados[\"type\"] == \"organic\")]\n",
    "major_region_sales = avocados2017.groupby(\"major_regions\")[\"small\"].sum()\n",
    "top_major_region = major_region_sales.idxmax()\n",
    "most_sales = major_region_sales.max()\n",
    "print(f\"{top_major_region} {most_sales}\")\n",
    "\n",
    "# Resource used to utilize idxmax() function: https://www.statology.org/idxmax-pandas/#:~:text=You%20can%20use%20the%20pandas.DataFrame.idxmax()%20function%20to%20return%20the%20index"
   ]
  },
  {
   "cell_type": "markdown",
   "metadata": {},
   "source": [
    "The West is the major geographical region that sold the most total organic, small Hass avocados in 2017. "
   ]
  },
  {
   "cell_type": "markdown",
   "metadata": {},
   "source": [
    "### 4. Split the date variable into month, day, and year variables. In which month is the highest average volume of avocado sales?"
   ]
  },
  {
   "cell_type": "code",
   "execution_count": 62,
   "metadata": {},
   "outputs": [
    {
     "name": "stdout",
     "output_type": "stream",
     "text": [
      "5\n",
      "5\n"
     ]
    }
   ],
   "source": [
    "avocados[\"date\"] = pd.to_datetime(avocados[\"date\"])\n",
    "avocados[\"day\"] = avocados[\"date\"].dt.day\n",
    "avocados[\"month\"] = avocados[\"date\"].dt.month\n",
    "avocados[\"year\"] = avocados[\"date\"].dt.year\n",
    "avocados.head()\n",
    "highest_month = avocados.groupby(\"month\")[\"total_volume\"].mean()\n",
    "highestmonth = highest_month.idxmax()\n",
    "print(highestmonth)"
   ]
  },
  {
   "cell_type": "markdown",
   "metadata": {},
   "source": [
    "The month with the highest average volume of avocado sales is May. "
   ]
  },
  {
   "cell_type": "markdown",
   "metadata": {},
   "source": [
    "### 5. Which metro area geographical regions sold the most total avocados? Plot side-by-side box-plots of the total volume for only the five metro geographical regions with the highest averages for total_volume variable."
   ]
  },
  {
   "cell_type": "code",
   "execution_count": 63,
   "metadata": {},
   "outputs": [
    {
     "data": {
      "image/png": "[encoded data removed]"
     },
     "metadata": {},
     "output_type": "display_data"
    }
   ],
   "source": [
    "from plotnine import *\n",
    "\n",
    "metro = (\n",
    "    avocados.groupby(\"minor_regions\")\n",
    "    .agg(mean_vol = (\"total_volume\", \"mean\"))\n",
    "    .nlargest(5, \"mean_vol\")\n",
    "    .reset_index()\n",
    ")\n",
    "avocados_metro = avocados[avocados[\"minor_regions\"].isin(metro[\"minor_regions\"])]\n",
    "(ggplot(\n",
    "    avocados_metro, aes(x = \"minor_regions\", y = \"total_volume\"))\n",
    "    + geom_boxplot(fill = \"pink\")\n",
    "    + labs(x = \"Total Volume\", y = \"Region\", title = \"Metro Area Regions\")\n",
    "    + theme(figure_size = (10, 6))\n",
    ")"
   ]
  },
  {
   "cell_type": "markdown",
   "metadata": {},
   "source": [
    "### 6. From your cleaned data set, create a data set with only these California regions (San Francisco, Sacramento, Los Angeles, San Diego) and answer the following questions about these California regions only. "
   ]
  },
  {
   "cell_type": "code",
   "execution_count": null,
   "metadata": {},
   "outputs": [],
   "source": [
    "avocados_california"
   ]
  },
  {
   "cell_type": "markdown",
   "metadata": {},
   "source": [
    "### 7. In which California regions is the price or organic versus conventional avocados most different? Support your answer with a few summary statistics AND a visualization."
   ]
  },
  {
   "cell_type": "code",
   "execution_count": null,
   "metadata": {},
   "outputs": [],
   "source": []
  },
  {
   "cell_type": "markdown",
   "metadata": {},
   "source": [
    "### 8. The following plot shows, for all four California regions, the proportion of the average Hass avocado sales that are small, large, or extra large; conventional vs. organic. Recreate the plot; you do not have to replicate the exact finishing touches - e.g., color, theme - but your plot should resemble the content of this plot."
   ]
  },
  {
   "cell_type": "code",
   "execution_count": null,
   "metadata": {},
   "outputs": [],
   "source": []
  },
  {
   "cell_type": "markdown",
   "metadata": {},
   "source": [
    "### 9. Using outside data"
   ]
  },
  {
   "cell_type": "code",
   "execution_count": null,
   "metadata": {},
   "outputs": [],
   "source": []
  },
  {
   "cell_type": "markdown",
   "metadata": {},
   "source": [
    "### Appendix and References\n",
    "https://www.kaggle.com/datasets/timmate/avocado-prices-2020?resource=download&select=avocado-updated-2020.csv"
   ]
  }
 ],
 "metadata": {
  "language_info": {
   "name": "python"
  }
 },
 "nbformat": 4,
 "nbformat_minor": 2
}
