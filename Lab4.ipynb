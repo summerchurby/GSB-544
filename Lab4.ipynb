{
 "cells": [
  {
   "cell_type": "raw",
   "metadata": {
    "vscode": {
     "languageId": "raw"
    }
   },
   "source": [
    "---\n",
    "title: Lab 4\n",
    "author: Summer Churby\n",
    "format: \n",
    "        html: \n",
    "            toc: true\n",
    "            code-fold: true\n",
    "embed-resources: true\n",
    "---"
   ]
  },
  {
   "cell_type": "markdown",
   "metadata": {},
   "source": [
    "## Scrape the Location Counts"
   ]
  },
  {
   "cell_type": "markdown",
   "metadata": {},
   "source": [
    "### 1. Use the beautifulsoup library to scrape the data (from the link above) on state names and corresponding number of store locations, for the following chains:\n",
    "* Starbucks\n",
    "\n",
    "* Dunkin’ Donuts"
   ]
  },
  {
   "cell_type": "code",
   "execution_count": 1,
   "metadata": {},
   "outputs": [],
   "source": [
    "import pandas as pd \n",
    "import requests\n",
    "from bs4 import BeautifulSoup"
   ]
  },
  {
   "cell_type": "code",
   "execution_count": 25,
   "metadata": {},
   "outputs": [],
   "source": [
    "response = requests.get(\"https://worldpopulationreview.com/state-rankings/starbucks-stores-by-state\")\n",
    "soup = BeautifulSoup(response.content, \"html.parser\")\n",
    "tables = soup.find_all(\"table\", class_ = \"wpr-table\")\n"
   ]
  },
  {
   "cell_type": "code",
   "execution_count": 28,
   "metadata": {},
   "outputs": [
    {
     "name": "stdout",
     "output_type": "stream",
     "text": [
      "[{'state': 'California', '2023 Stores': '3,080', '2021 Stores': '2,959', '2024 Stores': '3,117'}, {'state': 'Texas', '2023 Stores': '1,346', '2021 Stores': '1,215', '2024 Stores': '1,409'}, {'state': 'Florida', '2023 Stores': '844', '2021 Stores': '786', '2024 Stores': '892'}, {'state': 'Washington', '2023 Stores': '741', '2021 Stores': '739', '2024 Stores': '736'}, {'state': 'New York', '2023 Stores': '692', '2021 Stores': '643', '2024 Stores': '715'}, {'state': 'Illinois', '2023 Stores': '677', '2021 Stores': '621', '2024 Stores': '685'}, {'state': 'Arizona', '2023 Stores': '548', '2021 Stores': '535', '2024 Stores': '579'}, {'state': 'Colorado', '2023 Stores': '495', '2021 Stores': '497', '2024 Stores': '506'}, {'state': 'Ohio', '2023 Stores': '491', '2021 Stores': '446', '2024 Stores': '499'}, {'state': 'Virginia', '2023 Stores': '489', '2021 Stores': '456', '2024 Stores': '510'}, {'state': 'Oregon', '2023 Stores': '359', '2021 Stores': '345', '2024 Stores': ''}, {'state': 'Pennsylvania', '2023 Stores': '357', '2021 Stores': '406', '2024 Stores': ''}, {'state': 'North Carolina', '2023 Stores': '338', '2021 Stores': '422', '2024 Stores': ''}, {'state': 'Georgia', '2023 Stores': '326', '2021 Stores': '379', '2024 Stores': ''}, {'state': 'Michigan', '2023 Stores': '283', '2021 Stores': '310', '2024 Stores': ''}, {'state': 'Massachusetts', '2023 Stores': '273', '2021 Stores': '279', '2024 Stores': ''}, {'state': 'New Jersey', '2023 Stores': '261', '2021 Stores': '293', '2024 Stores': ''}, {'state': 'Maryland', '2023 Stores': '257', '2021 Stores': '274', '2024 Stores': ''}, {'state': 'Nevada', '2023 Stores': '253', '2021 Stores': '269', '2024 Stores': ''}, {'state': 'Indiana', '2023 Stores': '221', '2021 Stores': '265', '2024 Stores': ''}, {'state': 'Missouri', '2023 Stores': '188', '2021 Stores': '208', '2024 Stores': ''}, {'state': 'Minnesota', '2023 Stores': '184', '2021 Stores': '212', '2024 Stores': ''}, {'state': 'Tennessee', '2023 Stores': '180', '2021 Stores': '237', '2024 Stores': ''}, {'state': 'Kentucky', '2023 Stores': '166', '2021 Stores': '131', '2024 Stores': ''}, {'state': 'Wisconsin', '2023 Stores': '145', '2021 Stores': '176', '2024 Stores': ''}, {'state': 'South Carolina', '2023 Stores': '131', '2021 Stores': '207', '2024 Stores': ''}, {'state': 'Connecticut', '2023 Stores': '123', '2021 Stores': '125', '2024 Stores': ''}, {'state': 'Utah', '2023 Stores': '101', '2021 Stores': '126', '2024 Stores': ''}, {'state': 'Hawaii', '2023 Stores': '99', '2021 Stores': '105', '2024 Stores': ''}, {'state': 'Kansas', '2023 Stores': '94', '2021 Stores': '120', '2024 Stores': ''}, {'state': 'District of Columbia', '2023 Stores': '91', '2021 Stores': '', '2024 Stores': ''}, {'state': 'Iowa', '2023 Stores': '89', '2021 Stores': '142', '2024 Stores': ''}, {'state': 'Alabama', '2023 Stores': '85', '2021 Stores': '99', '2024 Stores': ''}, {'state': 'Louisiana', '2023 Stores': '84', '2021 Stores': '10', '2024 Stores': ''}, {'state': 'Oklahoma', '2023 Stores': '79', '2021 Stores': '94', '2024 Stores': ''}, {'state': 'New Mexico', '2023 Stores': '76', '2021 Stores': '92', '2024 Stores': ''}, {'state': 'Idaho', '2023 Stores': '67', '2021 Stores': '78', '2024 Stores': ''}, {'state': 'Nebraska', '2023 Stores': '58', '2021 Stores': '87', '2024 Stores': ''}, {'state': 'Arkansas', '2023 Stores': '55', '2021 Stores': '66', '2024 Stores': ''}, {'state': 'Alaska', '2023 Stores': '49', '2021 Stores': '49', '2024 Stores': ''}, {'state': 'Mississippi', '2023 Stores': '32', '2021 Stores': '36', '2024 Stores': ''}, {'state': 'Montana', '2023 Stores': '32', '2021 Stores': '45', '2024 Stores': ''}, {'state': 'Maine', '2023 Stores': '30', '2021 Stores': '31', '2024 Stores': ''}, {'state': 'New Hampshire', '2023 Stores': '29', '2021 Stores': '35', '2024 Stores': ''}, {'state': 'Rhode Island', '2023 Stores': '27', '2021 Stores': '26', '2024 Stores': ''}, {'state': 'Delaware', '2023 Stores': '25', '2021 Stores': '39', '2024 Stores': ''}, {'state': 'South Dakota', '2023 Stores': '25', '2021 Stores': '52', '2024 Stores': ''}, {'state': 'West Virginia', '2023 Stores': '25', '2021 Stores': '64', '2024 Stores': ''}, {'state': 'Wyoming', '2023 Stores': '23', '2021 Stores': '26', '2024 Stores': ''}, {'state': 'North Dakota', '2023 Stores': '13', '2021 Stores': '20', '2024 Stores': ''}, {'state': 'Vermont', '2023 Stores': '8', '2021 Stores': '35', '2024 Stores': ''}]\n",
      "                   state 2023 Stores 2021 Stores 2024 Stores\n",
      "0             California       3,080       2,959       3,117\n",
      "1                  Texas       1,346       1,215       1,409\n",
      "2                Florida         844         786         892\n",
      "3             Washington         741         739         736\n",
      "4               New York         692         643         715\n",
      "5               Illinois         677         621         685\n",
      "6                Arizona         548         535         579\n",
      "7               Colorado         495         497         506\n",
      "8                   Ohio         491         446         499\n",
      "9               Virginia         489         456         510\n",
      "10                Oregon         359         345            \n",
      "11          Pennsylvania         357         406            \n",
      "12        North Carolina         338         422            \n",
      "13               Georgia         326         379            \n",
      "14              Michigan         283         310            \n",
      "15         Massachusetts         273         279            \n",
      "16            New Jersey         261         293            \n",
      "17              Maryland         257         274            \n",
      "18                Nevada         253         269            \n",
      "19               Indiana         221         265            \n",
      "20              Missouri         188         208            \n",
      "21             Minnesota         184         212            \n",
      "22             Tennessee         180         237            \n",
      "23              Kentucky         166         131            \n",
      "24             Wisconsin         145         176            \n",
      "25        South Carolina         131         207            \n",
      "26           Connecticut         123         125            \n",
      "27                  Utah         101         126            \n",
      "28                Hawaii          99         105            \n",
      "29                Kansas          94         120            \n",
      "30  District of Columbia          91                        \n",
      "31                  Iowa          89         142            \n",
      "32               Alabama          85          99            \n",
      "33             Louisiana          84          10            \n",
      "34              Oklahoma          79          94            \n",
      "35            New Mexico          76          92            \n",
      "36                 Idaho          67          78            \n",
      "37              Nebraska          58          87            \n",
      "38              Arkansas          55          66            \n",
      "39                Alaska          49          49            \n",
      "40           Mississippi          32          36            \n",
      "41               Montana          32          45            \n",
      "42                 Maine          30          31            \n",
      "43         New Hampshire          29          35            \n",
      "44          Rhode Island          27          26            \n",
      "45              Delaware          25          39            \n",
      "46          South Dakota          25          52            \n",
      "47         West Virginia          25          64            \n",
      "48               Wyoming          23          26            \n",
      "49          North Dakota          13          20            \n",
      "50               Vermont           8          35            \n",
      "[{'state': 'California', '2023 Stores': '3,080', '2021 Stores': '2,959', '2024 Stores': '3,117'}, {'state': 'Texas', '2023 Stores': '1,346', '2021 Stores': '1,215', '2024 Stores': '1,409'}, {'state': 'Florida', '2023 Stores': '844', '2021 Stores': '786', '2024 Stores': '892'}, {'state': 'Washington', '2023 Stores': '741', '2021 Stores': '739', '2024 Stores': '736'}, {'state': 'New York', '2023 Stores': '692', '2021 Stores': '643', '2024 Stores': '715'}, {'state': 'Illinois', '2023 Stores': '677', '2021 Stores': '621', '2024 Stores': '685'}, {'state': 'Arizona', '2023 Stores': '548', '2021 Stores': '535', '2024 Stores': '579'}, {'state': 'Colorado', '2023 Stores': '495', '2021 Stores': '497', '2024 Stores': '506'}, {'state': 'Ohio', '2023 Stores': '491', '2021 Stores': '446', '2024 Stores': '499'}, {'state': 'Virginia', '2023 Stores': '489', '2021 Stores': '456', '2024 Stores': '510'}, {'state': 'Oregon', '2023 Stores': '359', '2021 Stores': '345', '2024 Stores': ''}, {'state': 'Pennsylvania', '2023 Stores': '357', '2021 Stores': '406', '2024 Stores': ''}, {'state': 'North Carolina', '2023 Stores': '338', '2021 Stores': '422', '2024 Stores': ''}, {'state': 'Georgia', '2023 Stores': '326', '2021 Stores': '379', '2024 Stores': ''}, {'state': 'Michigan', '2023 Stores': '283', '2021 Stores': '310', '2024 Stores': ''}, {'state': 'Massachusetts', '2023 Stores': '273', '2021 Stores': '279', '2024 Stores': ''}, {'state': 'New Jersey', '2023 Stores': '261', '2021 Stores': '293', '2024 Stores': ''}, {'state': 'Maryland', '2023 Stores': '257', '2021 Stores': '274', '2024 Stores': ''}, {'state': 'Nevada', '2023 Stores': '253', '2021 Stores': '269', '2024 Stores': ''}, {'state': 'Indiana', '2023 Stores': '221', '2021 Stores': '265', '2024 Stores': ''}, {'state': 'Missouri', '2023 Stores': '188', '2021 Stores': '208', '2024 Stores': ''}, {'state': 'Minnesota', '2023 Stores': '184', '2021 Stores': '212', '2024 Stores': ''}, {'state': 'Tennessee', '2023 Stores': '180', '2021 Stores': '237', '2024 Stores': ''}, {'state': 'Kentucky', '2023 Stores': '166', '2021 Stores': '131', '2024 Stores': ''}, {'state': 'Wisconsin', '2023 Stores': '145', '2021 Stores': '176', '2024 Stores': ''}, {'state': 'South Carolina', '2023 Stores': '131', '2021 Stores': '207', '2024 Stores': ''}, {'state': 'Connecticut', '2023 Stores': '123', '2021 Stores': '125', '2024 Stores': ''}, {'state': 'Utah', '2023 Stores': '101', '2021 Stores': '126', '2024 Stores': ''}, {'state': 'Hawaii', '2023 Stores': '99', '2021 Stores': '105', '2024 Stores': ''}, {'state': 'Kansas', '2023 Stores': '94', '2021 Stores': '120', '2024 Stores': ''}, {'state': 'District of Columbia', '2023 Stores': '91', '2021 Stores': '', '2024 Stores': ''}, {'state': 'Iowa', '2023 Stores': '89', '2021 Stores': '142', '2024 Stores': ''}, {'state': 'Alabama', '2023 Stores': '85', '2021 Stores': '99', '2024 Stores': ''}, {'state': 'Louisiana', '2023 Stores': '84', '2021 Stores': '10', '2024 Stores': ''}, {'state': 'Oklahoma', '2023 Stores': '79', '2021 Stores': '94', '2024 Stores': ''}, {'state': 'New Mexico', '2023 Stores': '76', '2021 Stores': '92', '2024 Stores': ''}, {'state': 'Idaho', '2023 Stores': '67', '2021 Stores': '78', '2024 Stores': ''}, {'state': 'Nebraska', '2023 Stores': '58', '2021 Stores': '87', '2024 Stores': ''}, {'state': 'Arkansas', '2023 Stores': '55', '2021 Stores': '66', '2024 Stores': ''}, {'state': 'Alaska', '2023 Stores': '49', '2021 Stores': '49', '2024 Stores': ''}, {'state': 'Mississippi', '2023 Stores': '32', '2021 Stores': '36', '2024 Stores': ''}, {'state': 'Montana', '2023 Stores': '32', '2021 Stores': '45', '2024 Stores': ''}, {'state': 'Maine', '2023 Stores': '30', '2021 Stores': '31', '2024 Stores': ''}, {'state': 'New Hampshire', '2023 Stores': '29', '2021 Stores': '35', '2024 Stores': ''}, {'state': 'Rhode Island', '2023 Stores': '27', '2021 Stores': '26', '2024 Stores': ''}, {'state': 'Delaware', '2023 Stores': '25', '2021 Stores': '39', '2024 Stores': ''}, {'state': 'South Dakota', '2023 Stores': '25', '2021 Stores': '52', '2024 Stores': ''}, {'state': 'West Virginia', '2023 Stores': '25', '2021 Stores': '64', '2024 Stores': ''}, {'state': 'Wyoming', '2023 Stores': '23', '2021 Stores': '26', '2024 Stores': ''}, {'state': 'North Dakota', '2023 Stores': '13', '2021 Stores': '20', '2024 Stores': ''}, {'state': 'Vermont', '2023 Stores': '8', '2021 Stores': '35', '2024 Stores': ''}]\n",
      "                   state 2023 Stores 2021 Stores 2024 Stores\n",
      "0             California       3,080       2,959       3,117\n",
      "1                  Texas       1,346       1,215       1,409\n",
      "2                Florida         844         786         892\n",
      "3             Washington         741         739         736\n",
      "4               New York         692         643         715\n",
      "5               Illinois         677         621         685\n",
      "6                Arizona         548         535         579\n",
      "7               Colorado         495         497         506\n",
      "8                   Ohio         491         446         499\n",
      "9               Virginia         489         456         510\n",
      "10                Oregon         359         345            \n",
      "11          Pennsylvania         357         406            \n",
      "12        North Carolina         338         422            \n",
      "13               Georgia         326         379            \n",
      "14              Michigan         283         310            \n",
      "15         Massachusetts         273         279            \n",
      "16            New Jersey         261         293            \n",
      "17              Maryland         257         274            \n",
      "18                Nevada         253         269            \n",
      "19               Indiana         221         265            \n",
      "20              Missouri         188         208            \n",
      "21             Minnesota         184         212            \n",
      "22             Tennessee         180         237            \n",
      "23              Kentucky         166         131            \n",
      "24             Wisconsin         145         176            \n",
      "25        South Carolina         131         207            \n",
      "26           Connecticut         123         125            \n",
      "27                  Utah         101         126            \n",
      "28                Hawaii          99         105            \n",
      "29                Kansas          94         120            \n",
      "30  District of Columbia          91                        \n",
      "31                  Iowa          89         142            \n",
      "32               Alabama          85          99            \n",
      "33             Louisiana          84          10            \n",
      "34              Oklahoma          79          94            \n",
      "35            New Mexico          76          92            \n",
      "36                 Idaho          67          78            \n",
      "37              Nebraska          58          87            \n",
      "38              Arkansas          55          66            \n",
      "39                Alaska          49          49            \n",
      "40           Mississippi          32          36            \n",
      "41               Montana          32          45            \n",
      "42                 Maine          30          31            \n",
      "43         New Hampshire          29          35            \n",
      "44          Rhode Island          27          26            \n",
      "45              Delaware          25          39            \n",
      "46          South Dakota          25          52            \n",
      "47         West Virginia          25          64            \n",
      "48               Wyoming          23          26            \n",
      "49          North Dakota          13          20            \n",
      "50               Vermont           8          35            \n"
     ]
    }
   ],
   "source": [
    "rows = []\n",
    "states_list = []\n",
    "\n",
    "for th in table.find_all(\"th\")[4:]:\n",
    "    states = th.get_text(strip = True)\n",
    "    states_list.append(states)\n",
    "\n",
    "for i, tr in enumerate(table.find_all(\"tr\")[1:]):\n",
    "    state = states_list[i]\n",
    "\n",
    "    cells = tr.find_all(\"td\")\n",
    "    \n",
    "    stores2023_tag = cells[0].find(\"a\") or cells[0]\n",
    "    stores2023 = stores2023_tag.get_text(strip = True)\n",
    "\n",
    "    stores2021_tag = cells[0].find(\"a\") or cells[1]\n",
    "    stores2021 = stores2021_tag.get_text(strip = True)\n",
    "\n",
    "    stores2024_tag = cells[0].find(\"a\") or cells[2]\n",
    "    stores2024 = stores2024_tag.get_text(strip = True)\n",
    "\n",
    "    # Append this data.\n",
    "    rows.append({\n",
    "        \"state\": state,\n",
    "        \"2023 Stores\": stores2023,\n",
    "        \"2021 Stores\": stores2021,\n",
    "        \"2024 Stores\": stores2024\n",
    "    })\n",
    "print(rows)\n",
    "df = pd.DataFrame(rows)\n",
    "print(df)"
   ]
  },
  {
   "cell_type": "markdown",
   "metadata": {},
   "source": [
    "### 2. Parse, merge and tidy your data. Think carefully about what the tidy version of this dataset is with multiple years represented on the website."
   ]
  },
  {
   "cell_type": "code",
   "execution_count": null,
   "metadata": {},
   "outputs": [],
   "source": []
  },
  {
   "cell_type": "markdown",
   "metadata": {},
   "source": [
    "## Supplemental Data"
   ]
  },
  {
   "cell_type": "code",
   "execution_count": null,
   "metadata": {},
   "outputs": [],
   "source": []
  }
 ],
 "metadata": {
  "language_info": {
   "name": "python"
  }
 },
 "nbformat": 4,
 "nbformat_minor": 2
}
