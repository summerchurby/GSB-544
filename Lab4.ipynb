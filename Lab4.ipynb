{
 "cells": [
  {
   "cell_type": "raw",
   "metadata": {
    "vscode": {
     "languageId": "raw"
    }
   },
   "source": [
    "---\n",
    "title: Lab 4\n",
    "author: Summer Churby\n",
    "format: \n",
    "        html: \n",
    "            toc: true\n",
    "            code-fold: true\n",
    "embed-resources: true\n",
    "---"
   ]
  },
  {
   "cell_type": "markdown",
   "metadata": {},
   "source": [
    "## Scrape the Location Counts"
   ]
  },
  {
   "cell_type": "markdown",
   "metadata": {},
   "source": [
    "### 1. Use the beautifulsoup library to scrape the data (from the link above) on state names and corresponding number of store locations, for the following chains:\n",
    "* Starbucks\n",
    "\n",
    "* Dunkin’ Donuts"
   ]
  },
  {
   "cell_type": "code",
   "execution_count": 1,
   "metadata": {},
   "outputs": [],
   "source": [
    "import pandas as pd \n",
    "import requests\n",
    "from bs4 import BeautifulSoup"
   ]
  },
  {
   "cell_type": "code",
   "execution_count": 15,
   "metadata": {},
   "outputs": [],
   "source": [
    "# starbucks\n",
    "response = requests.get(\"https://worldpopulationreview.com/state-rankings/starbucks-stores-by-state\")\n",
    "starbucks_soup = BeautifulSoup(response.content, \"html.parser\")\n",
    "starbucks_tables = starbucks_soup.find_all(\"table\", class_ = \"wpr-table\")[0]\n"
   ]
  },
  {
   "cell_type": "code",
   "execution_count": 46,
   "metadata": {},
   "outputs": [
    {
     "name": "stdout",
     "output_type": "stream",
     "text": [
      "[{'State': 'California', 'Year': 2023, 'Starbucks Stores': '3,080', 'Company': 'Starbucks'}, {'State': 'California', 'Year': 2021, 'Starbucks Stores': '2,959', 'Company': 'Starbucks'}, {'State': 'California', 'Year': 2024, 'Starbucks Stores': '3,117', 'Company': 'Starbucks'}, {'State': 'Texas', 'Year': 2023, 'Starbucks Stores': '1,346', 'Company': 'Starbucks'}, {'State': 'Texas', 'Year': 2021, 'Starbucks Stores': '1,215', 'Company': 'Starbucks'}, {'State': 'Texas', 'Year': 2024, 'Starbucks Stores': '1,409', 'Company': 'Starbucks'}, {'State': 'Florida', 'Year': 2023, 'Starbucks Stores': '844', 'Company': 'Starbucks'}, {'State': 'Florida', 'Year': 2021, 'Starbucks Stores': '786', 'Company': 'Starbucks'}, {'State': 'Florida', 'Year': 2024, 'Starbucks Stores': '892', 'Company': 'Starbucks'}, {'State': 'Washington', 'Year': 2023, 'Starbucks Stores': '741', 'Company': 'Starbucks'}, {'State': 'Washington', 'Year': 2021, 'Starbucks Stores': '739', 'Company': 'Starbucks'}, {'State': 'Washington', 'Year': 2024, 'Starbucks Stores': '736', 'Company': 'Starbucks'}, {'State': 'New York', 'Year': 2023, 'Starbucks Stores': '692', 'Company': 'Starbucks'}, {'State': 'New York', 'Year': 2021, 'Starbucks Stores': '643', 'Company': 'Starbucks'}, {'State': 'New York', 'Year': 2024, 'Starbucks Stores': '715', 'Company': 'Starbucks'}, {'State': 'Illinois', 'Year': 2023, 'Starbucks Stores': '677', 'Company': 'Starbucks'}, {'State': 'Illinois', 'Year': 2021, 'Starbucks Stores': '621', 'Company': 'Starbucks'}, {'State': 'Illinois', 'Year': 2024, 'Starbucks Stores': '685', 'Company': 'Starbucks'}, {'State': 'Arizona', 'Year': 2023, 'Starbucks Stores': '548', 'Company': 'Starbucks'}, {'State': 'Arizona', 'Year': 2021, 'Starbucks Stores': '535', 'Company': 'Starbucks'}, {'State': 'Arizona', 'Year': 2024, 'Starbucks Stores': '579', 'Company': 'Starbucks'}, {'State': 'Colorado', 'Year': 2023, 'Starbucks Stores': '495', 'Company': 'Starbucks'}, {'State': 'Colorado', 'Year': 2021, 'Starbucks Stores': '497', 'Company': 'Starbucks'}, {'State': 'Colorado', 'Year': 2024, 'Starbucks Stores': '506', 'Company': 'Starbucks'}, {'State': 'Ohio', 'Year': 2023, 'Starbucks Stores': '491', 'Company': 'Starbucks'}, {'State': 'Ohio', 'Year': 2021, 'Starbucks Stores': '446', 'Company': 'Starbucks'}, {'State': 'Ohio', 'Year': 2024, 'Starbucks Stores': '499', 'Company': 'Starbucks'}, {'State': 'Virginia', 'Year': 2023, 'Starbucks Stores': '489', 'Company': 'Starbucks'}, {'State': 'Virginia', 'Year': 2021, 'Starbucks Stores': '456', 'Company': 'Starbucks'}, {'State': 'Virginia', 'Year': 2024, 'Starbucks Stores': '510', 'Company': 'Starbucks'}, {'State': 'Oregon', 'Year': 2023, 'Starbucks Stores': '359', 'Company': 'Starbucks'}, {'State': 'Oregon', 'Year': 2021, 'Starbucks Stores': '345', 'Company': 'Starbucks'}, {'State': 'Oregon', 'Year': 2024, 'Starbucks Stores': '', 'Company': 'Starbucks'}, {'State': 'Pennsylvania', 'Year': 2023, 'Starbucks Stores': '357', 'Company': 'Starbucks'}, {'State': 'Pennsylvania', 'Year': 2021, 'Starbucks Stores': '406', 'Company': 'Starbucks'}, {'State': 'Pennsylvania', 'Year': 2024, 'Starbucks Stores': '', 'Company': 'Starbucks'}, {'State': 'North Carolina', 'Year': 2023, 'Starbucks Stores': '338', 'Company': 'Starbucks'}, {'State': 'North Carolina', 'Year': 2021, 'Starbucks Stores': '422', 'Company': 'Starbucks'}, {'State': 'North Carolina', 'Year': 2024, 'Starbucks Stores': '', 'Company': 'Starbucks'}, {'State': 'Georgia', 'Year': 2023, 'Starbucks Stores': '326', 'Company': 'Starbucks'}, {'State': 'Georgia', 'Year': 2021, 'Starbucks Stores': '379', 'Company': 'Starbucks'}, {'State': 'Georgia', 'Year': 2024, 'Starbucks Stores': '', 'Company': 'Starbucks'}, {'State': 'Michigan', 'Year': 2023, 'Starbucks Stores': '283', 'Company': 'Starbucks'}, {'State': 'Michigan', 'Year': 2021, 'Starbucks Stores': '310', 'Company': 'Starbucks'}, {'State': 'Michigan', 'Year': 2024, 'Starbucks Stores': '', 'Company': 'Starbucks'}, {'State': 'Massachusetts', 'Year': 2023, 'Starbucks Stores': '273', 'Company': 'Starbucks'}, {'State': 'Massachusetts', 'Year': 2021, 'Starbucks Stores': '279', 'Company': 'Starbucks'}, {'State': 'Massachusetts', 'Year': 2024, 'Starbucks Stores': '', 'Company': 'Starbucks'}, {'State': 'New Jersey', 'Year': 2023, 'Starbucks Stores': '261', 'Company': 'Starbucks'}, {'State': 'New Jersey', 'Year': 2021, 'Starbucks Stores': '293', 'Company': 'Starbucks'}, {'State': 'New Jersey', 'Year': 2024, 'Starbucks Stores': '', 'Company': 'Starbucks'}, {'State': 'Maryland', 'Year': 2023, 'Starbucks Stores': '257', 'Company': 'Starbucks'}, {'State': 'Maryland', 'Year': 2021, 'Starbucks Stores': '274', 'Company': 'Starbucks'}, {'State': 'Maryland', 'Year': 2024, 'Starbucks Stores': '', 'Company': 'Starbucks'}, {'State': 'Nevada', 'Year': 2023, 'Starbucks Stores': '253', 'Company': 'Starbucks'}, {'State': 'Nevada', 'Year': 2021, 'Starbucks Stores': '269', 'Company': 'Starbucks'}, {'State': 'Nevada', 'Year': 2024, 'Starbucks Stores': '', 'Company': 'Starbucks'}, {'State': 'Indiana', 'Year': 2023, 'Starbucks Stores': '221', 'Company': 'Starbucks'}, {'State': 'Indiana', 'Year': 2021, 'Starbucks Stores': '265', 'Company': 'Starbucks'}, {'State': 'Indiana', 'Year': 2024, 'Starbucks Stores': '', 'Company': 'Starbucks'}, {'State': 'Missouri', 'Year': 2023, 'Starbucks Stores': '188', 'Company': 'Starbucks'}, {'State': 'Missouri', 'Year': 2021, 'Starbucks Stores': '208', 'Company': 'Starbucks'}, {'State': 'Missouri', 'Year': 2024, 'Starbucks Stores': '', 'Company': 'Starbucks'}, {'State': 'Minnesota', 'Year': 2023, 'Starbucks Stores': '184', 'Company': 'Starbucks'}, {'State': 'Minnesota', 'Year': 2021, 'Starbucks Stores': '212', 'Company': 'Starbucks'}, {'State': 'Minnesota', 'Year': 2024, 'Starbucks Stores': '', 'Company': 'Starbucks'}, {'State': 'Tennessee', 'Year': 2023, 'Starbucks Stores': '180', 'Company': 'Starbucks'}, {'State': 'Tennessee', 'Year': 2021, 'Starbucks Stores': '237', 'Company': 'Starbucks'}, {'State': 'Tennessee', 'Year': 2024, 'Starbucks Stores': '', 'Company': 'Starbucks'}, {'State': 'Kentucky', 'Year': 2023, 'Starbucks Stores': '166', 'Company': 'Starbucks'}, {'State': 'Kentucky', 'Year': 2021, 'Starbucks Stores': '131', 'Company': 'Starbucks'}, {'State': 'Kentucky', 'Year': 2024, 'Starbucks Stores': '', 'Company': 'Starbucks'}, {'State': 'Wisconsin', 'Year': 2023, 'Starbucks Stores': '145', 'Company': 'Starbucks'}, {'State': 'Wisconsin', 'Year': 2021, 'Starbucks Stores': '176', 'Company': 'Starbucks'}, {'State': 'Wisconsin', 'Year': 2024, 'Starbucks Stores': '', 'Company': 'Starbucks'}, {'State': 'South Carolina', 'Year': 2023, 'Starbucks Stores': '131', 'Company': 'Starbucks'}, {'State': 'South Carolina', 'Year': 2021, 'Starbucks Stores': '207', 'Company': 'Starbucks'}, {'State': 'South Carolina', 'Year': 2024, 'Starbucks Stores': '', 'Company': 'Starbucks'}, {'State': 'Connecticut', 'Year': 2023, 'Starbucks Stores': '123', 'Company': 'Starbucks'}, {'State': 'Connecticut', 'Year': 2021, 'Starbucks Stores': '125', 'Company': 'Starbucks'}, {'State': 'Connecticut', 'Year': 2024, 'Starbucks Stores': '', 'Company': 'Starbucks'}, {'State': 'Utah', 'Year': 2023, 'Starbucks Stores': '101', 'Company': 'Starbucks'}, {'State': 'Utah', 'Year': 2021, 'Starbucks Stores': '126', 'Company': 'Starbucks'}, {'State': 'Utah', 'Year': 2024, 'Starbucks Stores': '', 'Company': 'Starbucks'}, {'State': 'Hawaii', 'Year': 2023, 'Starbucks Stores': '99', 'Company': 'Starbucks'}, {'State': 'Hawaii', 'Year': 2021, 'Starbucks Stores': '105', 'Company': 'Starbucks'}, {'State': 'Hawaii', 'Year': 2024, 'Starbucks Stores': '', 'Company': 'Starbucks'}, {'State': 'Kansas', 'Year': 2023, 'Starbucks Stores': '94', 'Company': 'Starbucks'}, {'State': 'Kansas', 'Year': 2021, 'Starbucks Stores': '120', 'Company': 'Starbucks'}, {'State': 'Kansas', 'Year': 2024, 'Starbucks Stores': '', 'Company': 'Starbucks'}, {'State': 'District of Columbia', 'Year': 2023, 'Starbucks Stores': '91', 'Company': 'Starbucks'}, {'State': 'District of Columbia', 'Year': 2021, 'Starbucks Stores': '', 'Company': 'Starbucks'}, {'State': 'District of Columbia', 'Year': 2024, 'Starbucks Stores': '', 'Company': 'Starbucks'}, {'State': 'Iowa', 'Year': 2023, 'Starbucks Stores': '89', 'Company': 'Starbucks'}, {'State': 'Iowa', 'Year': 2021, 'Starbucks Stores': '142', 'Company': 'Starbucks'}, {'State': 'Iowa', 'Year': 2024, 'Starbucks Stores': '', 'Company': 'Starbucks'}, {'State': 'Alabama', 'Year': 2023, 'Starbucks Stores': '85', 'Company': 'Starbucks'}, {'State': 'Alabama', 'Year': 2021, 'Starbucks Stores': '99', 'Company': 'Starbucks'}, {'State': 'Alabama', 'Year': 2024, 'Starbucks Stores': '', 'Company': 'Starbucks'}, {'State': 'Louisiana', 'Year': 2023, 'Starbucks Stores': '84', 'Company': 'Starbucks'}, {'State': 'Louisiana', 'Year': 2021, 'Starbucks Stores': '10', 'Company': 'Starbucks'}, {'State': 'Louisiana', 'Year': 2024, 'Starbucks Stores': '', 'Company': 'Starbucks'}, {'State': 'Oklahoma', 'Year': 2023, 'Starbucks Stores': '79', 'Company': 'Starbucks'}, {'State': 'Oklahoma', 'Year': 2021, 'Starbucks Stores': '94', 'Company': 'Starbucks'}, {'State': 'Oklahoma', 'Year': 2024, 'Starbucks Stores': '', 'Company': 'Starbucks'}, {'State': 'New Mexico', 'Year': 2023, 'Starbucks Stores': '76', 'Company': 'Starbucks'}, {'State': 'New Mexico', 'Year': 2021, 'Starbucks Stores': '92', 'Company': 'Starbucks'}, {'State': 'New Mexico', 'Year': 2024, 'Starbucks Stores': '', 'Company': 'Starbucks'}, {'State': 'Idaho', 'Year': 2023, 'Starbucks Stores': '67', 'Company': 'Starbucks'}, {'State': 'Idaho', 'Year': 2021, 'Starbucks Stores': '78', 'Company': 'Starbucks'}, {'State': 'Idaho', 'Year': 2024, 'Starbucks Stores': '', 'Company': 'Starbucks'}, {'State': 'Nebraska', 'Year': 2023, 'Starbucks Stores': '58', 'Company': 'Starbucks'}, {'State': 'Nebraska', 'Year': 2021, 'Starbucks Stores': '87', 'Company': 'Starbucks'}, {'State': 'Nebraska', 'Year': 2024, 'Starbucks Stores': '', 'Company': 'Starbucks'}, {'State': 'Arkansas', 'Year': 2023, 'Starbucks Stores': '55', 'Company': 'Starbucks'}, {'State': 'Arkansas', 'Year': 2021, 'Starbucks Stores': '66', 'Company': 'Starbucks'}, {'State': 'Arkansas', 'Year': 2024, 'Starbucks Stores': '', 'Company': 'Starbucks'}, {'State': 'Alaska', 'Year': 2023, 'Starbucks Stores': '49', 'Company': 'Starbucks'}, {'State': 'Alaska', 'Year': 2021, 'Starbucks Stores': '49', 'Company': 'Starbucks'}, {'State': 'Alaska', 'Year': 2024, 'Starbucks Stores': '', 'Company': 'Starbucks'}, {'State': 'Mississippi', 'Year': 2023, 'Starbucks Stores': '32', 'Company': 'Starbucks'}, {'State': 'Mississippi', 'Year': 2021, 'Starbucks Stores': '36', 'Company': 'Starbucks'}, {'State': 'Mississippi', 'Year': 2024, 'Starbucks Stores': '', 'Company': 'Starbucks'}, {'State': 'Montana', 'Year': 2023, 'Starbucks Stores': '32', 'Company': 'Starbucks'}, {'State': 'Montana', 'Year': 2021, 'Starbucks Stores': '45', 'Company': 'Starbucks'}, {'State': 'Montana', 'Year': 2024, 'Starbucks Stores': '', 'Company': 'Starbucks'}, {'State': 'Maine', 'Year': 2023, 'Starbucks Stores': '30', 'Company': 'Starbucks'}, {'State': 'Maine', 'Year': 2021, 'Starbucks Stores': '31', 'Company': 'Starbucks'}, {'State': 'Maine', 'Year': 2024, 'Starbucks Stores': '', 'Company': 'Starbucks'}, {'State': 'New Hampshire', 'Year': 2023, 'Starbucks Stores': '29', 'Company': 'Starbucks'}, {'State': 'New Hampshire', 'Year': 2021, 'Starbucks Stores': '35', 'Company': 'Starbucks'}, {'State': 'New Hampshire', 'Year': 2024, 'Starbucks Stores': '', 'Company': 'Starbucks'}, {'State': 'Rhode Island', 'Year': 2023, 'Starbucks Stores': '27', 'Company': 'Starbucks'}, {'State': 'Rhode Island', 'Year': 2021, 'Starbucks Stores': '26', 'Company': 'Starbucks'}, {'State': 'Rhode Island', 'Year': 2024, 'Starbucks Stores': '', 'Company': 'Starbucks'}, {'State': 'Delaware', 'Year': 2023, 'Starbucks Stores': '25', 'Company': 'Starbucks'}, {'State': 'Delaware', 'Year': 2021, 'Starbucks Stores': '39', 'Company': 'Starbucks'}, {'State': 'Delaware', 'Year': 2024, 'Starbucks Stores': '', 'Company': 'Starbucks'}, {'State': 'South Dakota', 'Year': 2023, 'Starbucks Stores': '25', 'Company': 'Starbucks'}, {'State': 'South Dakota', 'Year': 2021, 'Starbucks Stores': '52', 'Company': 'Starbucks'}, {'State': 'South Dakota', 'Year': 2024, 'Starbucks Stores': '', 'Company': 'Starbucks'}, {'State': 'West Virginia', 'Year': 2023, 'Starbucks Stores': '25', 'Company': 'Starbucks'}, {'State': 'West Virginia', 'Year': 2021, 'Starbucks Stores': '64', 'Company': 'Starbucks'}, {'State': 'West Virginia', 'Year': 2024, 'Starbucks Stores': '', 'Company': 'Starbucks'}, {'State': 'Wyoming', 'Year': 2023, 'Starbucks Stores': '23', 'Company': 'Starbucks'}, {'State': 'Wyoming', 'Year': 2021, 'Starbucks Stores': '26', 'Company': 'Starbucks'}, {'State': 'Wyoming', 'Year': 2024, 'Starbucks Stores': '', 'Company': 'Starbucks'}, {'State': 'North Dakota', 'Year': 2023, 'Starbucks Stores': '13', 'Company': 'Starbucks'}, {'State': 'North Dakota', 'Year': 2021, 'Starbucks Stores': '20', 'Company': 'Starbucks'}, {'State': 'North Dakota', 'Year': 2024, 'Starbucks Stores': '', 'Company': 'Starbucks'}, {'State': 'Vermont', 'Year': 2023, 'Starbucks Stores': '8', 'Company': 'Starbucks'}, {'State': 'Vermont', 'Year': 2021, 'Starbucks Stores': '35', 'Company': 'Starbucks'}, {'State': 'Vermont', 'Year': 2024, 'Starbucks Stores': '', 'Company': 'Starbucks'}]\n",
      "            State  Year Starbucks Stores    Company\n",
      "0      California  2023            3,080  Starbucks\n",
      "1      California  2021            2,959  Starbucks\n",
      "2      California  2024            3,117  Starbucks\n",
      "3           Texas  2023            1,346  Starbucks\n",
      "4           Texas  2021            1,215  Starbucks\n",
      "..            ...   ...              ...        ...\n",
      "148  North Dakota  2021               20  Starbucks\n",
      "149  North Dakota  2024                   Starbucks\n",
      "150       Vermont  2023                8  Starbucks\n",
      "151       Vermont  2021               35  Starbucks\n",
      "152       Vermont  2024                   Starbucks\n",
      "\n",
      "[153 rows x 4 columns]\n",
      "[{'State': 'California', 'Year': 2023, 'Starbucks Stores': '3,080', 'Company': 'Starbucks'}, {'State': 'California', 'Year': 2021, 'Starbucks Stores': '2,959', 'Company': 'Starbucks'}, {'State': 'California', 'Year': 2024, 'Starbucks Stores': '3,117', 'Company': 'Starbucks'}, {'State': 'Texas', 'Year': 2023, 'Starbucks Stores': '1,346', 'Company': 'Starbucks'}, {'State': 'Texas', 'Year': 2021, 'Starbucks Stores': '1,215', 'Company': 'Starbucks'}, {'State': 'Texas', 'Year': 2024, 'Starbucks Stores': '1,409', 'Company': 'Starbucks'}, {'State': 'Florida', 'Year': 2023, 'Starbucks Stores': '844', 'Company': 'Starbucks'}, {'State': 'Florida', 'Year': 2021, 'Starbucks Stores': '786', 'Company': 'Starbucks'}, {'State': 'Florida', 'Year': 2024, 'Starbucks Stores': '892', 'Company': 'Starbucks'}, {'State': 'Washington', 'Year': 2023, 'Starbucks Stores': '741', 'Company': 'Starbucks'}, {'State': 'Washington', 'Year': 2021, 'Starbucks Stores': '739', 'Company': 'Starbucks'}, {'State': 'Washington', 'Year': 2024, 'Starbucks Stores': '736', 'Company': 'Starbucks'}, {'State': 'New York', 'Year': 2023, 'Starbucks Stores': '692', 'Company': 'Starbucks'}, {'State': 'New York', 'Year': 2021, 'Starbucks Stores': '643', 'Company': 'Starbucks'}, {'State': 'New York', 'Year': 2024, 'Starbucks Stores': '715', 'Company': 'Starbucks'}, {'State': 'Illinois', 'Year': 2023, 'Starbucks Stores': '677', 'Company': 'Starbucks'}, {'State': 'Illinois', 'Year': 2021, 'Starbucks Stores': '621', 'Company': 'Starbucks'}, {'State': 'Illinois', 'Year': 2024, 'Starbucks Stores': '685', 'Company': 'Starbucks'}, {'State': 'Arizona', 'Year': 2023, 'Starbucks Stores': '548', 'Company': 'Starbucks'}, {'State': 'Arizona', 'Year': 2021, 'Starbucks Stores': '535', 'Company': 'Starbucks'}, {'State': 'Arizona', 'Year': 2024, 'Starbucks Stores': '579', 'Company': 'Starbucks'}, {'State': 'Colorado', 'Year': 2023, 'Starbucks Stores': '495', 'Company': 'Starbucks'}, {'State': 'Colorado', 'Year': 2021, 'Starbucks Stores': '497', 'Company': 'Starbucks'}, {'State': 'Colorado', 'Year': 2024, 'Starbucks Stores': '506', 'Company': 'Starbucks'}, {'State': 'Ohio', 'Year': 2023, 'Starbucks Stores': '491', 'Company': 'Starbucks'}, {'State': 'Ohio', 'Year': 2021, 'Starbucks Stores': '446', 'Company': 'Starbucks'}, {'State': 'Ohio', 'Year': 2024, 'Starbucks Stores': '499', 'Company': 'Starbucks'}, {'State': 'Virginia', 'Year': 2023, 'Starbucks Stores': '489', 'Company': 'Starbucks'}, {'State': 'Virginia', 'Year': 2021, 'Starbucks Stores': '456', 'Company': 'Starbucks'}, {'State': 'Virginia', 'Year': 2024, 'Starbucks Stores': '510', 'Company': 'Starbucks'}, {'State': 'Oregon', 'Year': 2023, 'Starbucks Stores': '359', 'Company': 'Starbucks'}, {'State': 'Oregon', 'Year': 2021, 'Starbucks Stores': '345', 'Company': 'Starbucks'}, {'State': 'Oregon', 'Year': 2024, 'Starbucks Stores': '', 'Company': 'Starbucks'}, {'State': 'Pennsylvania', 'Year': 2023, 'Starbucks Stores': '357', 'Company': 'Starbucks'}, {'State': 'Pennsylvania', 'Year': 2021, 'Starbucks Stores': '406', 'Company': 'Starbucks'}, {'State': 'Pennsylvania', 'Year': 2024, 'Starbucks Stores': '', 'Company': 'Starbucks'}, {'State': 'North Carolina', 'Year': 2023, 'Starbucks Stores': '338', 'Company': 'Starbucks'}, {'State': 'North Carolina', 'Year': 2021, 'Starbucks Stores': '422', 'Company': 'Starbucks'}, {'State': 'North Carolina', 'Year': 2024, 'Starbucks Stores': '', 'Company': 'Starbucks'}, {'State': 'Georgia', 'Year': 2023, 'Starbucks Stores': '326', 'Company': 'Starbucks'}, {'State': 'Georgia', 'Year': 2021, 'Starbucks Stores': '379', 'Company': 'Starbucks'}, {'State': 'Georgia', 'Year': 2024, 'Starbucks Stores': '', 'Company': 'Starbucks'}, {'State': 'Michigan', 'Year': 2023, 'Starbucks Stores': '283', 'Company': 'Starbucks'}, {'State': 'Michigan', 'Year': 2021, 'Starbucks Stores': '310', 'Company': 'Starbucks'}, {'State': 'Michigan', 'Year': 2024, 'Starbucks Stores': '', 'Company': 'Starbucks'}, {'State': 'Massachusetts', 'Year': 2023, 'Starbucks Stores': '273', 'Company': 'Starbucks'}, {'State': 'Massachusetts', 'Year': 2021, 'Starbucks Stores': '279', 'Company': 'Starbucks'}, {'State': 'Massachusetts', 'Year': 2024, 'Starbucks Stores': '', 'Company': 'Starbucks'}, {'State': 'New Jersey', 'Year': 2023, 'Starbucks Stores': '261', 'Company': 'Starbucks'}, {'State': 'New Jersey', 'Year': 2021, 'Starbucks Stores': '293', 'Company': 'Starbucks'}, {'State': 'New Jersey', 'Year': 2024, 'Starbucks Stores': '', 'Company': 'Starbucks'}, {'State': 'Maryland', 'Year': 2023, 'Starbucks Stores': '257', 'Company': 'Starbucks'}, {'State': 'Maryland', 'Year': 2021, 'Starbucks Stores': '274', 'Company': 'Starbucks'}, {'State': 'Maryland', 'Year': 2024, 'Starbucks Stores': '', 'Company': 'Starbucks'}, {'State': 'Nevada', 'Year': 2023, 'Starbucks Stores': '253', 'Company': 'Starbucks'}, {'State': 'Nevada', 'Year': 2021, 'Starbucks Stores': '269', 'Company': 'Starbucks'}, {'State': 'Nevada', 'Year': 2024, 'Starbucks Stores': '', 'Company': 'Starbucks'}, {'State': 'Indiana', 'Year': 2023, 'Starbucks Stores': '221', 'Company': 'Starbucks'}, {'State': 'Indiana', 'Year': 2021, 'Starbucks Stores': '265', 'Company': 'Starbucks'}, {'State': 'Indiana', 'Year': 2024, 'Starbucks Stores': '', 'Company': 'Starbucks'}, {'State': 'Missouri', 'Year': 2023, 'Starbucks Stores': '188', 'Company': 'Starbucks'}, {'State': 'Missouri', 'Year': 2021, 'Starbucks Stores': '208', 'Company': 'Starbucks'}, {'State': 'Missouri', 'Year': 2024, 'Starbucks Stores': '', 'Company': 'Starbucks'}, {'State': 'Minnesota', 'Year': 2023, 'Starbucks Stores': '184', 'Company': 'Starbucks'}, {'State': 'Minnesota', 'Year': 2021, 'Starbucks Stores': '212', 'Company': 'Starbucks'}, {'State': 'Minnesota', 'Year': 2024, 'Starbucks Stores': '', 'Company': 'Starbucks'}, {'State': 'Tennessee', 'Year': 2023, 'Starbucks Stores': '180', 'Company': 'Starbucks'}, {'State': 'Tennessee', 'Year': 2021, 'Starbucks Stores': '237', 'Company': 'Starbucks'}, {'State': 'Tennessee', 'Year': 2024, 'Starbucks Stores': '', 'Company': 'Starbucks'}, {'State': 'Kentucky', 'Year': 2023, 'Starbucks Stores': '166', 'Company': 'Starbucks'}, {'State': 'Kentucky', 'Year': 2021, 'Starbucks Stores': '131', 'Company': 'Starbucks'}, {'State': 'Kentucky', 'Year': 2024, 'Starbucks Stores': '', 'Company': 'Starbucks'}, {'State': 'Wisconsin', 'Year': 2023, 'Starbucks Stores': '145', 'Company': 'Starbucks'}, {'State': 'Wisconsin', 'Year': 2021, 'Starbucks Stores': '176', 'Company': 'Starbucks'}, {'State': 'Wisconsin', 'Year': 2024, 'Starbucks Stores': '', 'Company': 'Starbucks'}, {'State': 'South Carolina', 'Year': 2023, 'Starbucks Stores': '131', 'Company': 'Starbucks'}, {'State': 'South Carolina', 'Year': 2021, 'Starbucks Stores': '207', 'Company': 'Starbucks'}, {'State': 'South Carolina', 'Year': 2024, 'Starbucks Stores': '', 'Company': 'Starbucks'}, {'State': 'Connecticut', 'Year': 2023, 'Starbucks Stores': '123', 'Company': 'Starbucks'}, {'State': 'Connecticut', 'Year': 2021, 'Starbucks Stores': '125', 'Company': 'Starbucks'}, {'State': 'Connecticut', 'Year': 2024, 'Starbucks Stores': '', 'Company': 'Starbucks'}, {'State': 'Utah', 'Year': 2023, 'Starbucks Stores': '101', 'Company': 'Starbucks'}, {'State': 'Utah', 'Year': 2021, 'Starbucks Stores': '126', 'Company': 'Starbucks'}, {'State': 'Utah', 'Year': 2024, 'Starbucks Stores': '', 'Company': 'Starbucks'}, {'State': 'Hawaii', 'Year': 2023, 'Starbucks Stores': '99', 'Company': 'Starbucks'}, {'State': 'Hawaii', 'Year': 2021, 'Starbucks Stores': '105', 'Company': 'Starbucks'}, {'State': 'Hawaii', 'Year': 2024, 'Starbucks Stores': '', 'Company': 'Starbucks'}, {'State': 'Kansas', 'Year': 2023, 'Starbucks Stores': '94', 'Company': 'Starbucks'}, {'State': 'Kansas', 'Year': 2021, 'Starbucks Stores': '120', 'Company': 'Starbucks'}, {'State': 'Kansas', 'Year': 2024, 'Starbucks Stores': '', 'Company': 'Starbucks'}, {'State': 'District of Columbia', 'Year': 2023, 'Starbucks Stores': '91', 'Company': 'Starbucks'}, {'State': 'District of Columbia', 'Year': 2021, 'Starbucks Stores': '', 'Company': 'Starbucks'}, {'State': 'District of Columbia', 'Year': 2024, 'Starbucks Stores': '', 'Company': 'Starbucks'}, {'State': 'Iowa', 'Year': 2023, 'Starbucks Stores': '89', 'Company': 'Starbucks'}, {'State': 'Iowa', 'Year': 2021, 'Starbucks Stores': '142', 'Company': 'Starbucks'}, {'State': 'Iowa', 'Year': 2024, 'Starbucks Stores': '', 'Company': 'Starbucks'}, {'State': 'Alabama', 'Year': 2023, 'Starbucks Stores': '85', 'Company': 'Starbucks'}, {'State': 'Alabama', 'Year': 2021, 'Starbucks Stores': '99', 'Company': 'Starbucks'}, {'State': 'Alabama', 'Year': 2024, 'Starbucks Stores': '', 'Company': 'Starbucks'}, {'State': 'Louisiana', 'Year': 2023, 'Starbucks Stores': '84', 'Company': 'Starbucks'}, {'State': 'Louisiana', 'Year': 2021, 'Starbucks Stores': '10', 'Company': 'Starbucks'}, {'State': 'Louisiana', 'Year': 2024, 'Starbucks Stores': '', 'Company': 'Starbucks'}, {'State': 'Oklahoma', 'Year': 2023, 'Starbucks Stores': '79', 'Company': 'Starbucks'}, {'State': 'Oklahoma', 'Year': 2021, 'Starbucks Stores': '94', 'Company': 'Starbucks'}, {'State': 'Oklahoma', 'Year': 2024, 'Starbucks Stores': '', 'Company': 'Starbucks'}, {'State': 'New Mexico', 'Year': 2023, 'Starbucks Stores': '76', 'Company': 'Starbucks'}, {'State': 'New Mexico', 'Year': 2021, 'Starbucks Stores': '92', 'Company': 'Starbucks'}, {'State': 'New Mexico', 'Year': 2024, 'Starbucks Stores': '', 'Company': 'Starbucks'}, {'State': 'Idaho', 'Year': 2023, 'Starbucks Stores': '67', 'Company': 'Starbucks'}, {'State': 'Idaho', 'Year': 2021, 'Starbucks Stores': '78', 'Company': 'Starbucks'}, {'State': 'Idaho', 'Year': 2024, 'Starbucks Stores': '', 'Company': 'Starbucks'}, {'State': 'Nebraska', 'Year': 2023, 'Starbucks Stores': '58', 'Company': 'Starbucks'}, {'State': 'Nebraska', 'Year': 2021, 'Starbucks Stores': '87', 'Company': 'Starbucks'}, {'State': 'Nebraska', 'Year': 2024, 'Starbucks Stores': '', 'Company': 'Starbucks'}, {'State': 'Arkansas', 'Year': 2023, 'Starbucks Stores': '55', 'Company': 'Starbucks'}, {'State': 'Arkansas', 'Year': 2021, 'Starbucks Stores': '66', 'Company': 'Starbucks'}, {'State': 'Arkansas', 'Year': 2024, 'Starbucks Stores': '', 'Company': 'Starbucks'}, {'State': 'Alaska', 'Year': 2023, 'Starbucks Stores': '49', 'Company': 'Starbucks'}, {'State': 'Alaska', 'Year': 2021, 'Starbucks Stores': '49', 'Company': 'Starbucks'}, {'State': 'Alaska', 'Year': 2024, 'Starbucks Stores': '', 'Company': 'Starbucks'}, {'State': 'Mississippi', 'Year': 2023, 'Starbucks Stores': '32', 'Company': 'Starbucks'}, {'State': 'Mississippi', 'Year': 2021, 'Starbucks Stores': '36', 'Company': 'Starbucks'}, {'State': 'Mississippi', 'Year': 2024, 'Starbucks Stores': '', 'Company': 'Starbucks'}, {'State': 'Montana', 'Year': 2023, 'Starbucks Stores': '32', 'Company': 'Starbucks'}, {'State': 'Montana', 'Year': 2021, 'Starbucks Stores': '45', 'Company': 'Starbucks'}, {'State': 'Montana', 'Year': 2024, 'Starbucks Stores': '', 'Company': 'Starbucks'}, {'State': 'Maine', 'Year': 2023, 'Starbucks Stores': '30', 'Company': 'Starbucks'}, {'State': 'Maine', 'Year': 2021, 'Starbucks Stores': '31', 'Company': 'Starbucks'}, {'State': 'Maine', 'Year': 2024, 'Starbucks Stores': '', 'Company': 'Starbucks'}, {'State': 'New Hampshire', 'Year': 2023, 'Starbucks Stores': '29', 'Company': 'Starbucks'}, {'State': 'New Hampshire', 'Year': 2021, 'Starbucks Stores': '35', 'Company': 'Starbucks'}, {'State': 'New Hampshire', 'Year': 2024, 'Starbucks Stores': '', 'Company': 'Starbucks'}, {'State': 'Rhode Island', 'Year': 2023, 'Starbucks Stores': '27', 'Company': 'Starbucks'}, {'State': 'Rhode Island', 'Year': 2021, 'Starbucks Stores': '26', 'Company': 'Starbucks'}, {'State': 'Rhode Island', 'Year': 2024, 'Starbucks Stores': '', 'Company': 'Starbucks'}, {'State': 'Delaware', 'Year': 2023, 'Starbucks Stores': '25', 'Company': 'Starbucks'}, {'State': 'Delaware', 'Year': 2021, 'Starbucks Stores': '39', 'Company': 'Starbucks'}, {'State': 'Delaware', 'Year': 2024, 'Starbucks Stores': '', 'Company': 'Starbucks'}, {'State': 'South Dakota', 'Year': 2023, 'Starbucks Stores': '25', 'Company': 'Starbucks'}, {'State': 'South Dakota', 'Year': 2021, 'Starbucks Stores': '52', 'Company': 'Starbucks'}, {'State': 'South Dakota', 'Year': 2024, 'Starbucks Stores': '', 'Company': 'Starbucks'}, {'State': 'West Virginia', 'Year': 2023, 'Starbucks Stores': '25', 'Company': 'Starbucks'}, {'State': 'West Virginia', 'Year': 2021, 'Starbucks Stores': '64', 'Company': 'Starbucks'}, {'State': 'West Virginia', 'Year': 2024, 'Starbucks Stores': '', 'Company': 'Starbucks'}, {'State': 'Wyoming', 'Year': 2023, 'Starbucks Stores': '23', 'Company': 'Starbucks'}, {'State': 'Wyoming', 'Year': 2021, 'Starbucks Stores': '26', 'Company': 'Starbucks'}, {'State': 'Wyoming', 'Year': 2024, 'Starbucks Stores': '', 'Company': 'Starbucks'}, {'State': 'North Dakota', 'Year': 2023, 'Starbucks Stores': '13', 'Company': 'Starbucks'}, {'State': 'North Dakota', 'Year': 2021, 'Starbucks Stores': '20', 'Company': 'Starbucks'}, {'State': 'North Dakota', 'Year': 2024, 'Starbucks Stores': '', 'Company': 'Starbucks'}, {'State': 'Vermont', 'Year': 2023, 'Starbucks Stores': '8', 'Company': 'Starbucks'}, {'State': 'Vermont', 'Year': 2021, 'Starbucks Stores': '35', 'Company': 'Starbucks'}, {'State': 'Vermont', 'Year': 2024, 'Starbucks Stores': '', 'Company': 'Starbucks'}]\n",
      "            State  Year Starbucks Stores    Company\n",
      "0      California  2023            3,080  Starbucks\n",
      "1      California  2021            2,959  Starbucks\n",
      "2      California  2024            3,117  Starbucks\n",
      "3           Texas  2023            1,346  Starbucks\n",
      "4           Texas  2021            1,215  Starbucks\n",
      "..            ...   ...              ...        ...\n",
      "148  North Dakota  2021               20  Starbucks\n",
      "149  North Dakota  2024                   Starbucks\n",
      "150       Vermont  2023                8  Starbucks\n",
      "151       Vermont  2021               35  Starbucks\n",
      "152       Vermont  2024                   Starbucks\n",
      "\n",
      "[153 rows x 4 columns]\n"
     ]
    }
   ],
   "source": [
    "starbucks_rows = []\n",
    "states_list = []\n",
    "\n",
    "for th in starbucks_tables.find_all(\"th\")[4:]:\n",
    "    states = th.get_text(strip = True)\n",
    "    states_list.append(states)\n",
    "\n",
    "for i, tr in enumerate(starbucks_tables.find_all(\"tr\")[1:]):\n",
    "    state = states_list[i]\n",
    "\n",
    "    cells = tr.find_all(\"td\")\n",
    "    \n",
    "    #stores2023_tag = cells[0].find(\"a\") or cells[0]\n",
    "    #stores2023 = stores2023_tag.get_text(strip = True)\n",
    "\n",
    "    #stores2021_tag = cells[0].find(\"a\") or cells[1]\n",
    "    #stores2021 = stores2021_tag.get_text(strip = True)\n",
    "\n",
    "    #stores2024_tag = cells[0].find(\"a\") or cells[2]\n",
    "    #stores2024 = stores2024_tag.get_text(strip = True)\n",
    "    stores2023 = cells[0].get_text(strip=True)\n",
    "    stores2021 = cells[1].get_text(strip=True)\n",
    "    stores2024 = cells[2].get_text(strip=True)\n",
    "\n",
    "    # Append this data.\n",
    "    #starbucks_rows.append({\n",
    "        #\"state\": state,\n",
    "        #\"2023 Stores\": stores2023,\n",
    "        #\"2021 Stores\": stores2021,\n",
    "        #\"2024 Stores\": stores2024\n",
    "    #})\n",
    "#for i, state in enumerate(states_list):\n",
    "    starbucks_rows.append({\n",
    "        \"State\": state,\n",
    "        \"Year\": 2023,\n",
    "        \"Starbucks Stores\": stores2023, \n",
    "        \"Company\": \"Starbucks\"\n",
    "    })\n",
    "    starbucks_rows.append({\n",
    "        \"State\": state,\n",
    "        \"Year\": 2021,\n",
    "        \"Starbucks Stores\": stores2021,\n",
    "        \"Company\": \"Starbucks\"\n",
    "    })\n",
    "    starbucks_rows.append({\n",
    "        \"State\": state,\n",
    "        \"Year\": 2024,\n",
    "        \"Starbucks Stores\": stores2024, \n",
    "        \"Company\": \"Starbucks\"\n",
    "    })\n",
    "\n",
    "print(starbucks_rows)\n",
    "df = pd.DataFrame(starbucks_rows)\n",
    "print(df)"
   ]
  },
  {
   "cell_type": "code",
   "execution_count": 19,
   "metadata": {},
   "outputs": [],
   "source": [
    "#dunkin\n",
    "dunkin_response = requests.get(\"https://worldpopulationreview.com/state-rankings/dunkin-donuts-by-state\")\n",
    "dunkin_soup = BeautifulSoup(dunkin_response.content, \"html.parser\")\n",
    "dunkin_table = dunkin_soup.find(\"table\", class_ = \"wpr-table\")"
   ]
  },
  {
   "cell_type": "code",
   "execution_count": 47,
   "metadata": {},
   "outputs": [
    {
     "name": "stdout",
     "output_type": "stream",
     "text": [
      "[{'State': 'New York', 'Year': 2024, 'Dunkin Stores': '1,431', 'Company': 'Dunkin'}, {'State': 'New York', 'Year': 2023, 'Dunkin Stores': '1,414', 'Company': 'Dunkin'}, {'State': 'Massachusetts', 'Year': 2024, 'Dunkin Stores': '1,042', 'Company': 'Dunkin'}, {'State': 'Massachusetts', 'Year': 2023, 'Dunkin Stores': '1,068', 'Company': 'Dunkin'}, {'State': 'Florida', 'Year': 2024, 'Dunkin Stores': '909', 'Company': 'Dunkin'}, {'State': 'Florida', 'Year': 2023, 'Dunkin Stores': '883', 'Company': 'Dunkin'}, {'State': 'New Jersey', 'Year': 2024, 'Dunkin Stores': '872', 'Company': 'Dunkin'}, {'State': 'New Jersey', 'Year': 2023, 'Dunkin Stores': '866', 'Company': 'Dunkin'}, {'State': 'Illinois', 'Year': 2024, 'Dunkin Stores': '711', 'Company': 'Dunkin'}, {'State': 'Illinois', 'Year': 2023, 'Dunkin Stores': '692', 'Company': 'Dunkin'}, {'State': 'Pennsylvania', 'Year': 2024, 'Dunkin Stores': '650', 'Company': 'Dunkin'}, {'State': 'Pennsylvania', 'Year': 2023, 'Dunkin Stores': '629', 'Company': 'Dunkin'}, {'State': 'Connecticut', 'Year': 2024, 'Dunkin Stores': '476', 'Company': 'Dunkin'}, {'State': 'Connecticut', 'Year': 2023, 'Dunkin Stores': '480', 'Company': 'Dunkin'}, {'State': 'Maryland', 'Year': 2024, 'Dunkin Stores': '311', 'Company': 'Dunkin'}, {'State': 'Maryland', 'Year': 2023, 'Dunkin Stores': '303', 'Company': 'Dunkin'}, {'State': 'Georgia', 'Year': 2024, 'Dunkin Stores': '287', 'Company': 'Dunkin'}, {'State': 'Georgia', 'Year': 2023, 'Dunkin Stores': '265', 'Company': 'Dunkin'}, {'State': 'Ohio', 'Year': 2024, 'Dunkin Stores': '261', 'Company': 'Dunkin'}, {'State': 'Ohio', 'Year': 2023, 'Dunkin Stores': '245', 'Company': 'Dunkin'}, {'State': 'Virginia', 'Year': 2024, 'Dunkin Stores': '244', 'Company': 'Dunkin'}, {'State': 'Virginia', 'Year': 2023, 'Dunkin Stores': '230', 'Company': 'Dunkin'}, {'State': 'Texas', 'Year': 2024, 'Dunkin Stores': '226', 'Company': 'Dunkin'}, {'State': 'Texas', 'Year': 2023, 'Dunkin Stores': '196', 'Company': 'Dunkin'}, {'State': 'North Carolina', 'Year': 2024, 'Dunkin Stores': '224', 'Company': 'Dunkin'}, {'State': 'North Carolina', 'Year': 2023, 'Dunkin Stores': '206', 'Company': 'Dunkin'}, {'State': 'New Hampshire', 'Year': 2024, 'Dunkin Stores': '216', 'Company': 'Dunkin'}, {'State': 'New Hampshire', 'Year': 2023, 'Dunkin Stores': '218', 'Company': 'Dunkin'}, {'State': 'Maine', 'Year': 2024, 'Dunkin Stores': '164', 'Company': 'Dunkin'}, {'State': 'Maine', 'Year': 2023, 'Dunkin Stores': '159', 'Company': 'Dunkin'}, {'State': 'Rhode Island', 'Year': 2024, 'Dunkin Stores': '159', 'Company': 'Dunkin'}, {'State': 'Rhode Island', 'Year': 2023, 'Dunkin Stores': '160', 'Company': 'Dunkin'}, {'State': 'California', 'Year': 2024, 'Dunkin Stores': '143', 'Company': 'Dunkin'}, {'State': 'California', 'Year': 2023, 'Dunkin Stores': '134', 'Company': 'Dunkin'}, {'State': 'Tennessee', 'Year': 2024, 'Dunkin Stores': '137', 'Company': 'Dunkin'}, {'State': 'Tennessee', 'Year': 2023, 'Dunkin Stores': '123', 'Company': 'Dunkin'}, {'State': 'Indiana', 'Year': 2024, 'Dunkin Stores': '117', 'Company': 'Dunkin'}, {'State': 'Indiana', 'Year': 2023, 'Dunkin Stores': '104', 'Company': 'Dunkin'}, {'State': 'South Carolina', 'Year': 2024, 'Dunkin Stores': '116', 'Company': 'Dunkin'}, {'State': 'South Carolina', 'Year': 2023, 'Dunkin Stores': '103', 'Company': 'Dunkin'}, {'State': 'Michigan', 'Year': 2024, 'Dunkin Stores': '112', 'Company': 'Dunkin'}, {'State': 'Michigan', 'Year': 2023, 'Dunkin Stores': '105', 'Company': 'Dunkin'}, {'State': 'Arizona', 'Year': 2024, 'Dunkin Stores': '110', 'Company': 'Dunkin'}, {'State': 'Arizona', 'Year': 2023, 'Dunkin Stores': '102', 'Company': 'Dunkin'}, {'State': 'Wisconsin', 'Year': 2024, 'Dunkin Stores': '100', 'Company': 'Dunkin'}, {'State': 'Wisconsin', 'Year': 2023, 'Dunkin Stores': '83', 'Company': 'Dunkin'}, {'State': 'Alabama', 'Year': 2024, 'Dunkin Stores': '69', 'Company': 'Dunkin'}, {'State': 'Alabama', 'Year': 2023, 'Dunkin Stores': '59', 'Company': 'Dunkin'}, {'State': 'Delaware', 'Year': 2024, 'Dunkin Stores': '67', 'Company': 'Dunkin'}, {'State': 'Delaware', 'Year': 2023, 'Dunkin Stores': '66', 'Company': 'Dunkin'}, {'State': 'Missouri', 'Year': 2024, 'Dunkin Stores': '54', 'Company': 'Dunkin'}, {'State': 'Missouri', 'Year': 2023, 'Dunkin Stores': '50', 'Company': 'Dunkin'}, {'State': 'Kentucky', 'Year': 2024, 'Dunkin Stores': '50', 'Company': 'Dunkin'}, {'State': 'Kentucky', 'Year': 2023, 'Dunkin Stores': '41', 'Company': 'Dunkin'}, {'State': 'Vermont', 'Year': 2024, 'Dunkin Stores': '50', 'Company': 'Dunkin'}, {'State': 'Vermont', 'Year': 2023, 'Dunkin Stores': '49', 'Company': 'Dunkin'}, {'State': 'Colorado', 'Year': 2024, 'Dunkin Stores': '48', 'Company': 'Dunkin'}, {'State': 'Colorado', 'Year': 2023, 'Dunkin Stores': '43', 'Company': 'Dunkin'}, {'State': 'Nevada', 'Year': 2024, 'Dunkin Stores': '42', 'Company': 'Dunkin'}, {'State': 'Nevada', 'Year': 2023, 'Dunkin Stores': '38', 'Company': 'Dunkin'}, {'State': 'Minnesota', 'Year': 2024, 'Dunkin Stores': '38', 'Company': 'Dunkin'}, {'State': 'Minnesota', 'Year': 2023, 'Dunkin Stores': '34', 'Company': 'Dunkin'}, {'State': 'Iowa', 'Year': 2024, 'Dunkin Stores': '36', 'Company': 'Dunkin'}, {'State': 'Iowa', 'Year': 2023, 'Dunkin Stores': '34', 'Company': 'Dunkin'}, {'State': 'West Virginia', 'Year': 2024, 'Dunkin Stores': '31', 'Company': 'Dunkin'}, {'State': 'West Virginia', 'Year': 2023, 'Dunkin Stores': '27', 'Company': 'Dunkin'}, {'State': 'Kansas', 'Year': 2024, 'Dunkin Stores': '26', 'Company': 'Dunkin'}, {'State': 'Kansas', 'Year': 2023, 'Dunkin Stores': '28', 'Company': 'Dunkin'}, {'State': 'Nebraska', 'Year': 2024, 'Dunkin Stores': '24', 'Company': 'Dunkin'}, {'State': 'Nebraska', 'Year': 2023, 'Dunkin Stores': '23', 'Company': 'Dunkin'}, {'State': 'Oklahoma', 'Year': 2024, 'Dunkin Stores': '23', 'Company': 'Dunkin'}, {'State': 'Oklahoma', 'Year': 2023, 'Dunkin Stores': '18', 'Company': 'Dunkin'}, {'State': 'District of Columbia', 'Year': 2024, 'Dunkin Stores': '19', 'Company': 'Dunkin'}, {'State': 'District of Columbia', 'Year': 2023, 'Dunkin Stores': '', 'Company': 'Dunkin'}, {'State': 'New Mexico', 'Year': 2024, 'Dunkin Stores': '19', 'Company': 'Dunkin'}, {'State': 'New Mexico', 'Year': 2023, 'Dunkin Stores': '19', 'Company': 'Dunkin'}, {'State': 'Louisiana', 'Year': 2024, 'Dunkin Stores': '15', 'Company': 'Dunkin'}, {'State': 'Louisiana', 'Year': 2023, 'Dunkin Stores': '16', 'Company': 'Dunkin'}, {'State': 'Arkansas', 'Year': 2024, 'Dunkin Stores': '14', 'Company': 'Dunkin'}, {'State': 'Arkansas', 'Year': 2023, 'Dunkin Stores': '9', 'Company': 'Dunkin'}, {'State': 'Mississippi', 'Year': 2024, 'Dunkin Stores': '14', 'Company': 'Dunkin'}, {'State': 'Mississippi', 'Year': 2023, 'Dunkin Stores': '12', 'Company': 'Dunkin'}, {'State': 'Hawaii', 'Year': 2024, 'Dunkin Stores': '6', 'Company': 'Dunkin'}, {'State': 'Hawaii', 'Year': 2023, 'Dunkin Stores': '6', 'Company': 'Dunkin'}, {'State': 'Utah', 'Year': 2024, 'Dunkin Stores': '2', 'Company': 'Dunkin'}, {'State': 'Utah', 'Year': 2023, 'Dunkin Stores': '1', 'Company': 'Dunkin'}, {'State': 'Wyoming', 'Year': 2024, 'Dunkin Stores': '1', 'Company': 'Dunkin'}, {'State': 'Wyoming', 'Year': 2023, 'Dunkin Stores': '1', 'Company': 'Dunkin'}, {'State': 'Alaska', 'Year': 2024, 'Dunkin Stores': '0', 'Company': 'Dunkin'}, {'State': 'Alaska', 'Year': 2023, 'Dunkin Stores': '0', 'Company': 'Dunkin'}, {'State': 'Idaho', 'Year': 2024, 'Dunkin Stores': '0', 'Company': 'Dunkin'}, {'State': 'Idaho', 'Year': 2023, 'Dunkin Stores': '0', 'Company': 'Dunkin'}, {'State': 'Montana', 'Year': 2024, 'Dunkin Stores': '0', 'Company': 'Dunkin'}, {'State': 'Montana', 'Year': 2023, 'Dunkin Stores': '0', 'Company': 'Dunkin'}, {'State': 'North Dakota', 'Year': 2024, 'Dunkin Stores': '0', 'Company': 'Dunkin'}, {'State': 'North Dakota', 'Year': 2023, 'Dunkin Stores': '0', 'Company': 'Dunkin'}, {'State': 'Oregon', 'Year': 2024, 'Dunkin Stores': '0', 'Company': 'Dunkin'}, {'State': 'Oregon', 'Year': 2023, 'Dunkin Stores': '0', 'Company': 'Dunkin'}, {'State': 'South Dakota', 'Year': 2024, 'Dunkin Stores': '0', 'Company': 'Dunkin'}, {'State': 'South Dakota', 'Year': 2023, 'Dunkin Stores': '0', 'Company': 'Dunkin'}, {'State': 'Washington', 'Year': 2024, 'Dunkin Stores': '0', 'Company': 'Dunkin'}, {'State': 'Washington', 'Year': 2023, 'Dunkin Stores': '19', 'Company': 'Dunkin'}]\n",
      "             State  Year Dunkin Stores Company\n",
      "0         New York  2024         1,431  Dunkin\n",
      "1         New York  2023         1,414  Dunkin\n",
      "2    Massachusetts  2024         1,042  Dunkin\n",
      "3    Massachusetts  2023         1,068  Dunkin\n",
      "4          Florida  2024           909  Dunkin\n",
      "..             ...   ...           ...     ...\n",
      "97          Oregon  2023             0  Dunkin\n",
      "98    South Dakota  2024             0  Dunkin\n",
      "99    South Dakota  2023             0  Dunkin\n",
      "100     Washington  2024             0  Dunkin\n",
      "101     Washington  2023            19  Dunkin\n",
      "\n",
      "[102 rows x 4 columns]\n",
      "[{'State': 'New York', 'Year': 2024, 'Dunkin Stores': '1,431', 'Company': 'Dunkin'}, {'State': 'New York', 'Year': 2023, 'Dunkin Stores': '1,414', 'Company': 'Dunkin'}, {'State': 'Massachusetts', 'Year': 2024, 'Dunkin Stores': '1,042', 'Company': 'Dunkin'}, {'State': 'Massachusetts', 'Year': 2023, 'Dunkin Stores': '1,068', 'Company': 'Dunkin'}, {'State': 'Florida', 'Year': 2024, 'Dunkin Stores': '909', 'Company': 'Dunkin'}, {'State': 'Florida', 'Year': 2023, 'Dunkin Stores': '883', 'Company': 'Dunkin'}, {'State': 'New Jersey', 'Year': 2024, 'Dunkin Stores': '872', 'Company': 'Dunkin'}, {'State': 'New Jersey', 'Year': 2023, 'Dunkin Stores': '866', 'Company': 'Dunkin'}, {'State': 'Illinois', 'Year': 2024, 'Dunkin Stores': '711', 'Company': 'Dunkin'}, {'State': 'Illinois', 'Year': 2023, 'Dunkin Stores': '692', 'Company': 'Dunkin'}, {'State': 'Pennsylvania', 'Year': 2024, 'Dunkin Stores': '650', 'Company': 'Dunkin'}, {'State': 'Pennsylvania', 'Year': 2023, 'Dunkin Stores': '629', 'Company': 'Dunkin'}, {'State': 'Connecticut', 'Year': 2024, 'Dunkin Stores': '476', 'Company': 'Dunkin'}, {'State': 'Connecticut', 'Year': 2023, 'Dunkin Stores': '480', 'Company': 'Dunkin'}, {'State': 'Maryland', 'Year': 2024, 'Dunkin Stores': '311', 'Company': 'Dunkin'}, {'State': 'Maryland', 'Year': 2023, 'Dunkin Stores': '303', 'Company': 'Dunkin'}, {'State': 'Georgia', 'Year': 2024, 'Dunkin Stores': '287', 'Company': 'Dunkin'}, {'State': 'Georgia', 'Year': 2023, 'Dunkin Stores': '265', 'Company': 'Dunkin'}, {'State': 'Ohio', 'Year': 2024, 'Dunkin Stores': '261', 'Company': 'Dunkin'}, {'State': 'Ohio', 'Year': 2023, 'Dunkin Stores': '245', 'Company': 'Dunkin'}, {'State': 'Virginia', 'Year': 2024, 'Dunkin Stores': '244', 'Company': 'Dunkin'}, {'State': 'Virginia', 'Year': 2023, 'Dunkin Stores': '230', 'Company': 'Dunkin'}, {'State': 'Texas', 'Year': 2024, 'Dunkin Stores': '226', 'Company': 'Dunkin'}, {'State': 'Texas', 'Year': 2023, 'Dunkin Stores': '196', 'Company': 'Dunkin'}, {'State': 'North Carolina', 'Year': 2024, 'Dunkin Stores': '224', 'Company': 'Dunkin'}, {'State': 'North Carolina', 'Year': 2023, 'Dunkin Stores': '206', 'Company': 'Dunkin'}, {'State': 'New Hampshire', 'Year': 2024, 'Dunkin Stores': '216', 'Company': 'Dunkin'}, {'State': 'New Hampshire', 'Year': 2023, 'Dunkin Stores': '218', 'Company': 'Dunkin'}, {'State': 'Maine', 'Year': 2024, 'Dunkin Stores': '164', 'Company': 'Dunkin'}, {'State': 'Maine', 'Year': 2023, 'Dunkin Stores': '159', 'Company': 'Dunkin'}, {'State': 'Rhode Island', 'Year': 2024, 'Dunkin Stores': '159', 'Company': 'Dunkin'}, {'State': 'Rhode Island', 'Year': 2023, 'Dunkin Stores': '160', 'Company': 'Dunkin'}, {'State': 'California', 'Year': 2024, 'Dunkin Stores': '143', 'Company': 'Dunkin'}, {'State': 'California', 'Year': 2023, 'Dunkin Stores': '134', 'Company': 'Dunkin'}, {'State': 'Tennessee', 'Year': 2024, 'Dunkin Stores': '137', 'Company': 'Dunkin'}, {'State': 'Tennessee', 'Year': 2023, 'Dunkin Stores': '123', 'Company': 'Dunkin'}, {'State': 'Indiana', 'Year': 2024, 'Dunkin Stores': '117', 'Company': 'Dunkin'}, {'State': 'Indiana', 'Year': 2023, 'Dunkin Stores': '104', 'Company': 'Dunkin'}, {'State': 'South Carolina', 'Year': 2024, 'Dunkin Stores': '116', 'Company': 'Dunkin'}, {'State': 'South Carolina', 'Year': 2023, 'Dunkin Stores': '103', 'Company': 'Dunkin'}, {'State': 'Michigan', 'Year': 2024, 'Dunkin Stores': '112', 'Company': 'Dunkin'}, {'State': 'Michigan', 'Year': 2023, 'Dunkin Stores': '105', 'Company': 'Dunkin'}, {'State': 'Arizona', 'Year': 2024, 'Dunkin Stores': '110', 'Company': 'Dunkin'}, {'State': 'Arizona', 'Year': 2023, 'Dunkin Stores': '102', 'Company': 'Dunkin'}, {'State': 'Wisconsin', 'Year': 2024, 'Dunkin Stores': '100', 'Company': 'Dunkin'}, {'State': 'Wisconsin', 'Year': 2023, 'Dunkin Stores': '83', 'Company': 'Dunkin'}, {'State': 'Alabama', 'Year': 2024, 'Dunkin Stores': '69', 'Company': 'Dunkin'}, {'State': 'Alabama', 'Year': 2023, 'Dunkin Stores': '59', 'Company': 'Dunkin'}, {'State': 'Delaware', 'Year': 2024, 'Dunkin Stores': '67', 'Company': 'Dunkin'}, {'State': 'Delaware', 'Year': 2023, 'Dunkin Stores': '66', 'Company': 'Dunkin'}, {'State': 'Missouri', 'Year': 2024, 'Dunkin Stores': '54', 'Company': 'Dunkin'}, {'State': 'Missouri', 'Year': 2023, 'Dunkin Stores': '50', 'Company': 'Dunkin'}, {'State': 'Kentucky', 'Year': 2024, 'Dunkin Stores': '50', 'Company': 'Dunkin'}, {'State': 'Kentucky', 'Year': 2023, 'Dunkin Stores': '41', 'Company': 'Dunkin'}, {'State': 'Vermont', 'Year': 2024, 'Dunkin Stores': '50', 'Company': 'Dunkin'}, {'State': 'Vermont', 'Year': 2023, 'Dunkin Stores': '49', 'Company': 'Dunkin'}, {'State': 'Colorado', 'Year': 2024, 'Dunkin Stores': '48', 'Company': 'Dunkin'}, {'State': 'Colorado', 'Year': 2023, 'Dunkin Stores': '43', 'Company': 'Dunkin'}, {'State': 'Nevada', 'Year': 2024, 'Dunkin Stores': '42', 'Company': 'Dunkin'}, {'State': 'Nevada', 'Year': 2023, 'Dunkin Stores': '38', 'Company': 'Dunkin'}, {'State': 'Minnesota', 'Year': 2024, 'Dunkin Stores': '38', 'Company': 'Dunkin'}, {'State': 'Minnesota', 'Year': 2023, 'Dunkin Stores': '34', 'Company': 'Dunkin'}, {'State': 'Iowa', 'Year': 2024, 'Dunkin Stores': '36', 'Company': 'Dunkin'}, {'State': 'Iowa', 'Year': 2023, 'Dunkin Stores': '34', 'Company': 'Dunkin'}, {'State': 'West Virginia', 'Year': 2024, 'Dunkin Stores': '31', 'Company': 'Dunkin'}, {'State': 'West Virginia', 'Year': 2023, 'Dunkin Stores': '27', 'Company': 'Dunkin'}, {'State': 'Kansas', 'Year': 2024, 'Dunkin Stores': '26', 'Company': 'Dunkin'}, {'State': 'Kansas', 'Year': 2023, 'Dunkin Stores': '28', 'Company': 'Dunkin'}, {'State': 'Nebraska', 'Year': 2024, 'Dunkin Stores': '24', 'Company': 'Dunkin'}, {'State': 'Nebraska', 'Year': 2023, 'Dunkin Stores': '23', 'Company': 'Dunkin'}, {'State': 'Oklahoma', 'Year': 2024, 'Dunkin Stores': '23', 'Company': 'Dunkin'}, {'State': 'Oklahoma', 'Year': 2023, 'Dunkin Stores': '18', 'Company': 'Dunkin'}, {'State': 'District of Columbia', 'Year': 2024, 'Dunkin Stores': '19', 'Company': 'Dunkin'}, {'State': 'District of Columbia', 'Year': 2023, 'Dunkin Stores': '', 'Company': 'Dunkin'}, {'State': 'New Mexico', 'Year': 2024, 'Dunkin Stores': '19', 'Company': 'Dunkin'}, {'State': 'New Mexico', 'Year': 2023, 'Dunkin Stores': '19', 'Company': 'Dunkin'}, {'State': 'Louisiana', 'Year': 2024, 'Dunkin Stores': '15', 'Company': 'Dunkin'}, {'State': 'Louisiana', 'Year': 2023, 'Dunkin Stores': '16', 'Company': 'Dunkin'}, {'State': 'Arkansas', 'Year': 2024, 'Dunkin Stores': '14', 'Company': 'Dunkin'}, {'State': 'Arkansas', 'Year': 2023, 'Dunkin Stores': '9', 'Company': 'Dunkin'}, {'State': 'Mississippi', 'Year': 2024, 'Dunkin Stores': '14', 'Company': 'Dunkin'}, {'State': 'Mississippi', 'Year': 2023, 'Dunkin Stores': '12', 'Company': 'Dunkin'}, {'State': 'Hawaii', 'Year': 2024, 'Dunkin Stores': '6', 'Company': 'Dunkin'}, {'State': 'Hawaii', 'Year': 2023, 'Dunkin Stores': '6', 'Company': 'Dunkin'}, {'State': 'Utah', 'Year': 2024, 'Dunkin Stores': '2', 'Company': 'Dunkin'}, {'State': 'Utah', 'Year': 2023, 'Dunkin Stores': '1', 'Company': 'Dunkin'}, {'State': 'Wyoming', 'Year': 2024, 'Dunkin Stores': '1', 'Company': 'Dunkin'}, {'State': 'Wyoming', 'Year': 2023, 'Dunkin Stores': '1', 'Company': 'Dunkin'}, {'State': 'Alaska', 'Year': 2024, 'Dunkin Stores': '0', 'Company': 'Dunkin'}, {'State': 'Alaska', 'Year': 2023, 'Dunkin Stores': '0', 'Company': 'Dunkin'}, {'State': 'Idaho', 'Year': 2024, 'Dunkin Stores': '0', 'Company': 'Dunkin'}, {'State': 'Idaho', 'Year': 2023, 'Dunkin Stores': '0', 'Company': 'Dunkin'}, {'State': 'Montana', 'Year': 2024, 'Dunkin Stores': '0', 'Company': 'Dunkin'}, {'State': 'Montana', 'Year': 2023, 'Dunkin Stores': '0', 'Company': 'Dunkin'}, {'State': 'North Dakota', 'Year': 2024, 'Dunkin Stores': '0', 'Company': 'Dunkin'}, {'State': 'North Dakota', 'Year': 2023, 'Dunkin Stores': '0', 'Company': 'Dunkin'}, {'State': 'Oregon', 'Year': 2024, 'Dunkin Stores': '0', 'Company': 'Dunkin'}, {'State': 'Oregon', 'Year': 2023, 'Dunkin Stores': '0', 'Company': 'Dunkin'}, {'State': 'South Dakota', 'Year': 2024, 'Dunkin Stores': '0', 'Company': 'Dunkin'}, {'State': 'South Dakota', 'Year': 2023, 'Dunkin Stores': '0', 'Company': 'Dunkin'}, {'State': 'Washington', 'Year': 2024, 'Dunkin Stores': '0', 'Company': 'Dunkin'}, {'State': 'Washington', 'Year': 2023, 'Dunkin Stores': '19', 'Company': 'Dunkin'}]\n",
      "             State  Year Dunkin Stores Company\n",
      "0         New York  2024         1,431  Dunkin\n",
      "1         New York  2023         1,414  Dunkin\n",
      "2    Massachusetts  2024         1,042  Dunkin\n",
      "3    Massachusetts  2023         1,068  Dunkin\n",
      "4          Florida  2024           909  Dunkin\n",
      "..             ...   ...           ...     ...\n",
      "97          Oregon  2023             0  Dunkin\n",
      "98    South Dakota  2024             0  Dunkin\n",
      "99    South Dakota  2023             0  Dunkin\n",
      "100     Washington  2024             0  Dunkin\n",
      "101     Washington  2023            19  Dunkin\n",
      "\n",
      "[102 rows x 4 columns]\n"
     ]
    }
   ],
   "source": [
    "dunkin_rows = []\n",
    "states_list = []\n",
    "\n",
    "for th in dunkin_table.find_all(\"th\")[3:]:\n",
    "    states = th.get_text(strip = True)\n",
    "    states_list.append(states)\n",
    "\n",
    "for i, tr in enumerate(dunkin_table.find_all(\"tr\")[1:]):\n",
    "    state = states_list[i]\n",
    "\n",
    "    cells = tr.find_all(\"td\")\n",
    "    \n",
    "    #dunkin_stores2024_tag = cells[0].find(\"a\") or cells[0]\n",
    "    #dunkin_stores2024 = dunkin_stores2024_tag.get_text(strip = True)\n",
    "\n",
    "    #dunkin_stores2023_tag = cells[0].find(\"a\") or cells[1]\n",
    "    #dunkin_stores2023 = dunkin_stores2023_tag.get_text(strip = True)\n",
    "\n",
    "    dunkin_stores2024 = cells[0].get_text(strip=True)\n",
    "    dunkin_stores2023 = cells[1].get_text(strip=True)\n",
    "\n",
    "\n",
    "    # Append this data.\n",
    "    #dunkin_rows.append({\n",
    "        #\"state\": state,\n",
    "        #\"2024 Stores\": dunkin_stores2024,\n",
    "        #\"2023 Stores\": dunkin_stores2023\n",
    "    #})\n",
    "#for i, state in enumerate(states_list):\n",
    "    dunkin_rows.append({\n",
    "        \"State\": state,\n",
    "        \"Year\": 2024,\n",
    "        \"Dunkin Stores\": dunkin_stores2024,\n",
    "        \"Company\": \"Dunkin\"\n",
    "    })\n",
    "    dunkin_rows.append({\n",
    "        \"State\": state,\n",
    "        \"Year\": 2023,\n",
    "        \"Dunkin Stores\": dunkin_stores2023,\n",
    "        \"Company\": \"Dunkin\"\n",
    "    })\n",
    "print(dunkin_rows)\n",
    "df = pd.DataFrame(dunkin_rows)\n",
    "print(df)"
   ]
  },
  {
   "cell_type": "markdown",
   "metadata": {},
   "source": [
    "### 2. Parse, merge and tidy your data. Think carefully about what the tidy version of this dataset is with multiple years represented on the website."
   ]
  },
  {
   "cell_type": "code",
   "execution_count": 48,
   "metadata": {},
   "outputs": [
    {
     "name": "stdout",
     "output_type": "stream",
     "text": [
      "       State  Year Dunkin Stores    Company Starbucks Stores\n",
      "0    Alabama  2021           NaN  Starbucks               99\n",
      "1    Alabama  2023            59     Dunkin              NaN\n",
      "2    Alabama  2023           NaN  Starbucks               85\n",
      "3    Alabama  2024            69     Dunkin              NaN\n",
      "4    Alabama  2024           NaN  Starbucks                 \n",
      "..       ...   ...           ...        ...              ...\n",
      "250  Wyoming  2021           NaN  Starbucks               26\n",
      "251  Wyoming  2023             1     Dunkin              NaN\n",
      "252  Wyoming  2023           NaN  Starbucks               23\n",
      "253  Wyoming  2024             1     Dunkin              NaN\n",
      "254  Wyoming  2024           NaN  Starbucks                 \n",
      "\n",
      "[255 rows x 5 columns]\n",
      "       State  Year Dunkin Stores    Company Starbucks Stores\n",
      "0    Alabama  2021           NaN  Starbucks               99\n",
      "1    Alabama  2023            59     Dunkin              NaN\n",
      "2    Alabama  2023           NaN  Starbucks               85\n",
      "3    Alabama  2024            69     Dunkin              NaN\n",
      "4    Alabama  2024           NaN  Starbucks                 \n",
      "..       ...   ...           ...        ...              ...\n",
      "250  Wyoming  2021           NaN  Starbucks               26\n",
      "251  Wyoming  2023             1     Dunkin              NaN\n",
      "252  Wyoming  2023           NaN  Starbucks               23\n",
      "253  Wyoming  2024             1     Dunkin              NaN\n",
      "254  Wyoming  2024           NaN  Starbucks                 \n",
      "\n",
      "[255 rows x 5 columns]\n"
     ]
    }
   ],
   "source": [
    "#dunkin_rows = []\n",
    "#starbucks_rows = []\n",
    "\n",
    "#for i, state in enumerate(states_list):\n",
    "    #dunkin_rows.append({\n",
    "        #\"State\": state,\n",
    "        #\"Year\": 2024,\n",
    "        #\"Dunkin Stores\": dunkin_stores2024\n",
    "    #})\n",
    "    #dunkin_rows.append({\n",
    "        #\"State\": state,\n",
    "        #\"Year\": 2023,\n",
    "        #\"Dunkin Stores\": dunkin_stores2023\n",
    "    #})\n",
    "\n",
    "\n",
    "\n",
    "#for i, state in enumerate(states_list):\n",
    "    #starbucks_rows.append({\n",
    "        #\"State\": state,\n",
    "        #\"Year\": 2023,\n",
    "        #\"Starbucks Stores\": stores2023\n",
    "    #})\n",
    "    #starbucks_rows.append({\n",
    "        #\"State\": state,\n",
    "        #\"Year\": 2021,\n",
    "        #\"Starbucks Stores\": stores2021\n",
    "   # })\n",
    "    #starbucks_rows.append({\n",
    "        #\"State\": state,\n",
    "        #\"Year\": 2024,\n",
    "        #\"Starbucks Stores\": stores2024\n",
    "   # })\n",
    "\n",
    "df_dunkin = pd.DataFrame(dunkin_rows)\n",
    "df_starbucks = pd.DataFrame(starbucks_rows)\n",
    "\n",
    "coffee = pd.merge(df_dunkin, df_starbucks, on=[\"State\", \"Year\", \"Company\"], how=\"outer\")\n",
    "print(coffee)\n"
   ]
  },
  {
   "cell_type": "markdown",
   "metadata": {},
   "source": [
    "## Supplemental Data"
   ]
  },
  {
   "cell_type": "markdown",
   "metadata": {},
   "source": [
    "### 4. Scrape the state names and populations from this wikipedia page. Merge these data with your coffee dataset."
   ]
  },
  {
   "cell_type": "code",
   "execution_count": 49,
   "metadata": {},
   "outputs": [
    {
     "name": "stdout",
     "output_type": "stream",
     "text": [
      "       State    Year Dunkin Stores    Company Starbucks Stores Population\n",
      "0    Alabama  2021.0           NaN  Starbucks               99  5,024,279\n",
      "1    Alabama  2023.0            59     Dunkin              NaN  5,024,279\n",
      "2    Alabama  2023.0           NaN  Starbucks               85  5,024,279\n",
      "3    Alabama  2024.0            69     Dunkin              NaN  5,024,279\n",
      "4    Alabama  2024.0           NaN  Starbucks                   5,024,279\n",
      "..       ...     ...           ...        ...              ...        ...\n",
      "259  Wyoming  2021.0           NaN  Starbucks               26    576,851\n",
      "260  Wyoming  2023.0             1     Dunkin              NaN    576,851\n",
      "261  Wyoming  2023.0           NaN  Starbucks               23    576,851\n",
      "262  Wyoming  2024.0             1     Dunkin              NaN    576,851\n",
      "263  Wyoming  2024.0           NaN  Starbucks                     576,851\n",
      "\n",
      "[264 rows x 6 columns]\n",
      "       State    Year Dunkin Stores    Company Starbucks Stores Population\n",
      "0    Alabama  2021.0           NaN  Starbucks               99  5,024,279\n",
      "1    Alabama  2023.0            59     Dunkin              NaN  5,024,279\n",
      "2    Alabama  2023.0           NaN  Starbucks               85  5,024,279\n",
      "3    Alabama  2024.0            69     Dunkin              NaN  5,024,279\n",
      "4    Alabama  2024.0           NaN  Starbucks                   5,024,279\n",
      "..       ...     ...           ...        ...              ...        ...\n",
      "259  Wyoming  2021.0           NaN  Starbucks               26    576,851\n",
      "260  Wyoming  2023.0             1     Dunkin              NaN    576,851\n",
      "261  Wyoming  2023.0           NaN  Starbucks               23    576,851\n",
      "262  Wyoming  2024.0             1     Dunkin              NaN    576,851\n",
      "263  Wyoming  2024.0           NaN  Starbucks                     576,851\n",
      "\n",
      "[264 rows x 6 columns]\n"
     ]
    }
   ],
   "source": [
    "pop_response = requests.get(\"https://simple.wikipedia.org/wiki/List_of_U.S._states_by_population\")\n",
    "pop_soup = BeautifulSoup(pop_response.content, \"html.parser\")\n",
    "pop_table = pop_soup.find(\"table\", class_ = \"wikitable\")\n",
    "\n",
    "pop_rows = []\n",
    "\n",
    "for tr in pop_table.find_all(\"tr\")[1:]:\n",
    "    cells = tr.find_all('td')\n",
    "    if len(cells) >= 3:\n",
    "        state = cells[2].get_text(strip = True)\n",
    "        population = cells[3].get_text(strip = True)\n",
    "\n",
    "\n",
    "        pop_rows.append({\n",
    "        \"State\": state,\n",
    "        \"Population\": population})\n",
    "\n",
    "pop_df = pd.DataFrame(pop_rows)\n",
    "\n",
    "coffee_new = pd.merge(coffee, pop_df, on=\"State\", how = \"outer\")\n",
    "print(coffee_new)\n"
   ]
  },
  {
   "cell_type": "markdown",
   "metadata": {},
   "source": [
    "### 5. Find the revenue, stock price, or your financial metric of choice for each of the companies listed above (if you can find a website to scrape these from that’s great!…but it’s okay if you manually enter these). Merge these values into your big dataset. Note: these values may be repeated for each state."
   ]
  },
  {
   "cell_type": "code",
   "execution_count": 53,
   "metadata": {},
   "outputs": [
    {
     "name": "stdout",
     "output_type": "stream",
     "text": [
      "       State    Year Dunkin Stores  ... Starbucks Stores Population Stock Price\n",
      "0    Alabama  2023.0            59  ...              NaN  5,024,279      106.48\n",
      "1    Alabama  2024.0           NaN  ...                   5,024,279       97.31\n",
      "2    Alabama  2023.0           NaN  ...               85  5,024,279       97.31\n",
      "3    Alabama  2021.0           NaN  ...               99  5,024,279       97.31\n",
      "4    Alabama  2024.0            69  ...              NaN  5,024,279      106.48\n",
      "..       ...     ...           ...  ...              ...        ...         ...\n",
      "259  Wyoming  2021.0           NaN  ...               26    576,851       97.31\n",
      "260  Wyoming  2023.0           NaN  ...               23    576,851       97.31\n",
      "261  Wyoming  2024.0           NaN  ...                     576,851       97.31\n",
      "262  Wyoming  2023.0             1  ...              NaN    576,851      106.48\n",
      "263  Wyoming  2024.0             1  ...              NaN    576,851      106.48\n",
      "\n",
      "[264 rows x 7 columns]\n",
      "       State    Year Dunkin Stores  ... Starbucks Stores Population Stock Price\n",
      "0    Alabama  2023.0            59  ...              NaN  5,024,279      106.48\n",
      "1    Alabama  2024.0           NaN  ...                   5,024,279       97.31\n",
      "2    Alabama  2023.0           NaN  ...               85  5,024,279       97.31\n",
      "3    Alabama  2021.0           NaN  ...               99  5,024,279       97.31\n",
      "4    Alabama  2024.0            69  ...              NaN  5,024,279      106.48\n",
      "..       ...     ...           ...  ...              ...        ...         ...\n",
      "259  Wyoming  2021.0           NaN  ...               26    576,851       97.31\n",
      "260  Wyoming  2023.0           NaN  ...               23    576,851       97.31\n",
      "261  Wyoming  2024.0           NaN  ...                     576,851       97.31\n",
      "262  Wyoming  2023.0             1  ...              NaN    576,851      106.48\n",
      "263  Wyoming  2024.0             1  ...              NaN    576,851      106.48\n",
      "\n",
      "[264 rows x 7 columns]\n"
     ]
    }
   ],
   "source": [
    "# stock prices\n",
    "# 97.31 for starbucks\n",
    "# 106.48 for dunkin \n",
    "financial_data = {\n",
    "    \"Company\": [\"Starbucks\", \"Dunkin\"],\n",
    "    \"Stock Price\": [97.31, 106.48]\n",
    "}\n",
    "\n",
    "financial_df = pd.DataFrame(financial_data)\n",
    "\n",
    "financial_coffee = pd.merge(coffee_new, financial_df, on = \"Company\", how = \"outer\")\n",
    "financial_coffee = financial_coffee.sort_values(by = \"State\").reset_index(drop=True)\n",
    "print(financial_coffee)"
   ]
  },
  {
   "cell_type": "markdown",
   "metadata": {},
   "source": [
    "### 6. Create a region variable in your dataset according to the scheme on this wikipedia page: Northeast, Midwest, South, West. You do not need to scrape this information."
   ]
  },
  {
   "cell_type": "code",
   "execution_count": 54,
   "metadata": {},
   "outputs": [],
   "source": [
    "#regions for us\n",
    "regions = {\n",
    "    \"Conneticut\": \"Northeast\",\n",
    "    \"Maine\": \"Northeast\",\n",
    "    \"Massachusetts\": \"Northeast\",\n",
    "    \"New Hampshire\": \"Northeast\",\n",
    "    \"Rhode Island\": \"Northeast\",\n",
    "    \"Vermont\": \"Northeast\",\n",
    "    \"New Jersey\": \"Northeast\",\n",
    "    \"New York\": \"Northeast\",\n",
    "    \"Pennsylvania\": \"Northeast\",\n",
    "    \"Illinois\": \"Midwest\",\n",
    "    \"Indiana\": \"Midwest\",\n",
    "    \"Michigan\": \"Midwest\",\n",
    "    \"Ohio\": \"Midwest\",\n",
    "    \"Wisconsin\": \"Midwest\",\n",
    "    \"Iowa\": \"Midwest\",\n",
    "    \"Kansas\": \"Midwest\",\n",
    "    \"Minnesota\": \"Midwest\",\n",
    "    \"Missouri\": \"Midwest\",\n",
    "    \"Nebraska\": \"Midwest\",\n",
    "    \"North Dakota\": \"Midwest\",\n",
    "    \"South Dakota\": \"Midwest\",\n",
    "    \"Delaware\": \"South\",\n",
    "    \"Florida\": \"South\",\n",
    "    \"Georgia\": \"South\",\n",
    "    \"Maryland\": \"South\",\n",
    "    \"North Carolina\": \"South\",\n",
    "    \"South Carolina\": \"South\",\n",
    "    \"Virginia\": \"South\",\n",
    "    \"Washingtion, D.C.\": \"South\",\n",
    "    \"West Virginia\": \"South\",\n",
    "    \"Alabama\": \"South\",\n",
    "    \"Kentucky\": \"South\",\n",
    "    \"Mississippi\": \"South\",\n",
    "    \"Tennessee\": \"South\",\n",
    "    \"Arkansas\": \"South\",\n",
    "    \"Louisiana\": \"South\",\n",
    "    \"Oklahoma\": \"South\",\n",
    "    \"Texas\": \"South\",\n",
    "    \"Arizona\": \"West\",\n",
    "    \"Colorado\": \"West\",\n",
    "    \"Idaho\": \"West\",\n",
    "    \"Montana\": \"West\", \n",
    "    \"Nevada\": \"West\", \n",
    "    \"New Mexico\": \"West\",\n",
    "    \"Utah\": \"West\",\n",
    "    \"Wyoming\": \"West\",\n",
    "    \"Alaska\": \"West\",\n",
    "    \"California\": \"West\",\n",
    "    \"Hawaii\": \"West\",\n",
    "    \"Oregon\": \"West\",\n",
    "    \"Washington\": \"West\"\n",
    "}\n",
    "\n",
    "financial_coffee[\"Regions\"] = financial_coffee[\"State\"].map(regions)"
   ]
  },
  {
   "cell_type": "markdown",
   "metadata": {},
   "source": [
    "## Analyze"
   ]
  },
  {
   "cell_type": "markdown",
   "metadata": {},
   "source": [
    "### 7. Assess and comment on the prevalence of each chain. Some questions to consider (you don’t need to answer all of these and you may come up with your own):\n",
    "* Are some of these chains more prevalent in certain states than others? Possibly despite having less stores overall? Same questions for regions instead of states.\n",
    "\n",
    "* How does your chosen financial metric change by state and region for each chain? For example, having 5 stores in California is very different from having 5 stores in Wyoming.\n",
    "\n",
    "* Does the distribution of each chain’s stores match population distribution, by both state/region?\n",
    "\n",
    "* Do the financial data match what you’d expect based on the number and locations of the stores? Why or why not?"
   ]
  },
  {
   "cell_type": "code",
   "execution_count": null,
   "metadata": {},
   "outputs": [],
   "source": []
  },
  {
   "cell_type": "markdown",
   "metadata": {},
   "source": [
    "## Automate"
   ]
  },
  {
   "cell_type": "markdown",
   "metadata": {},
   "source": [
    "### Convert your code for Exercises 1-3 above to a function that takes a single argument: the URL. This function should\n",
    "\n",
    "* Scrape the information on state names and corresponding number of store locations on the webpage specified (assume the page has a table in the same form and placement as the ones you scraped above)\n",
    "\n",
    "* Extract the name of the company from either the URL specified or the webpage (assume the URL will have the same format as the ones used above)\n",
    "\n",
    "* Return a clean, organized and tidy dataset. Find a page other than Starbucks and Dunkin’ Donuts to test this on to confirm that it works. It’s fine if this is not related to coffee."
   ]
  },
  {
   "cell_type": "code",
   "execution_count": null,
   "metadata": {},
   "outputs": [],
   "source": []
  }
 ],
 "metadata": {
  "language_info": {
   "name": "python"
  }
 },
 "nbformat": 4,
 "nbformat_minor": 2
}
