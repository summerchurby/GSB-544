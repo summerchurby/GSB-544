{
 "cells": [
  {
   "cell_type": "raw",
   "metadata": {
    "vscode": {
     "languageId": "raw"
    }
   },
   "source": [
    "---\n",
    "title: Lab 4\n",
    "author: Summer Churby\n",
    "format: \n",
    "        html: \n",
    "            toc: true\n",
    "            code-fold: true\n",
    "embed-resources: true\n",
    "---"
   ]
  },
  {
   "cell_type": "markdown",
   "metadata": {},
   "source": [
    "## Scrape the Location Counts"
   ]
  },
  {
   "cell_type": "markdown",
   "metadata": {},
   "source": [
    "### 1. Use the beautifulsoup library to scrape the data (from the link above) on state names and corresponding number of store locations, for the following chains:\n",
    "* Starbucks\n",
    "\n",
    "* Dunkin’ Donuts"
   ]
  },
  {
   "cell_type": "code",
   "execution_count": 1,
   "metadata": {},
   "outputs": [],
   "source": [
    "import pandas as pd \n",
    "import requests\n",
    "from bs4 import BeautifulSoup"
   ]
  },
  {
   "cell_type": "code",
   "execution_count": 15,
   "metadata": {},
   "outputs": [],
   "source": [
    "# starbucks\n",
    "response = requests.get(\"https://worldpopulationreview.com/state-rankings/starbucks-stores-by-state\")\n",
    "starbucks_soup = BeautifulSoup(response.content, \"html.parser\")\n",
    "starbucks_tables = starbucks_soup.find_all(\"table\", class_ = \"wpr-table\")[0]\n"
   ]
  },
  {
   "cell_type": "code",
   "execution_count": 18,
   "metadata": {},
   "outputs": [
    {
     "name": "stdout",
     "output_type": "stream",
     "text": [
      "[{'State': 'California', 'Year': 2023, 'Starbucks Stores': '3,080'}, {'State': 'California', 'Year': 2021, 'Starbucks Stores': '2,959'}, {'State': 'California', 'Year': 2024, 'Starbucks Stores': '3,117'}, {'State': 'Texas', 'Year': 2023, 'Starbucks Stores': '1,346'}, {'State': 'Texas', 'Year': 2021, 'Starbucks Stores': '1,215'}, {'State': 'Texas', 'Year': 2024, 'Starbucks Stores': '1,409'}, {'State': 'Florida', 'Year': 2023, 'Starbucks Stores': '844'}, {'State': 'Florida', 'Year': 2021, 'Starbucks Stores': '786'}, {'State': 'Florida', 'Year': 2024, 'Starbucks Stores': '892'}, {'State': 'Washington', 'Year': 2023, 'Starbucks Stores': '741'}, {'State': 'Washington', 'Year': 2021, 'Starbucks Stores': '739'}, {'State': 'Washington', 'Year': 2024, 'Starbucks Stores': '736'}, {'State': 'New York', 'Year': 2023, 'Starbucks Stores': '692'}, {'State': 'New York', 'Year': 2021, 'Starbucks Stores': '643'}, {'State': 'New York', 'Year': 2024, 'Starbucks Stores': '715'}, {'State': 'Illinois', 'Year': 2023, 'Starbucks Stores': '677'}, {'State': 'Illinois', 'Year': 2021, 'Starbucks Stores': '621'}, {'State': 'Illinois', 'Year': 2024, 'Starbucks Stores': '685'}, {'State': 'Arizona', 'Year': 2023, 'Starbucks Stores': '548'}, {'State': 'Arizona', 'Year': 2021, 'Starbucks Stores': '535'}, {'State': 'Arizona', 'Year': 2024, 'Starbucks Stores': '579'}, {'State': 'Colorado', 'Year': 2023, 'Starbucks Stores': '495'}, {'State': 'Colorado', 'Year': 2021, 'Starbucks Stores': '497'}, {'State': 'Colorado', 'Year': 2024, 'Starbucks Stores': '506'}, {'State': 'Ohio', 'Year': 2023, 'Starbucks Stores': '491'}, {'State': 'Ohio', 'Year': 2021, 'Starbucks Stores': '446'}, {'State': 'Ohio', 'Year': 2024, 'Starbucks Stores': '499'}, {'State': 'Virginia', 'Year': 2023, 'Starbucks Stores': '489'}, {'State': 'Virginia', 'Year': 2021, 'Starbucks Stores': '456'}, {'State': 'Virginia', 'Year': 2024, 'Starbucks Stores': '510'}, {'State': 'Oregon', 'Year': 2023, 'Starbucks Stores': '359'}, {'State': 'Oregon', 'Year': 2021, 'Starbucks Stores': '345'}, {'State': 'Oregon', 'Year': 2024, 'Starbucks Stores': ''}, {'State': 'Pennsylvania', 'Year': 2023, 'Starbucks Stores': '357'}, {'State': 'Pennsylvania', 'Year': 2021, 'Starbucks Stores': '406'}, {'State': 'Pennsylvania', 'Year': 2024, 'Starbucks Stores': ''}, {'State': 'North Carolina', 'Year': 2023, 'Starbucks Stores': '338'}, {'State': 'North Carolina', 'Year': 2021, 'Starbucks Stores': '422'}, {'State': 'North Carolina', 'Year': 2024, 'Starbucks Stores': ''}, {'State': 'Georgia', 'Year': 2023, 'Starbucks Stores': '326'}, {'State': 'Georgia', 'Year': 2021, 'Starbucks Stores': '379'}, {'State': 'Georgia', 'Year': 2024, 'Starbucks Stores': ''}, {'State': 'Michigan', 'Year': 2023, 'Starbucks Stores': '283'}, {'State': 'Michigan', 'Year': 2021, 'Starbucks Stores': '310'}, {'State': 'Michigan', 'Year': 2024, 'Starbucks Stores': ''}, {'State': 'Massachusetts', 'Year': 2023, 'Starbucks Stores': '273'}, {'State': 'Massachusetts', 'Year': 2021, 'Starbucks Stores': '279'}, {'State': 'Massachusetts', 'Year': 2024, 'Starbucks Stores': ''}, {'State': 'New Jersey', 'Year': 2023, 'Starbucks Stores': '261'}, {'State': 'New Jersey', 'Year': 2021, 'Starbucks Stores': '293'}, {'State': 'New Jersey', 'Year': 2024, 'Starbucks Stores': ''}, {'State': 'Maryland', 'Year': 2023, 'Starbucks Stores': '257'}, {'State': 'Maryland', 'Year': 2021, 'Starbucks Stores': '274'}, {'State': 'Maryland', 'Year': 2024, 'Starbucks Stores': ''}, {'State': 'Nevada', 'Year': 2023, 'Starbucks Stores': '253'}, {'State': 'Nevada', 'Year': 2021, 'Starbucks Stores': '269'}, {'State': 'Nevada', 'Year': 2024, 'Starbucks Stores': ''}, {'State': 'Indiana', 'Year': 2023, 'Starbucks Stores': '221'}, {'State': 'Indiana', 'Year': 2021, 'Starbucks Stores': '265'}, {'State': 'Indiana', 'Year': 2024, 'Starbucks Stores': ''}, {'State': 'Missouri', 'Year': 2023, 'Starbucks Stores': '188'}, {'State': 'Missouri', 'Year': 2021, 'Starbucks Stores': '208'}, {'State': 'Missouri', 'Year': 2024, 'Starbucks Stores': ''}, {'State': 'Minnesota', 'Year': 2023, 'Starbucks Stores': '184'}, {'State': 'Minnesota', 'Year': 2021, 'Starbucks Stores': '212'}, {'State': 'Minnesota', 'Year': 2024, 'Starbucks Stores': ''}, {'State': 'Tennessee', 'Year': 2023, 'Starbucks Stores': '180'}, {'State': 'Tennessee', 'Year': 2021, 'Starbucks Stores': '237'}, {'State': 'Tennessee', 'Year': 2024, 'Starbucks Stores': ''}, {'State': 'Kentucky', 'Year': 2023, 'Starbucks Stores': '166'}, {'State': 'Kentucky', 'Year': 2021, 'Starbucks Stores': '131'}, {'State': 'Kentucky', 'Year': 2024, 'Starbucks Stores': ''}, {'State': 'Wisconsin', 'Year': 2023, 'Starbucks Stores': '145'}, {'State': 'Wisconsin', 'Year': 2021, 'Starbucks Stores': '176'}, {'State': 'Wisconsin', 'Year': 2024, 'Starbucks Stores': ''}, {'State': 'South Carolina', 'Year': 2023, 'Starbucks Stores': '131'}, {'State': 'South Carolina', 'Year': 2021, 'Starbucks Stores': '207'}, {'State': 'South Carolina', 'Year': 2024, 'Starbucks Stores': ''}, {'State': 'Connecticut', 'Year': 2023, 'Starbucks Stores': '123'}, {'State': 'Connecticut', 'Year': 2021, 'Starbucks Stores': '125'}, {'State': 'Connecticut', 'Year': 2024, 'Starbucks Stores': ''}, {'State': 'Utah', 'Year': 2023, 'Starbucks Stores': '101'}, {'State': 'Utah', 'Year': 2021, 'Starbucks Stores': '126'}, {'State': 'Utah', 'Year': 2024, 'Starbucks Stores': ''}, {'State': 'Hawaii', 'Year': 2023, 'Starbucks Stores': '99'}, {'State': 'Hawaii', 'Year': 2021, 'Starbucks Stores': '105'}, {'State': 'Hawaii', 'Year': 2024, 'Starbucks Stores': ''}, {'State': 'Kansas', 'Year': 2023, 'Starbucks Stores': '94'}, {'State': 'Kansas', 'Year': 2021, 'Starbucks Stores': '120'}, {'State': 'Kansas', 'Year': 2024, 'Starbucks Stores': ''}, {'State': 'District of Columbia', 'Year': 2023, 'Starbucks Stores': '91'}, {'State': 'District of Columbia', 'Year': 2021, 'Starbucks Stores': ''}, {'State': 'District of Columbia', 'Year': 2024, 'Starbucks Stores': ''}, {'State': 'Iowa', 'Year': 2023, 'Starbucks Stores': '89'}, {'State': 'Iowa', 'Year': 2021, 'Starbucks Stores': '142'}, {'State': 'Iowa', 'Year': 2024, 'Starbucks Stores': ''}, {'State': 'Alabama', 'Year': 2023, 'Starbucks Stores': '85'}, {'State': 'Alabama', 'Year': 2021, 'Starbucks Stores': '99'}, {'State': 'Alabama', 'Year': 2024, 'Starbucks Stores': ''}, {'State': 'Louisiana', 'Year': 2023, 'Starbucks Stores': '84'}, {'State': 'Louisiana', 'Year': 2021, 'Starbucks Stores': '10'}, {'State': 'Louisiana', 'Year': 2024, 'Starbucks Stores': ''}, {'State': 'Oklahoma', 'Year': 2023, 'Starbucks Stores': '79'}, {'State': 'Oklahoma', 'Year': 2021, 'Starbucks Stores': '94'}, {'State': 'Oklahoma', 'Year': 2024, 'Starbucks Stores': ''}, {'State': 'New Mexico', 'Year': 2023, 'Starbucks Stores': '76'}, {'State': 'New Mexico', 'Year': 2021, 'Starbucks Stores': '92'}, {'State': 'New Mexico', 'Year': 2024, 'Starbucks Stores': ''}, {'State': 'Idaho', 'Year': 2023, 'Starbucks Stores': '67'}, {'State': 'Idaho', 'Year': 2021, 'Starbucks Stores': '78'}, {'State': 'Idaho', 'Year': 2024, 'Starbucks Stores': ''}, {'State': 'Nebraska', 'Year': 2023, 'Starbucks Stores': '58'}, {'State': 'Nebraska', 'Year': 2021, 'Starbucks Stores': '87'}, {'State': 'Nebraska', 'Year': 2024, 'Starbucks Stores': ''}, {'State': 'Arkansas', 'Year': 2023, 'Starbucks Stores': '55'}, {'State': 'Arkansas', 'Year': 2021, 'Starbucks Stores': '66'}, {'State': 'Arkansas', 'Year': 2024, 'Starbucks Stores': ''}, {'State': 'Alaska', 'Year': 2023, 'Starbucks Stores': '49'}, {'State': 'Alaska', 'Year': 2021, 'Starbucks Stores': '49'}, {'State': 'Alaska', 'Year': 2024, 'Starbucks Stores': ''}, {'State': 'Mississippi', 'Year': 2023, 'Starbucks Stores': '32'}, {'State': 'Mississippi', 'Year': 2021, 'Starbucks Stores': '36'}, {'State': 'Mississippi', 'Year': 2024, 'Starbucks Stores': ''}, {'State': 'Montana', 'Year': 2023, 'Starbucks Stores': '32'}, {'State': 'Montana', 'Year': 2021, 'Starbucks Stores': '45'}, {'State': 'Montana', 'Year': 2024, 'Starbucks Stores': ''}, {'State': 'Maine', 'Year': 2023, 'Starbucks Stores': '30'}, {'State': 'Maine', 'Year': 2021, 'Starbucks Stores': '31'}, {'State': 'Maine', 'Year': 2024, 'Starbucks Stores': ''}, {'State': 'New Hampshire', 'Year': 2023, 'Starbucks Stores': '29'}, {'State': 'New Hampshire', 'Year': 2021, 'Starbucks Stores': '35'}, {'State': 'New Hampshire', 'Year': 2024, 'Starbucks Stores': ''}, {'State': 'Rhode Island', 'Year': 2023, 'Starbucks Stores': '27'}, {'State': 'Rhode Island', 'Year': 2021, 'Starbucks Stores': '26'}, {'State': 'Rhode Island', 'Year': 2024, 'Starbucks Stores': ''}, {'State': 'Delaware', 'Year': 2023, 'Starbucks Stores': '25'}, {'State': 'Delaware', 'Year': 2021, 'Starbucks Stores': '39'}, {'State': 'Delaware', 'Year': 2024, 'Starbucks Stores': ''}, {'State': 'South Dakota', 'Year': 2023, 'Starbucks Stores': '25'}, {'State': 'South Dakota', 'Year': 2021, 'Starbucks Stores': '52'}, {'State': 'South Dakota', 'Year': 2024, 'Starbucks Stores': ''}, {'State': 'West Virginia', 'Year': 2023, 'Starbucks Stores': '25'}, {'State': 'West Virginia', 'Year': 2021, 'Starbucks Stores': '64'}, {'State': 'West Virginia', 'Year': 2024, 'Starbucks Stores': ''}, {'State': 'Wyoming', 'Year': 2023, 'Starbucks Stores': '23'}, {'State': 'Wyoming', 'Year': 2021, 'Starbucks Stores': '26'}, {'State': 'Wyoming', 'Year': 2024, 'Starbucks Stores': ''}, {'State': 'North Dakota', 'Year': 2023, 'Starbucks Stores': '13'}, {'State': 'North Dakota', 'Year': 2021, 'Starbucks Stores': '20'}, {'State': 'North Dakota', 'Year': 2024, 'Starbucks Stores': ''}, {'State': 'Vermont', 'Year': 2023, 'Starbucks Stores': '8'}, {'State': 'Vermont', 'Year': 2021, 'Starbucks Stores': '35'}, {'State': 'Vermont', 'Year': 2024, 'Starbucks Stores': ''}]\n",
      "            State  Year Starbucks Stores\n",
      "0      California  2023            3,080\n",
      "1      California  2021            2,959\n",
      "2      California  2024            3,117\n",
      "3           Texas  2023            1,346\n",
      "4           Texas  2021            1,215\n",
      "..            ...   ...              ...\n",
      "148  North Dakota  2021               20\n",
      "149  North Dakota  2024                 \n",
      "150       Vermont  2023                8\n",
      "151       Vermont  2021               35\n",
      "152       Vermont  2024                 \n",
      "\n",
      "[153 rows x 3 columns]\n",
      "[{'State': 'California', 'Year': 2023, 'Starbucks Stores': '3,080'}, {'State': 'California', 'Year': 2021, 'Starbucks Stores': '2,959'}, {'State': 'California', 'Year': 2024, 'Starbucks Stores': '3,117'}, {'State': 'Texas', 'Year': 2023, 'Starbucks Stores': '1,346'}, {'State': 'Texas', 'Year': 2021, 'Starbucks Stores': '1,215'}, {'State': 'Texas', 'Year': 2024, 'Starbucks Stores': '1,409'}, {'State': 'Florida', 'Year': 2023, 'Starbucks Stores': '844'}, {'State': 'Florida', 'Year': 2021, 'Starbucks Stores': '786'}, {'State': 'Florida', 'Year': 2024, 'Starbucks Stores': '892'}, {'State': 'Washington', 'Year': 2023, 'Starbucks Stores': '741'}, {'State': 'Washington', 'Year': 2021, 'Starbucks Stores': '739'}, {'State': 'Washington', 'Year': 2024, 'Starbucks Stores': '736'}, {'State': 'New York', 'Year': 2023, 'Starbucks Stores': '692'}, {'State': 'New York', 'Year': 2021, 'Starbucks Stores': '643'}, {'State': 'New York', 'Year': 2024, 'Starbucks Stores': '715'}, {'State': 'Illinois', 'Year': 2023, 'Starbucks Stores': '677'}, {'State': 'Illinois', 'Year': 2021, 'Starbucks Stores': '621'}, {'State': 'Illinois', 'Year': 2024, 'Starbucks Stores': '685'}, {'State': 'Arizona', 'Year': 2023, 'Starbucks Stores': '548'}, {'State': 'Arizona', 'Year': 2021, 'Starbucks Stores': '535'}, {'State': 'Arizona', 'Year': 2024, 'Starbucks Stores': '579'}, {'State': 'Colorado', 'Year': 2023, 'Starbucks Stores': '495'}, {'State': 'Colorado', 'Year': 2021, 'Starbucks Stores': '497'}, {'State': 'Colorado', 'Year': 2024, 'Starbucks Stores': '506'}, {'State': 'Ohio', 'Year': 2023, 'Starbucks Stores': '491'}, {'State': 'Ohio', 'Year': 2021, 'Starbucks Stores': '446'}, {'State': 'Ohio', 'Year': 2024, 'Starbucks Stores': '499'}, {'State': 'Virginia', 'Year': 2023, 'Starbucks Stores': '489'}, {'State': 'Virginia', 'Year': 2021, 'Starbucks Stores': '456'}, {'State': 'Virginia', 'Year': 2024, 'Starbucks Stores': '510'}, {'State': 'Oregon', 'Year': 2023, 'Starbucks Stores': '359'}, {'State': 'Oregon', 'Year': 2021, 'Starbucks Stores': '345'}, {'State': 'Oregon', 'Year': 2024, 'Starbucks Stores': ''}, {'State': 'Pennsylvania', 'Year': 2023, 'Starbucks Stores': '357'}, {'State': 'Pennsylvania', 'Year': 2021, 'Starbucks Stores': '406'}, {'State': 'Pennsylvania', 'Year': 2024, 'Starbucks Stores': ''}, {'State': 'North Carolina', 'Year': 2023, 'Starbucks Stores': '338'}, {'State': 'North Carolina', 'Year': 2021, 'Starbucks Stores': '422'}, {'State': 'North Carolina', 'Year': 2024, 'Starbucks Stores': ''}, {'State': 'Georgia', 'Year': 2023, 'Starbucks Stores': '326'}, {'State': 'Georgia', 'Year': 2021, 'Starbucks Stores': '379'}, {'State': 'Georgia', 'Year': 2024, 'Starbucks Stores': ''}, {'State': 'Michigan', 'Year': 2023, 'Starbucks Stores': '283'}, {'State': 'Michigan', 'Year': 2021, 'Starbucks Stores': '310'}, {'State': 'Michigan', 'Year': 2024, 'Starbucks Stores': ''}, {'State': 'Massachusetts', 'Year': 2023, 'Starbucks Stores': '273'}, {'State': 'Massachusetts', 'Year': 2021, 'Starbucks Stores': '279'}, {'State': 'Massachusetts', 'Year': 2024, 'Starbucks Stores': ''}, {'State': 'New Jersey', 'Year': 2023, 'Starbucks Stores': '261'}, {'State': 'New Jersey', 'Year': 2021, 'Starbucks Stores': '293'}, {'State': 'New Jersey', 'Year': 2024, 'Starbucks Stores': ''}, {'State': 'Maryland', 'Year': 2023, 'Starbucks Stores': '257'}, {'State': 'Maryland', 'Year': 2021, 'Starbucks Stores': '274'}, {'State': 'Maryland', 'Year': 2024, 'Starbucks Stores': ''}, {'State': 'Nevada', 'Year': 2023, 'Starbucks Stores': '253'}, {'State': 'Nevada', 'Year': 2021, 'Starbucks Stores': '269'}, {'State': 'Nevada', 'Year': 2024, 'Starbucks Stores': ''}, {'State': 'Indiana', 'Year': 2023, 'Starbucks Stores': '221'}, {'State': 'Indiana', 'Year': 2021, 'Starbucks Stores': '265'}, {'State': 'Indiana', 'Year': 2024, 'Starbucks Stores': ''}, {'State': 'Missouri', 'Year': 2023, 'Starbucks Stores': '188'}, {'State': 'Missouri', 'Year': 2021, 'Starbucks Stores': '208'}, {'State': 'Missouri', 'Year': 2024, 'Starbucks Stores': ''}, {'State': 'Minnesota', 'Year': 2023, 'Starbucks Stores': '184'}, {'State': 'Minnesota', 'Year': 2021, 'Starbucks Stores': '212'}, {'State': 'Minnesota', 'Year': 2024, 'Starbucks Stores': ''}, {'State': 'Tennessee', 'Year': 2023, 'Starbucks Stores': '180'}, {'State': 'Tennessee', 'Year': 2021, 'Starbucks Stores': '237'}, {'State': 'Tennessee', 'Year': 2024, 'Starbucks Stores': ''}, {'State': 'Kentucky', 'Year': 2023, 'Starbucks Stores': '166'}, {'State': 'Kentucky', 'Year': 2021, 'Starbucks Stores': '131'}, {'State': 'Kentucky', 'Year': 2024, 'Starbucks Stores': ''}, {'State': 'Wisconsin', 'Year': 2023, 'Starbucks Stores': '145'}, {'State': 'Wisconsin', 'Year': 2021, 'Starbucks Stores': '176'}, {'State': 'Wisconsin', 'Year': 2024, 'Starbucks Stores': ''}, {'State': 'South Carolina', 'Year': 2023, 'Starbucks Stores': '131'}, {'State': 'South Carolina', 'Year': 2021, 'Starbucks Stores': '207'}, {'State': 'South Carolina', 'Year': 2024, 'Starbucks Stores': ''}, {'State': 'Connecticut', 'Year': 2023, 'Starbucks Stores': '123'}, {'State': 'Connecticut', 'Year': 2021, 'Starbucks Stores': '125'}, {'State': 'Connecticut', 'Year': 2024, 'Starbucks Stores': ''}, {'State': 'Utah', 'Year': 2023, 'Starbucks Stores': '101'}, {'State': 'Utah', 'Year': 2021, 'Starbucks Stores': '126'}, {'State': 'Utah', 'Year': 2024, 'Starbucks Stores': ''}, {'State': 'Hawaii', 'Year': 2023, 'Starbucks Stores': '99'}, {'State': 'Hawaii', 'Year': 2021, 'Starbucks Stores': '105'}, {'State': 'Hawaii', 'Year': 2024, 'Starbucks Stores': ''}, {'State': 'Kansas', 'Year': 2023, 'Starbucks Stores': '94'}, {'State': 'Kansas', 'Year': 2021, 'Starbucks Stores': '120'}, {'State': 'Kansas', 'Year': 2024, 'Starbucks Stores': ''}, {'State': 'District of Columbia', 'Year': 2023, 'Starbucks Stores': '91'}, {'State': 'District of Columbia', 'Year': 2021, 'Starbucks Stores': ''}, {'State': 'District of Columbia', 'Year': 2024, 'Starbucks Stores': ''}, {'State': 'Iowa', 'Year': 2023, 'Starbucks Stores': '89'}, {'State': 'Iowa', 'Year': 2021, 'Starbucks Stores': '142'}, {'State': 'Iowa', 'Year': 2024, 'Starbucks Stores': ''}, {'State': 'Alabama', 'Year': 2023, 'Starbucks Stores': '85'}, {'State': 'Alabama', 'Year': 2021, 'Starbucks Stores': '99'}, {'State': 'Alabama', 'Year': 2024, 'Starbucks Stores': ''}, {'State': 'Louisiana', 'Year': 2023, 'Starbucks Stores': '84'}, {'State': 'Louisiana', 'Year': 2021, 'Starbucks Stores': '10'}, {'State': 'Louisiana', 'Year': 2024, 'Starbucks Stores': ''}, {'State': 'Oklahoma', 'Year': 2023, 'Starbucks Stores': '79'}, {'State': 'Oklahoma', 'Year': 2021, 'Starbucks Stores': '94'}, {'State': 'Oklahoma', 'Year': 2024, 'Starbucks Stores': ''}, {'State': 'New Mexico', 'Year': 2023, 'Starbucks Stores': '76'}, {'State': 'New Mexico', 'Year': 2021, 'Starbucks Stores': '92'}, {'State': 'New Mexico', 'Year': 2024, 'Starbucks Stores': ''}, {'State': 'Idaho', 'Year': 2023, 'Starbucks Stores': '67'}, {'State': 'Idaho', 'Year': 2021, 'Starbucks Stores': '78'}, {'State': 'Idaho', 'Year': 2024, 'Starbucks Stores': ''}, {'State': 'Nebraska', 'Year': 2023, 'Starbucks Stores': '58'}, {'State': 'Nebraska', 'Year': 2021, 'Starbucks Stores': '87'}, {'State': 'Nebraska', 'Year': 2024, 'Starbucks Stores': ''}, {'State': 'Arkansas', 'Year': 2023, 'Starbucks Stores': '55'}, {'State': 'Arkansas', 'Year': 2021, 'Starbucks Stores': '66'}, {'State': 'Arkansas', 'Year': 2024, 'Starbucks Stores': ''}, {'State': 'Alaska', 'Year': 2023, 'Starbucks Stores': '49'}, {'State': 'Alaska', 'Year': 2021, 'Starbucks Stores': '49'}, {'State': 'Alaska', 'Year': 2024, 'Starbucks Stores': ''}, {'State': 'Mississippi', 'Year': 2023, 'Starbucks Stores': '32'}, {'State': 'Mississippi', 'Year': 2021, 'Starbucks Stores': '36'}, {'State': 'Mississippi', 'Year': 2024, 'Starbucks Stores': ''}, {'State': 'Montana', 'Year': 2023, 'Starbucks Stores': '32'}, {'State': 'Montana', 'Year': 2021, 'Starbucks Stores': '45'}, {'State': 'Montana', 'Year': 2024, 'Starbucks Stores': ''}, {'State': 'Maine', 'Year': 2023, 'Starbucks Stores': '30'}, {'State': 'Maine', 'Year': 2021, 'Starbucks Stores': '31'}, {'State': 'Maine', 'Year': 2024, 'Starbucks Stores': ''}, {'State': 'New Hampshire', 'Year': 2023, 'Starbucks Stores': '29'}, {'State': 'New Hampshire', 'Year': 2021, 'Starbucks Stores': '35'}, {'State': 'New Hampshire', 'Year': 2024, 'Starbucks Stores': ''}, {'State': 'Rhode Island', 'Year': 2023, 'Starbucks Stores': '27'}, {'State': 'Rhode Island', 'Year': 2021, 'Starbucks Stores': '26'}, {'State': 'Rhode Island', 'Year': 2024, 'Starbucks Stores': ''}, {'State': 'Delaware', 'Year': 2023, 'Starbucks Stores': '25'}, {'State': 'Delaware', 'Year': 2021, 'Starbucks Stores': '39'}, {'State': 'Delaware', 'Year': 2024, 'Starbucks Stores': ''}, {'State': 'South Dakota', 'Year': 2023, 'Starbucks Stores': '25'}, {'State': 'South Dakota', 'Year': 2021, 'Starbucks Stores': '52'}, {'State': 'South Dakota', 'Year': 2024, 'Starbucks Stores': ''}, {'State': 'West Virginia', 'Year': 2023, 'Starbucks Stores': '25'}, {'State': 'West Virginia', 'Year': 2021, 'Starbucks Stores': '64'}, {'State': 'West Virginia', 'Year': 2024, 'Starbucks Stores': ''}, {'State': 'Wyoming', 'Year': 2023, 'Starbucks Stores': '23'}, {'State': 'Wyoming', 'Year': 2021, 'Starbucks Stores': '26'}, {'State': 'Wyoming', 'Year': 2024, 'Starbucks Stores': ''}, {'State': 'North Dakota', 'Year': 2023, 'Starbucks Stores': '13'}, {'State': 'North Dakota', 'Year': 2021, 'Starbucks Stores': '20'}, {'State': 'North Dakota', 'Year': 2024, 'Starbucks Stores': ''}, {'State': 'Vermont', 'Year': 2023, 'Starbucks Stores': '8'}, {'State': 'Vermont', 'Year': 2021, 'Starbucks Stores': '35'}, {'State': 'Vermont', 'Year': 2024, 'Starbucks Stores': ''}]\n",
      "            State  Year Starbucks Stores\n",
      "0      California  2023            3,080\n",
      "1      California  2021            2,959\n",
      "2      California  2024            3,117\n",
      "3           Texas  2023            1,346\n",
      "4           Texas  2021            1,215\n",
      "..            ...   ...              ...\n",
      "148  North Dakota  2021               20\n",
      "149  North Dakota  2024                 \n",
      "150       Vermont  2023                8\n",
      "151       Vermont  2021               35\n",
      "152       Vermont  2024                 \n",
      "\n",
      "[153 rows x 3 columns]\n"
     ]
    }
   ],
   "source": [
    "starbucks_rows = []\n",
    "states_list = []\n",
    "\n",
    "for th in starbucks_tables.find_all(\"th\")[4:]:\n",
    "    states = th.get_text(strip = True)\n",
    "    states_list.append(states)\n",
    "\n",
    "for i, tr in enumerate(starbucks_tables.find_all(\"tr\")[1:]):\n",
    "    state = states_list[i]\n",
    "\n",
    "    cells = tr.find_all(\"td\")\n",
    "    \n",
    "    #stores2023_tag = cells[0].find(\"a\") or cells[0]\n",
    "    #stores2023 = stores2023_tag.get_text(strip = True)\n",
    "\n",
    "    #stores2021_tag = cells[0].find(\"a\") or cells[1]\n",
    "    #stores2021 = stores2021_tag.get_text(strip = True)\n",
    "\n",
    "    #stores2024_tag = cells[0].find(\"a\") or cells[2]\n",
    "    #stores2024 = stores2024_tag.get_text(strip = True)\n",
    "    stores2023 = cells[0].get_text(strip=True)\n",
    "    stores2021 = cells[1].get_text(strip=True)\n",
    "    stores2024 = cells[2].get_text(strip=True)\n",
    "\n",
    "    # Append this data.\n",
    "    #starbucks_rows.append({\n",
    "        #\"state\": state,\n",
    "        #\"2023 Stores\": stores2023,\n",
    "        #\"2021 Stores\": stores2021,\n",
    "        #\"2024 Stores\": stores2024\n",
    "    #})\n",
    "#for i, state in enumerate(states_list):\n",
    "    starbucks_rows.append({\n",
    "        \"State\": state,\n",
    "        \"Year\": 2023,\n",
    "        \"Starbucks Stores\": stores2023\n",
    "    })\n",
    "    starbucks_rows.append({\n",
    "        \"State\": state,\n",
    "        \"Year\": 2021,\n",
    "        \"Starbucks Stores\": stores2021\n",
    "    })\n",
    "    starbucks_rows.append({\n",
    "        \"State\": state,\n",
    "        \"Year\": 2024,\n",
    "        \"Starbucks Stores\": stores2024\n",
    "    })\n",
    "\n",
    "print(starbucks_rows)\n",
    "df = pd.DataFrame(starbucks_rows)\n",
    "print(df)"
   ]
  },
  {
   "cell_type": "code",
   "execution_count": 19,
   "metadata": {},
   "outputs": [],
   "source": [
    "#dunkin\n",
    "dunkin_response = requests.get(\"https://worldpopulationreview.com/state-rankings/dunkin-donuts-by-state\")\n",
    "dunkin_soup = BeautifulSoup(dunkin_response.content, \"html.parser\")\n",
    "dunkin_table = dunkin_soup.find(\"table\", class_ = \"wpr-table\")"
   ]
  },
  {
   "cell_type": "code",
   "execution_count": 20,
   "metadata": {},
   "outputs": [
    {
     "name": "stdout",
     "output_type": "stream",
     "text": [
      "[{'State': 'New York', 'Year': 2024, 'Dunkin Stores': '1,431'}, {'State': 'New York', 'Year': 2023, 'Dunkin Stores': '1,414'}, {'State': 'Massachusetts', 'Year': 2024, 'Dunkin Stores': '1,042'}, {'State': 'Massachusetts', 'Year': 2023, 'Dunkin Stores': '1,068'}, {'State': 'Florida', 'Year': 2024, 'Dunkin Stores': '909'}, {'State': 'Florida', 'Year': 2023, 'Dunkin Stores': '883'}, {'State': 'New Jersey', 'Year': 2024, 'Dunkin Stores': '872'}, {'State': 'New Jersey', 'Year': 2023, 'Dunkin Stores': '866'}, {'State': 'Illinois', 'Year': 2024, 'Dunkin Stores': '711'}, {'State': 'Illinois', 'Year': 2023, 'Dunkin Stores': '692'}, {'State': 'Pennsylvania', 'Year': 2024, 'Dunkin Stores': '650'}, {'State': 'Pennsylvania', 'Year': 2023, 'Dunkin Stores': '629'}, {'State': 'Connecticut', 'Year': 2024, 'Dunkin Stores': '476'}, {'State': 'Connecticut', 'Year': 2023, 'Dunkin Stores': '480'}, {'State': 'Maryland', 'Year': 2024, 'Dunkin Stores': '311'}, {'State': 'Maryland', 'Year': 2023, 'Dunkin Stores': '303'}, {'State': 'Georgia', 'Year': 2024, 'Dunkin Stores': '287'}, {'State': 'Georgia', 'Year': 2023, 'Dunkin Stores': '265'}, {'State': 'Ohio', 'Year': 2024, 'Dunkin Stores': '261'}, {'State': 'Ohio', 'Year': 2023, 'Dunkin Stores': '245'}, {'State': 'Virginia', 'Year': 2024, 'Dunkin Stores': '244'}, {'State': 'Virginia', 'Year': 2023, 'Dunkin Stores': '230'}, {'State': 'Texas', 'Year': 2024, 'Dunkin Stores': '226'}, {'State': 'Texas', 'Year': 2023, 'Dunkin Stores': '196'}, {'State': 'North Carolina', 'Year': 2024, 'Dunkin Stores': '224'}, {'State': 'North Carolina', 'Year': 2023, 'Dunkin Stores': '206'}, {'State': 'New Hampshire', 'Year': 2024, 'Dunkin Stores': '216'}, {'State': 'New Hampshire', 'Year': 2023, 'Dunkin Stores': '218'}, {'State': 'Maine', 'Year': 2024, 'Dunkin Stores': '164'}, {'State': 'Maine', 'Year': 2023, 'Dunkin Stores': '159'}, {'State': 'Rhode Island', 'Year': 2024, 'Dunkin Stores': '159'}, {'State': 'Rhode Island', 'Year': 2023, 'Dunkin Stores': '160'}, {'State': 'California', 'Year': 2024, 'Dunkin Stores': '143'}, {'State': 'California', 'Year': 2023, 'Dunkin Stores': '134'}, {'State': 'Tennessee', 'Year': 2024, 'Dunkin Stores': '137'}, {'State': 'Tennessee', 'Year': 2023, 'Dunkin Stores': '123'}, {'State': 'Indiana', 'Year': 2024, 'Dunkin Stores': '117'}, {'State': 'Indiana', 'Year': 2023, 'Dunkin Stores': '104'}, {'State': 'South Carolina', 'Year': 2024, 'Dunkin Stores': '116'}, {'State': 'South Carolina', 'Year': 2023, 'Dunkin Stores': '103'}, {'State': 'Michigan', 'Year': 2024, 'Dunkin Stores': '112'}, {'State': 'Michigan', 'Year': 2023, 'Dunkin Stores': '105'}, {'State': 'Arizona', 'Year': 2024, 'Dunkin Stores': '110'}, {'State': 'Arizona', 'Year': 2023, 'Dunkin Stores': '102'}, {'State': 'Wisconsin', 'Year': 2024, 'Dunkin Stores': '100'}, {'State': 'Wisconsin', 'Year': 2023, 'Dunkin Stores': '83'}, {'State': 'Alabama', 'Year': 2024, 'Dunkin Stores': '69'}, {'State': 'Alabama', 'Year': 2023, 'Dunkin Stores': '59'}, {'State': 'Delaware', 'Year': 2024, 'Dunkin Stores': '67'}, {'State': 'Delaware', 'Year': 2023, 'Dunkin Stores': '66'}, {'State': 'Missouri', 'Year': 2024, 'Dunkin Stores': '54'}, {'State': 'Missouri', 'Year': 2023, 'Dunkin Stores': '50'}, {'State': 'Kentucky', 'Year': 2024, 'Dunkin Stores': '50'}, {'State': 'Kentucky', 'Year': 2023, 'Dunkin Stores': '41'}, {'State': 'Vermont', 'Year': 2024, 'Dunkin Stores': '50'}, {'State': 'Vermont', 'Year': 2023, 'Dunkin Stores': '49'}, {'State': 'Colorado', 'Year': 2024, 'Dunkin Stores': '48'}, {'State': 'Colorado', 'Year': 2023, 'Dunkin Stores': '43'}, {'State': 'Nevada', 'Year': 2024, 'Dunkin Stores': '42'}, {'State': 'Nevada', 'Year': 2023, 'Dunkin Stores': '38'}, {'State': 'Minnesota', 'Year': 2024, 'Dunkin Stores': '38'}, {'State': 'Minnesota', 'Year': 2023, 'Dunkin Stores': '34'}, {'State': 'Iowa', 'Year': 2024, 'Dunkin Stores': '36'}, {'State': 'Iowa', 'Year': 2023, 'Dunkin Stores': '34'}, {'State': 'West Virginia', 'Year': 2024, 'Dunkin Stores': '31'}, {'State': 'West Virginia', 'Year': 2023, 'Dunkin Stores': '27'}, {'State': 'Kansas', 'Year': 2024, 'Dunkin Stores': '26'}, {'State': 'Kansas', 'Year': 2023, 'Dunkin Stores': '28'}, {'State': 'Nebraska', 'Year': 2024, 'Dunkin Stores': '24'}, {'State': 'Nebraska', 'Year': 2023, 'Dunkin Stores': '23'}, {'State': 'Oklahoma', 'Year': 2024, 'Dunkin Stores': '23'}, {'State': 'Oklahoma', 'Year': 2023, 'Dunkin Stores': '18'}, {'State': 'District of Columbia', 'Year': 2024, 'Dunkin Stores': '19'}, {'State': 'District of Columbia', 'Year': 2023, 'Dunkin Stores': ''}, {'State': 'New Mexico', 'Year': 2024, 'Dunkin Stores': '19'}, {'State': 'New Mexico', 'Year': 2023, 'Dunkin Stores': '19'}, {'State': 'Louisiana', 'Year': 2024, 'Dunkin Stores': '15'}, {'State': 'Louisiana', 'Year': 2023, 'Dunkin Stores': '16'}, {'State': 'Arkansas', 'Year': 2024, 'Dunkin Stores': '14'}, {'State': 'Arkansas', 'Year': 2023, 'Dunkin Stores': '9'}, {'State': 'Mississippi', 'Year': 2024, 'Dunkin Stores': '14'}, {'State': 'Mississippi', 'Year': 2023, 'Dunkin Stores': '12'}, {'State': 'Hawaii', 'Year': 2024, 'Dunkin Stores': '6'}, {'State': 'Hawaii', 'Year': 2023, 'Dunkin Stores': '6'}, {'State': 'Utah', 'Year': 2024, 'Dunkin Stores': '2'}, {'State': 'Utah', 'Year': 2023, 'Dunkin Stores': '1'}, {'State': 'Wyoming', 'Year': 2024, 'Dunkin Stores': '1'}, {'State': 'Wyoming', 'Year': 2023, 'Dunkin Stores': '1'}, {'State': 'Alaska', 'Year': 2024, 'Dunkin Stores': '0'}, {'State': 'Alaska', 'Year': 2023, 'Dunkin Stores': '0'}, {'State': 'Idaho', 'Year': 2024, 'Dunkin Stores': '0'}, {'State': 'Idaho', 'Year': 2023, 'Dunkin Stores': '0'}, {'State': 'Montana', 'Year': 2024, 'Dunkin Stores': '0'}, {'State': 'Montana', 'Year': 2023, 'Dunkin Stores': '0'}, {'State': 'North Dakota', 'Year': 2024, 'Dunkin Stores': '0'}, {'State': 'North Dakota', 'Year': 2023, 'Dunkin Stores': '0'}, {'State': 'Oregon', 'Year': 2024, 'Dunkin Stores': '0'}, {'State': 'Oregon', 'Year': 2023, 'Dunkin Stores': '0'}, {'State': 'South Dakota', 'Year': 2024, 'Dunkin Stores': '0'}, {'State': 'South Dakota', 'Year': 2023, 'Dunkin Stores': '0'}, {'State': 'Washington', 'Year': 2024, 'Dunkin Stores': '0'}, {'State': 'Washington', 'Year': 2023, 'Dunkin Stores': '19'}]\n",
      "             State  Year Dunkin Stores\n",
      "0         New York  2024         1,431\n",
      "1         New York  2023         1,414\n",
      "2    Massachusetts  2024         1,042\n",
      "3    Massachusetts  2023         1,068\n",
      "4          Florida  2024           909\n",
      "..             ...   ...           ...\n",
      "97          Oregon  2023             0\n",
      "98    South Dakota  2024             0\n",
      "99    South Dakota  2023             0\n",
      "100     Washington  2024             0\n",
      "101     Washington  2023            19\n",
      "\n",
      "[102 rows x 3 columns]\n",
      "[{'State': 'New York', 'Year': 2024, 'Dunkin Stores': '1,431'}, {'State': 'New York', 'Year': 2023, 'Dunkin Stores': '1,414'}, {'State': 'Massachusetts', 'Year': 2024, 'Dunkin Stores': '1,042'}, {'State': 'Massachusetts', 'Year': 2023, 'Dunkin Stores': '1,068'}, {'State': 'Florida', 'Year': 2024, 'Dunkin Stores': '909'}, {'State': 'Florida', 'Year': 2023, 'Dunkin Stores': '883'}, {'State': 'New Jersey', 'Year': 2024, 'Dunkin Stores': '872'}, {'State': 'New Jersey', 'Year': 2023, 'Dunkin Stores': '866'}, {'State': 'Illinois', 'Year': 2024, 'Dunkin Stores': '711'}, {'State': 'Illinois', 'Year': 2023, 'Dunkin Stores': '692'}, {'State': 'Pennsylvania', 'Year': 2024, 'Dunkin Stores': '650'}, {'State': 'Pennsylvania', 'Year': 2023, 'Dunkin Stores': '629'}, {'State': 'Connecticut', 'Year': 2024, 'Dunkin Stores': '476'}, {'State': 'Connecticut', 'Year': 2023, 'Dunkin Stores': '480'}, {'State': 'Maryland', 'Year': 2024, 'Dunkin Stores': '311'}, {'State': 'Maryland', 'Year': 2023, 'Dunkin Stores': '303'}, {'State': 'Georgia', 'Year': 2024, 'Dunkin Stores': '287'}, {'State': 'Georgia', 'Year': 2023, 'Dunkin Stores': '265'}, {'State': 'Ohio', 'Year': 2024, 'Dunkin Stores': '261'}, {'State': 'Ohio', 'Year': 2023, 'Dunkin Stores': '245'}, {'State': 'Virginia', 'Year': 2024, 'Dunkin Stores': '244'}, {'State': 'Virginia', 'Year': 2023, 'Dunkin Stores': '230'}, {'State': 'Texas', 'Year': 2024, 'Dunkin Stores': '226'}, {'State': 'Texas', 'Year': 2023, 'Dunkin Stores': '196'}, {'State': 'North Carolina', 'Year': 2024, 'Dunkin Stores': '224'}, {'State': 'North Carolina', 'Year': 2023, 'Dunkin Stores': '206'}, {'State': 'New Hampshire', 'Year': 2024, 'Dunkin Stores': '216'}, {'State': 'New Hampshire', 'Year': 2023, 'Dunkin Stores': '218'}, {'State': 'Maine', 'Year': 2024, 'Dunkin Stores': '164'}, {'State': 'Maine', 'Year': 2023, 'Dunkin Stores': '159'}, {'State': 'Rhode Island', 'Year': 2024, 'Dunkin Stores': '159'}, {'State': 'Rhode Island', 'Year': 2023, 'Dunkin Stores': '160'}, {'State': 'California', 'Year': 2024, 'Dunkin Stores': '143'}, {'State': 'California', 'Year': 2023, 'Dunkin Stores': '134'}, {'State': 'Tennessee', 'Year': 2024, 'Dunkin Stores': '137'}, {'State': 'Tennessee', 'Year': 2023, 'Dunkin Stores': '123'}, {'State': 'Indiana', 'Year': 2024, 'Dunkin Stores': '117'}, {'State': 'Indiana', 'Year': 2023, 'Dunkin Stores': '104'}, {'State': 'South Carolina', 'Year': 2024, 'Dunkin Stores': '116'}, {'State': 'South Carolina', 'Year': 2023, 'Dunkin Stores': '103'}, {'State': 'Michigan', 'Year': 2024, 'Dunkin Stores': '112'}, {'State': 'Michigan', 'Year': 2023, 'Dunkin Stores': '105'}, {'State': 'Arizona', 'Year': 2024, 'Dunkin Stores': '110'}, {'State': 'Arizona', 'Year': 2023, 'Dunkin Stores': '102'}, {'State': 'Wisconsin', 'Year': 2024, 'Dunkin Stores': '100'}, {'State': 'Wisconsin', 'Year': 2023, 'Dunkin Stores': '83'}, {'State': 'Alabama', 'Year': 2024, 'Dunkin Stores': '69'}, {'State': 'Alabama', 'Year': 2023, 'Dunkin Stores': '59'}, {'State': 'Delaware', 'Year': 2024, 'Dunkin Stores': '67'}, {'State': 'Delaware', 'Year': 2023, 'Dunkin Stores': '66'}, {'State': 'Missouri', 'Year': 2024, 'Dunkin Stores': '54'}, {'State': 'Missouri', 'Year': 2023, 'Dunkin Stores': '50'}, {'State': 'Kentucky', 'Year': 2024, 'Dunkin Stores': '50'}, {'State': 'Kentucky', 'Year': 2023, 'Dunkin Stores': '41'}, {'State': 'Vermont', 'Year': 2024, 'Dunkin Stores': '50'}, {'State': 'Vermont', 'Year': 2023, 'Dunkin Stores': '49'}, {'State': 'Colorado', 'Year': 2024, 'Dunkin Stores': '48'}, {'State': 'Colorado', 'Year': 2023, 'Dunkin Stores': '43'}, {'State': 'Nevada', 'Year': 2024, 'Dunkin Stores': '42'}, {'State': 'Nevada', 'Year': 2023, 'Dunkin Stores': '38'}, {'State': 'Minnesota', 'Year': 2024, 'Dunkin Stores': '38'}, {'State': 'Minnesota', 'Year': 2023, 'Dunkin Stores': '34'}, {'State': 'Iowa', 'Year': 2024, 'Dunkin Stores': '36'}, {'State': 'Iowa', 'Year': 2023, 'Dunkin Stores': '34'}, {'State': 'West Virginia', 'Year': 2024, 'Dunkin Stores': '31'}, {'State': 'West Virginia', 'Year': 2023, 'Dunkin Stores': '27'}, {'State': 'Kansas', 'Year': 2024, 'Dunkin Stores': '26'}, {'State': 'Kansas', 'Year': 2023, 'Dunkin Stores': '28'}, {'State': 'Nebraska', 'Year': 2024, 'Dunkin Stores': '24'}, {'State': 'Nebraska', 'Year': 2023, 'Dunkin Stores': '23'}, {'State': 'Oklahoma', 'Year': 2024, 'Dunkin Stores': '23'}, {'State': 'Oklahoma', 'Year': 2023, 'Dunkin Stores': '18'}, {'State': 'District of Columbia', 'Year': 2024, 'Dunkin Stores': '19'}, {'State': 'District of Columbia', 'Year': 2023, 'Dunkin Stores': ''}, {'State': 'New Mexico', 'Year': 2024, 'Dunkin Stores': '19'}, {'State': 'New Mexico', 'Year': 2023, 'Dunkin Stores': '19'}, {'State': 'Louisiana', 'Year': 2024, 'Dunkin Stores': '15'}, {'State': 'Louisiana', 'Year': 2023, 'Dunkin Stores': '16'}, {'State': 'Arkansas', 'Year': 2024, 'Dunkin Stores': '14'}, {'State': 'Arkansas', 'Year': 2023, 'Dunkin Stores': '9'}, {'State': 'Mississippi', 'Year': 2024, 'Dunkin Stores': '14'}, {'State': 'Mississippi', 'Year': 2023, 'Dunkin Stores': '12'}, {'State': 'Hawaii', 'Year': 2024, 'Dunkin Stores': '6'}, {'State': 'Hawaii', 'Year': 2023, 'Dunkin Stores': '6'}, {'State': 'Utah', 'Year': 2024, 'Dunkin Stores': '2'}, {'State': 'Utah', 'Year': 2023, 'Dunkin Stores': '1'}, {'State': 'Wyoming', 'Year': 2024, 'Dunkin Stores': '1'}, {'State': 'Wyoming', 'Year': 2023, 'Dunkin Stores': '1'}, {'State': 'Alaska', 'Year': 2024, 'Dunkin Stores': '0'}, {'State': 'Alaska', 'Year': 2023, 'Dunkin Stores': '0'}, {'State': 'Idaho', 'Year': 2024, 'Dunkin Stores': '0'}, {'State': 'Idaho', 'Year': 2023, 'Dunkin Stores': '0'}, {'State': 'Montana', 'Year': 2024, 'Dunkin Stores': '0'}, {'State': 'Montana', 'Year': 2023, 'Dunkin Stores': '0'}, {'State': 'North Dakota', 'Year': 2024, 'Dunkin Stores': '0'}, {'State': 'North Dakota', 'Year': 2023, 'Dunkin Stores': '0'}, {'State': 'Oregon', 'Year': 2024, 'Dunkin Stores': '0'}, {'State': 'Oregon', 'Year': 2023, 'Dunkin Stores': '0'}, {'State': 'South Dakota', 'Year': 2024, 'Dunkin Stores': '0'}, {'State': 'South Dakota', 'Year': 2023, 'Dunkin Stores': '0'}, {'State': 'Washington', 'Year': 2024, 'Dunkin Stores': '0'}, {'State': 'Washington', 'Year': 2023, 'Dunkin Stores': '19'}]\n",
      "             State  Year Dunkin Stores\n",
      "0         New York  2024         1,431\n",
      "1         New York  2023         1,414\n",
      "2    Massachusetts  2024         1,042\n",
      "3    Massachusetts  2023         1,068\n",
      "4          Florida  2024           909\n",
      "..             ...   ...           ...\n",
      "97          Oregon  2023             0\n",
      "98    South Dakota  2024             0\n",
      "99    South Dakota  2023             0\n",
      "100     Washington  2024             0\n",
      "101     Washington  2023            19\n",
      "\n",
      "[102 rows x 3 columns]\n"
     ]
    }
   ],
   "source": [
    "dunkin_rows = []\n",
    "states_list = []\n",
    "\n",
    "for th in dunkin_table.find_all(\"th\")[3:]:\n",
    "    states = th.get_text(strip = True)\n",
    "    states_list.append(states)\n",
    "\n",
    "for i, tr in enumerate(dunkin_table.find_all(\"tr\")[1:]):\n",
    "    state = states_list[i]\n",
    "\n",
    "    cells = tr.find_all(\"td\")\n",
    "    \n",
    "    #dunkin_stores2024_tag = cells[0].find(\"a\") or cells[0]\n",
    "    #dunkin_stores2024 = dunkin_stores2024_tag.get_text(strip = True)\n",
    "\n",
    "    #dunkin_stores2023_tag = cells[0].find(\"a\") or cells[1]\n",
    "    #dunkin_stores2023 = dunkin_stores2023_tag.get_text(strip = True)\n",
    "\n",
    "    dunkin_stores2024 = cells[0].get_text(strip=True)\n",
    "    dunkin_stores2023 = cells[1].get_text(strip=True)\n",
    "\n",
    "\n",
    "    # Append this data.\n",
    "    #dunkin_rows.append({\n",
    "        #\"state\": state,\n",
    "        #\"2024 Stores\": dunkin_stores2024,\n",
    "        #\"2023 Stores\": dunkin_stores2023\n",
    "    #})\n",
    "#for i, state in enumerate(states_list):\n",
    "    dunkin_rows.append({\n",
    "        \"State\": state,\n",
    "        \"Year\": 2024,\n",
    "        \"Dunkin Stores\": dunkin_stores2024\n",
    "    })\n",
    "    dunkin_rows.append({\n",
    "        \"State\": state,\n",
    "        \"Year\": 2023,\n",
    "        \"Dunkin Stores\": dunkin_stores2023\n",
    "    })\n",
    "print(dunkin_rows)\n",
    "df = pd.DataFrame(dunkin_rows)\n",
    "print(df)"
   ]
  },
  {
   "cell_type": "markdown",
   "metadata": {},
   "source": [
    "### 2. Parse, merge and tidy your data. Think carefully about what the tidy version of this dataset is with multiple years represented on the website."
   ]
  },
  {
   "cell_type": "code",
   "execution_count": 22,
   "metadata": {},
   "outputs": [
    {
     "name": "stdout",
     "output_type": "stream",
     "text": [
      "         State  Year Dunkin Stores Starbucks Stores\n",
      "0      Alabama  2021           NaN               99\n",
      "1      Alabama  2023            59               85\n",
      "2      Alabama  2024            69                 \n",
      "3       Alaska  2021           NaN               49\n",
      "4       Alaska  2023             0               49\n",
      "..         ...   ...           ...              ...\n",
      "148  Wisconsin  2023            83              145\n",
      "149  Wisconsin  2024           100                 \n",
      "150    Wyoming  2021           NaN               26\n",
      "151    Wyoming  2023             1               23\n",
      "152    Wyoming  2024             1                 \n",
      "\n",
      "[153 rows x 4 columns]\n",
      "         State  Year Dunkin Stores Starbucks Stores\n",
      "0      Alabama  2021           NaN               99\n",
      "1      Alabama  2023            59               85\n",
      "2      Alabama  2024            69                 \n",
      "3       Alaska  2021           NaN               49\n",
      "4       Alaska  2023             0               49\n",
      "..         ...   ...           ...              ...\n",
      "148  Wisconsin  2023            83              145\n",
      "149  Wisconsin  2024           100                 \n",
      "150    Wyoming  2021           NaN               26\n",
      "151    Wyoming  2023             1               23\n",
      "152    Wyoming  2024             1                 \n",
      "\n",
      "[153 rows x 4 columns]\n"
     ]
    }
   ],
   "source": [
    "#dunkin_rows = []\n",
    "#starbucks_rows = []\n",
    "\n",
    "#for i, state in enumerate(states_list):\n",
    "    #dunkin_rows.append({\n",
    "        #\"State\": state,\n",
    "        #\"Year\": 2024,\n",
    "        #\"Dunkin Stores\": dunkin_stores2024\n",
    "    #})\n",
    "    #dunkin_rows.append({\n",
    "        #\"State\": state,\n",
    "        #\"Year\": 2023,\n",
    "        #\"Dunkin Stores\": dunkin_stores2023\n",
    "    #})\n",
    "\n",
    "\n",
    "\n",
    "#for i, state in enumerate(states_list):\n",
    "    #starbucks_rows.append({\n",
    "        #\"State\": state,\n",
    "        #\"Year\": 2023,\n",
    "        #\"Starbucks Stores\": stores2023\n",
    "    #})\n",
    "    #starbucks_rows.append({\n",
    "        #\"State\": state,\n",
    "        #\"Year\": 2021,\n",
    "        #\"Starbucks Stores\": stores2021\n",
    "   # })\n",
    "    #starbucks_rows.append({\n",
    "        #\"State\": state,\n",
    "        #\"Year\": 2024,\n",
    "        #\"Starbucks Stores\": stores2024\n",
    "   # })\n",
    "\n",
    "df_dunkin = pd.DataFrame(dunkin_rows)\n",
    "df_starbucks = pd.DataFrame(starbucks_rows)\n",
    "\n",
    "coffee = pd.merge(df_dunkin, df_starbucks, on=[\"State\", \"Year\"], how=\"outer\")\n",
    "print(coffee)\n"
   ]
  },
  {
   "cell_type": "markdown",
   "metadata": {},
   "source": [
    "## Supplemental Data"
   ]
  },
  {
   "cell_type": "markdown",
   "metadata": {},
   "source": [
    "### 4. Scrape the state names and populations from this wikipedia page. Merge these data with your coffee dataset."
   ]
  },
  {
   "cell_type": "code",
   "execution_count": 44,
   "metadata": {},
   "outputs": [
    {
     "name": "stdout",
     "output_type": "stream",
     "text": [
      "         State    Year Dunkin Stores Starbucks Stores Population\n",
      "0      Alabama  2021.0           NaN               99  5,024,279\n",
      "1      Alabama  2023.0            59               85  5,024,279\n",
      "2      Alabama  2024.0            69                   5,024,279\n",
      "3       Alaska  2021.0           NaN               49    733,391\n",
      "4       Alaska  2023.0             0               49    733,391\n",
      "..         ...     ...           ...              ...        ...\n",
      "157  Wisconsin  2023.0            83              145  5,893,718\n",
      "158  Wisconsin  2024.0           100                   5,893,718\n",
      "159    Wyoming  2021.0           NaN               26    576,851\n",
      "160    Wyoming  2023.0             1               23    576,851\n",
      "161    Wyoming  2024.0             1                     576,851\n",
      "\n",
      "[162 rows x 5 columns]\n",
      "         State    Year Dunkin Stores Starbucks Stores Population\n",
      "0      Alabama  2021.0           NaN               99  5,024,279\n",
      "1      Alabama  2023.0            59               85  5,024,279\n",
      "2      Alabama  2024.0            69                   5,024,279\n",
      "3       Alaska  2021.0           NaN               49    733,391\n",
      "4       Alaska  2023.0             0               49    733,391\n",
      "..         ...     ...           ...              ...        ...\n",
      "157  Wisconsin  2023.0            83              145  5,893,718\n",
      "158  Wisconsin  2024.0           100                   5,893,718\n",
      "159    Wyoming  2021.0           NaN               26    576,851\n",
      "160    Wyoming  2023.0             1               23    576,851\n",
      "161    Wyoming  2024.0             1                     576,851\n",
      "\n",
      "[162 rows x 5 columns]\n"
     ]
    }
   ],
   "source": [
    "pop_response = requests.get(\"https://simple.wikipedia.org/wiki/List_of_U.S._states_by_population\")\n",
    "pop_soup = BeautifulSoup(pop_response.content, \"html.parser\")\n",
    "pop_table = pop_soup.find(\"table\", class_ = \"wikitable\")\n",
    "\n",
    "pop_rows = []\n",
    "\n",
    "for tr in pop_table.find_all(\"tr\")[1:]:\n",
    "    cells = tr.find_all('td')\n",
    "    if len(cells) >= 3:\n",
    "        state = cells[2].get_text(strip = True)\n",
    "        population = cells[3].get_text(strip = True)\n",
    "\n",
    "\n",
    "        pop_rows.append({\n",
    "        \"State\": state,\n",
    "        \"Population\": population})\n",
    "\n",
    "pop_df = pd.DataFrame(pop_rows)\n",
    "\n",
    "coffee_new = pd.merge(coffee, pop_df, on=\"State\", how = \"outer\")\n",
    "print(coffee_new)\n"
   ]
  },
  {
   "cell_type": "markdown",
   "metadata": {},
   "source": [
    "### 5. Find the revenue, stock price, or your financial metric of choice for each of the companies listed above (if you can find a website to scrape these from that’s great!…but it’s okay if you manually enter these). Merge these values into your big dataset. Note: these values may be repeated for each state."
   ]
  },
  {
   "cell_type": "code",
   "execution_count": null,
   "metadata": {},
   "outputs": [],
   "source": []
  },
  {
   "cell_type": "markdown",
   "metadata": {},
   "source": [
    "### 6. Create a region variable in your dataset according to the scheme on this wikipedia page: Northeast, Midwest, South, West. You do not need to scrape this information."
   ]
  },
  {
   "cell_type": "code",
   "execution_count": null,
   "metadata": {},
   "outputs": [],
   "source": []
  },
  {
   "cell_type": "markdown",
   "metadata": {},
   "source": [
    "## Analyze"
   ]
  },
  {
   "cell_type": "markdown",
   "metadata": {},
   "source": [
    "### 7. Assess and comment on the prevalence of each chain. Some questions to consider (you don’t need to answer all of these and you may come up with your own):\n",
    "* Are some of these chains more prevalent in certain states than others? Possibly despite having less stores overall? Same questions for regions instead of states.\n",
    "\n",
    "* How does your chosen financial metric change by state and region for each chain? For example, having 5 stores in California is very different from having 5 stores in Wyoming.\n",
    "\n",
    "* Does the distribution of each chain’s stores match population distribution, by both state/region?\n",
    "\n",
    "* Do the financial data match what you’d expect based on the number and locations of the stores? Why or why not?"
   ]
  },
  {
   "cell_type": "code",
   "execution_count": null,
   "metadata": {},
   "outputs": [],
   "source": []
  },
  {
   "cell_type": "markdown",
   "metadata": {},
   "source": [
    "## Automate"
   ]
  },
  {
   "cell_type": "markdown",
   "metadata": {},
   "source": [
    "### Convert your code for Exercises 1-3 above to a function that takes a single argument: the URL. This function should\n",
    "\n",
    "* Scrape the information on state names and corresponding number of store locations on the webpage specified (assume the page has a table in the same form and placement as the ones you scraped above)\n",
    "\n",
    "* Extract the name of the company from either the URL specified or the webpage (assume the URL will have the same format as the ones used above)\n",
    "\n",
    "* Return a clean, organized and tidy dataset. Find a page other than Starbucks and Dunkin’ Donuts to test this on to confirm that it works. It’s fine if this is not related to coffee."
   ]
  },
  {
   "cell_type": "code",
   "execution_count": null,
   "metadata": {},
   "outputs": [],
   "source": []
  }
 ],
 "metadata": {
  "language_info": {
   "name": "python"
  }
 },
 "nbformat": 4,
 "nbformat_minor": 2
}
