{
 "cells": [
  {
   "cell_type": "code",
   "execution_count": 5,
   "metadata": {},
   "outputs": [
    {
     "name": "stdout",
     "output_type": "stream",
     "text": [
      "100 bottles of beer on the wall\n",
      "100 bottles of beer\n",
      " take one down, pass it around,\n",
      "99 bottles of beer on the wall\n",
      "99 bottles of beer on the wall\n",
      "99 bottles of beer\n",
      " take one down, pass it around,\n",
      "98 bottles of beer on the wall\n",
      "98 bottles of beer on the wall\n",
      "98 bottles of beer\n",
      " take one down, pass it around,\n",
      "97 bottles of beer on the wall\n",
      "100 bottles of beer on the wall\n",
      "100 bottles of beer\n",
      " take one down, pass it around,\n",
      "99 bottles of beer on the wall\n",
      "99 bottles of beer on the wall\n",
      "99 bottles of beer\n",
      " take one down, pass it around,\n",
      "98 bottles of beer on the wall\n",
      "98 bottles of beer on the wall\n",
      "98 bottles of beer\n",
      " take one down, pass it around,\n",
      "97 bottles of beer on the wall\n"
     ]
    }
   ],
   "source": [
    "for i in range(100,97,-1):\n",
    "    print(str(i) + \" bottles of beer on the wall\")\n",
    "    print(str(i) + \" bottles of beer\")\n",
    "    print(\" take one down, pass it around,\")\n",
    "    print(str(i-1) + \" bottles of beer on the wall\")"
   ]
  },
  {
   "cell_type": "code",
   "execution_count": 6,
   "metadata": {},
   "outputs": [
    {
     "name": "stdout",
     "output_type": "stream",
     "text": [
      "['100 bottles of beer on the wall \\n100 bottles of beer \\n take one down, pass it around, \\n99 bottles of beer on the wall \\n', '99 bottles of beer on the wall \\n99 bottles of beer \\n take one down, pass it around, \\n98 bottles of beer on the wall \\n', '98 bottles of beer on the wall \\n98 bottles of beer \\n take one down, pass it around, \\n97 bottles of beer on the wall \\n']\n",
      "['100 bottles of beer on the wall \\n100 bottles of beer \\n take one down, pass it around, \\n99 bottles of beer on the wall \\n', '99 bottles of beer on the wall \\n99 bottles of beer \\n take one down, pass it around, \\n98 bottles of beer on the wall \\n', '98 bottles of beer on the wall \\n98 bottles of beer \\n take one down, pass it around, \\n97 bottles of beer on the wall \\n']\n"
     ]
    }
   ],
   "source": [
    "def sing_verse(num):\n",
    "    song = str(num) + \" bottles of beer on the wall \\n\" + str(num) + \" bottles of beer \\n\" + \" take one down, pass it around, \\n\" + str(num-1) + \" bottles of beer on the wall \\n\"\n",
    "  \n",
    "    return song\n",
    "\n",
    "song = []\n",
    "\n",
    "for i in range(100,97,-1):\n",
    "    song.append(sing_verse(i))\n",
    "print(song)"
   ]
  },
  {
   "cell_type": "code",
   "execution_count": 7,
   "metadata": {},
   "outputs": [
    {
     "name": "stdout",
     "output_type": "stream",
     "text": [
      "[-2 -1 -3 -9  2]\n",
      "[-2 -1 -3 -9  2]\n"
     ]
    }
   ],
   "source": [
    "# vectorizing\n",
    "import numpy as np\n",
    "\n",
    "def sqrt_pos_unvec():\n",
    "    a_vec = np.array([-2, -1, -3, -9, 7])\n",
    "    is_pos = a_vec > 0\n",
    "    a_vec[is_pos] = np.sqrt(a_vec[is_pos])\n",
    "\n",
    "    return(a_vec)\n",
    "\n",
    "result = sqrt_pos_unvec()\n",
    "print(result)"
   ]
  },
  {
   "cell_type": "code",
   "execution_count": 9,
   "metadata": {},
   "outputs": [
    {
     "name": "stdout",
     "output_type": "stream",
     "text": [
      "[-2, -1, -3, -9, 2.6457513110645907]\n",
      "[-2, -1, -3, -9, 2.6457513110645907]\n"
     ]
    }
   ],
   "source": [
    "# class example to get exact sqrt of 7\n",
    "def sqrt_pos_unvec(x):\n",
    "    if x > 0:\n",
    "        return np.sqrt(x)\n",
    "    else:\n",
    "        return x\n",
    "new_vec = []\n",
    "a_vec = np.array([-2, -1, -3, -9, 7])\n",
    "for val in a_vec:\n",
    "    new_vec.append(sqrt_pos_unvec(val))\n",
    "print(new_vec)"
   ]
  },
  {
   "cell_type": "code",
   "execution_count": 10,
   "metadata": {},
   "outputs": [
    {
     "name": "stdout",
     "output_type": "stream",
     "text": [
      "[-2 -1 -3 -9  7]\n",
      "[-2 -1 -3 -9  2]\n",
      "[-2 -1 -3 -9  7]\n",
      "[-2 -1 -3 -9  2]\n"
     ]
    }
   ],
   "source": [
    "# class example\n",
    "def sqrt_pos_vec(x):\n",
    "    is_pos = x > 0 \n",
    "    x[is_pos] = np.sqrt(x[is_pos])\n",
    "\n",
    "    return x\n",
    "print(a_vec)\n",
    "print(sqrt_pos_vec(a_vec))\n"
   ]
  },
  {
   "cell_type": "code",
   "execution_count": 11,
   "metadata": {},
   "outputs": [
    {
     "name": "stdout",
     "output_type": "stream",
     "text": [
      "100 bottles of beer on the wall \n",
      "100 bottles of beer \n",
      " take one down, pass it around, \n",
      "99 bottles of beer on the wall \n",
      "99 bottles of beer on the wall \n",
      "99 bottles of beer \n",
      " take one down, pass it around, \n",
      "98 bottles of beer on the wall \n",
      "98 bottles of beer on the wall \n",
      "98 bottles of beer \n",
      " take one down, pass it around, \n",
      "97 bottles of beer on the wall \n",
      "\n",
      "100 bottles of beer on the wall \n",
      "100 bottles of beer \n",
      " take one down, pass it around, \n",
      "99 bottles of beer on the wall \n",
      "99 bottles of beer on the wall \n",
      "99 bottles of beer \n",
      " take one down, pass it around, \n",
      "98 bottles of beer on the wall \n",
      "98 bottles of beer on the wall \n",
      "98 bottles of beer \n",
      " take one down, pass it around, \n",
      "97 bottles of beer on the wall \n",
      "\n"
     ]
    }
   ],
   "source": [
    "# mapping\n",
    "song = map(sing_verse, range(100, 97, -1))\n",
    "song = list(song)\n",
    "print(\"\".join(song))\n"
   ]
  },
  {
   "cell_type": "code",
   "execution_count": 17,
   "metadata": {},
   "outputs": [],
   "source": [
    "def sing_verse_2(num, drink):\n",
    "    song = str(num) + \" bottles of \" + drink + \" on the wall \\n\"\n",
    "    song = song + str(num) + \" bottles of \" + drink + \"\\n\" \n",
    "    song = song + \" take one down, pass it around, \\n\"\n",
    "    song = song + str(num-1) + \" bottles of \" + drink + \" on the wall \\n\"\n",
    "  \n",
    "    return song"
   ]
  },
  {
   "cell_type": "code",
   "execution_count": 18,
   "metadata": {},
   "outputs": [
    {
     "name": "stdout",
     "output_type": "stream",
     "text": [
      "100 bottles of beer on the wall \n",
      "100 bottles of beer\n",
      " take one down, pass it around, \n",
      "99 bottles of beer on the wall \n",
      "99 bottles of milk on the wall \n",
      "99 bottles of milk\n",
      " take one down, pass it around, \n",
      "98 bottles of milk on the wall \n",
      "98 bottles of lemonade on the wall \n",
      "98 bottles of lemonade\n",
      " take one down, pass it around, \n",
      "97 bottles of lemonade on the wall \n",
      "\n",
      "100 bottles of beer on the wall \n",
      "100 bottles of beer\n",
      " take one down, pass it around, \n",
      "99 bottles of beer on the wall \n",
      "99 bottles of milk on the wall \n",
      "99 bottles of milk\n",
      " take one down, pass it around, \n",
      "98 bottles of milk on the wall \n",
      "98 bottles of lemonade on the wall \n",
      "98 bottles of lemonade\n",
      " take one down, pass it around, \n",
      "97 bottles of lemonade on the wall \n",
      "\n"
     ]
    }
   ],
   "source": [
    "nums = range(100, 97, -1)\n",
    "drinks = [\"beer\", \"milk\", \"lemonade\"]\n",
    "song = map(sing_verse_2, nums, drinks)\n",
    "print(\"\".join(list(song)))"
   ]
  },
  {
   "cell_type": "code",
   "execution_count": 20,
   "metadata": {},
   "outputs": [
    {
     "name": "stdout",
     "output_type": "stream",
     "text": [
      "100 bottles of lemonade on the wall \n",
      "100 bottles of lemonade\n",
      " take one down, pass it around, \n",
      "99 bottles of lemonade on the wall \n",
      "99 bottles of lemonade on the wall \n",
      "99 bottles of lemonade\n",
      " take one down, pass it around, \n",
      "98 bottles of lemonade on the wall \n",
      "98 bottles of lemonade on the wall \n",
      "98 bottles of lemonade\n",
      " take one down, pass it around, \n",
      "97 bottles of lemonade on the wall \n",
      "\n",
      "100 bottles of lemonade on the wall \n",
      "100 bottles of lemonade\n",
      " take one down, pass it around, \n",
      "99 bottles of lemonade on the wall \n",
      "99 bottles of lemonade on the wall \n",
      "99 bottles of lemonade\n",
      " take one down, pass it around, \n",
      "98 bottles of lemonade on the wall \n",
      "98 bottles of lemonade on the wall \n",
      "98 bottles of lemonade\n",
      " take one down, pass it around, \n",
      "97 bottles of lemonade on the wall \n",
      "\n"
     ]
    }
   ],
   "source": [
    "# lambda functions: changes beer to lemonade\n",
    "def sing_verse_lemonade(num):\n",
    "      return sing_verse_2(num, \"lemonade\")\n",
    "\n",
    "song = map(sing_verse_lemonade, nums)\n",
    "print(\"\".join(list(song)))"
   ]
  },
  {
   "cell_type": "code",
   "execution_count": 21,
   "metadata": {},
   "outputs": [
    {
     "name": "stdout",
     "output_type": "stream",
     "text": [
      "100 bottles of lemonade on the wall \n",
      "100 bottles of lemonade\n",
      " take one down, pass it around, \n",
      "99 bottles of lemonade on the wall \n",
      "99 bottles of lemonade on the wall \n",
      "99 bottles of lemonade\n",
      " take one down, pass it around, \n",
      "98 bottles of lemonade on the wall \n",
      "98 bottles of lemonade on the wall \n",
      "98 bottles of lemonade\n",
      " take one down, pass it around, \n",
      "97 bottles of lemonade on the wall \n",
      "\n",
      "100 bottles of lemonade on the wall \n",
      "100 bottles of lemonade\n",
      " take one down, pass it around, \n",
      "99 bottles of lemonade on the wall \n",
      "99 bottles of lemonade on the wall \n",
      "99 bottles of lemonade\n",
      " take one down, pass it around, \n",
      "98 bottles of lemonade on the wall \n",
      "98 bottles of lemonade on the wall \n",
      "98 bottles of lemonade\n",
      " take one down, pass it around, \n",
      "97 bottles of lemonade on the wall \n",
      "\n"
     ]
    }
   ],
   "source": [
    "# lambda replaces beer with lemonade more easily\n",
    "song = map(lambda i: sing_verse_2(i, \"lemonade\"), nums)\n",
    "print(\"\".join(list(song)))"
   ]
  },
  {
   "cell_type": "code",
   "execution_count": 23,
   "metadata": {},
   "outputs": [
    {
     "data": {
      "text/html": [
       "<div>\n",
       "<style scoped>\n",
       "    .dataframe tbody tr th:only-of-type {\n",
       "        vertical-align: middle;\n",
       "    }\n",
       "\n",
       "    .dataframe tbody tr th {\n",
       "        vertical-align: top;\n",
       "    }\n",
       "\n",
       "    .dataframe thead th {\n",
       "        text-align: right;\n",
       "    }\n",
       "</style>\n",
       "<table border=\"1\" class=\"dataframe\">\n",
       "  <thead>\n",
       "    <tr style=\"text-align: right;\">\n",
       "      <th></th>\n",
       "      <th>x</th>\n",
       "      <th>y</th>\n",
       "    </tr>\n",
       "  </thead>\n",
       "  <tbody>\n",
       "    <tr>\n",
       "      <th>0</th>\n",
       "      <td>9.949874</td>\n",
       "      <td>1.000000</td>\n",
       "    </tr>\n",
       "    <tr>\n",
       "      <th>1</th>\n",
       "      <td>7.071068</td>\n",
       "      <td>1.414214</td>\n",
       "    </tr>\n",
       "    <tr>\n",
       "      <th>2</th>\n",
       "      <td>1.414214</td>\n",
       "      <td>1.732051</td>\n",
       "    </tr>\n",
       "  </tbody>\n",
       "</table>\n",
       "</div>"
      ],
      "text/plain": [
       "          x         y\n",
       "0  9.949874  1.000000\n",
       "1  7.071068  1.414214\n",
       "2  1.414214  1.732051"
      ]
     },
     "execution_count": null,
     "metadata": {},
     "output_type": "execute_result"
    }
   ],
   "source": [
    "import pandas as pd\n",
    "dat = pd.DataFrame({\"x\": [99, 50, 2], \"y\": [1, 2, 3]})\n",
    "\n",
    "dat.apply(np.sqrt)"
   ]
  },
  {
   "cell_type": "code",
   "execution_count": 24,
   "metadata": {},
   "outputs": [
    {
     "data": {
      "text/plain": [
       "0    100\n",
       "1     52\n",
       "2      5\n",
       "dtype: int64"
      ]
     },
     "execution_count": null,
     "metadata": {},
     "output_type": "execute_result"
    }
   ],
   "source": [
    "dat.apply(np.sum, axis=1)"
   ]
  },
  {
   "cell_type": "code",
   "execution_count": null,
   "metadata": {},
   "outputs": [],
   "source": []
  }
 ],
 "metadata": {
  "language_info": {
   "name": "python"
  }
 },
 "nbformat": 4,
 "nbformat_minor": 2
}
